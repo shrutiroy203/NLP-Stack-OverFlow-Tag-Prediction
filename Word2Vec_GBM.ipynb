{
 "cells": [
  {
   "cell_type": "code",
   "execution_count": 1,
   "id": "forced-regard",
   "metadata": {},
   "outputs": [
    {
     "data": {
      "text/html": [
       "Current session configs: <tt>{'conf': {'spark.pyspark.python': 'python3', 'spark.pyspark.virtualenv.enabled': 'true', 'spark.pyspark.virtualenv.type': 'native', 'spark.pyspark.virtualenv.bin.path': '/usr/bin/virtualenv', 'spark.executor.heartbeatInterval': '10800s', 'spark.network.timeout': '24h', 'spark.driver.memory': '8G', 'spark.executor.memory': '8G', 'spark.executor.cores': '3', 'spark.dynamicAllocation.enabled': 'false', 'spark.ext.h2o.fail.on.unsupported.spark.param': 'false', 'spark.app.name': 'msds694'}, 'kind': 'pyspark'}</tt><br>"
      ],
      "text/plain": [
       "<IPython.core.display.HTML object>"
      ]
     },
     "metadata": {},
     "output_type": "display_data"
    },
    {
     "data": {
      "text/html": [
       "No active sessions."
      ],
      "text/plain": [
       "<IPython.core.display.HTML object>"
      ]
     },
     "metadata": {},
     "output_type": "display_data"
    }
   ],
   "source": [
    "%%configure -f \n",
    "{\n",
    "\"conf\":{\n",
    "        \"spark.pyspark.python\": \"python3\",\n",
    "        \"spark.pyspark.virtualenv.enabled\": \"true\",\n",
    "        \"spark.pyspark.virtualenv.type\":\"native\",\n",
    "        \"spark.pyspark.virtualenv.bin.path\":\"/usr/bin/virtualenv\",\n",
    "    \n",
    "        \"spark.executor.heartbeatInterval\":\"10800s\",\n",
    "        \"spark.network.timeout\":\"24h\",\n",
    "    \n",
    "        \"spark.driver.memory\": \"8G\",\n",
    "        \"spark.executor.memory\": \"8G\",\n",
    "        \"spark.executor.cores\":\"3\",\n",
    "    \n",
    "        \"spark.dynamicAllocation.enabled\":\"false\",\n",
    "        \"spark.ext.h2o.fail.on.unsupported.spark.param\":\"false\",    \n",
    "        \n",
    "        \"spark.app.name\":\"msds694\"\n",
    "      }\n",
    "}"
   ]
  },
  {
   "cell_type": "code",
   "execution_count": 2,
   "id": "enabling-eight",
   "metadata": {},
   "outputs": [
    {
     "data": {
      "application/vnd.jupyter.widget-view+json": {
       "model_id": "2e3bbf00a25d460f855631c36b07aeb2",
       "version_major": 2,
       "version_minor": 0
      },
      "text/plain": [
       "VBox()"
      ]
     },
     "metadata": {},
     "output_type": "display_data"
    },
    {
     "name": "stdout",
     "output_type": "stream",
     "text": [
      "Starting Spark application\n"
     ]
    },
    {
     "data": {
      "text/html": [
       "<table>\n",
       "<tr><th>ID</th><th>YARN Application ID</th><th>Kind</th><th>State</th><th>Spark UI</th><th>Driver log</th><th>Current session?</th></tr><tr><td>0</td><td>application_1615354225428_0012</td><td>pyspark</td><td>idle</td><td><a target=\"_blank\" href=\"http://ip-172-31-5-203.us-west-2.compute.internal:20888/proxy/application_1615354225428_0012/\">Link</a></td><td><a target=\"_blank\" href=\"http://ip-172-31-2-164.us-west-2.compute.internal:8042/node/containerlogs/container_1615354225428_0012_01_000001/livy\">Link</a></td><td>✔</td></tr></table>"
      ],
      "text/plain": [
       "<IPython.core.display.HTML object>"
      ]
     },
     "metadata": {},
     "output_type": "display_data"
    },
    {
     "data": {
      "application/vnd.jupyter.widget-view+json": {
       "model_id": "",
       "version_major": 2,
       "version_minor": 0
      },
      "text/plain": [
       "FloatProgress(value=0.0, bar_style='info', description='Progress:', layout=Layout(height='25px', width='50%'),…"
      ]
     },
     "metadata": {},
     "output_type": "display_data"
    },
    {
     "name": "stdout",
     "output_type": "stream",
     "text": [
      "SparkSession available as 'spark'.\n"
     ]
    },
    {
     "data": {
      "application/vnd.jupyter.widget-view+json": {
       "model_id": "",
       "version_major": 2,
       "version_minor": 0
      },
      "text/plain": [
       "FloatProgress(value=0.0, bar_style='info', description='Progress:', layout=Layout(height='25px', width='50%'),…"
      ]
     },
     "metadata": {},
     "output_type": "display_data"
    },
    {
     "name": "stdout",
     "output_type": "stream",
     "text": [
      "<SparkContext master=yarn appName=msds694>"
     ]
    }
   ],
   "source": [
    "sc"
   ]
  },
  {
   "cell_type": "code",
   "execution_count": 3,
   "id": "diagnostic-halloween",
   "metadata": {},
   "outputs": [
    {
     "data": {
      "application/vnd.jupyter.widget-view+json": {
       "model_id": "8073d4c541334ebe8f3935a9c484b0cf",
       "version_major": 2,
       "version_minor": 0
      },
      "text/plain": [
       "VBox()"
      ]
     },
     "metadata": {},
     "output_type": "display_data"
    },
    {
     "data": {
      "application/vnd.jupyter.widget-view+json": {
       "model_id": "",
       "version_major": 2,
       "version_minor": 0
      },
      "text/plain": [
       "FloatProgress(value=0.0, bar_style='info', description='Progress:', layout=Layout(height='25px', width='50%'),…"
      ]
     },
     "metadata": {},
     "output_type": "display_data"
    },
    {
     "name": "stdout",
     "output_type": "stream",
     "text": [
      "Collecting h2o-pysparkling-2.4\n",
      "  Using cached h2o_pysparkling_2.4-3.32.0.4.post1-py2.py3-none-any.whl\n",
      "Collecting tabulate\n",
      "  Using cached tabulate-0.8.9-py3-none-any.whl (25 kB)\n",
      "Collecting requests\n",
      "  Using cached requests-2.25.1-py2.py3-none-any.whl (61 kB)\n",
      "Collecting future\n",
      "  Using cached future-0.18.2-py3-none-any.whl\n",
      "Collecting colorama>=0.3.8\n",
      "  Using cached colorama-0.4.4-py2.py3-none-any.whl (16 kB)\n",
      "Collecting urllib3<1.27,>=1.21.1\n",
      "  Using cached urllib3-1.26.3-py2.py3-none-any.whl (137 kB)\n",
      "Collecting chardet<5,>=3.0.2\n",
      "  Using cached chardet-4.0.0-py2.py3-none-any.whl (178 kB)\n",
      "Collecting certifi>=2017.4.17\n",
      "  Using cached certifi-2020.12.5-py2.py3-none-any.whl (147 kB)\n",
      "Collecting idna<3,>=2.5\n",
      "  Using cached idna-2.10-py2.py3-none-any.whl (58 kB)\n",
      "Installing collected packages: urllib3, idna, chardet, certifi, tabulate, requests, future, colorama, h2o-pysparkling-2.4\n",
      "Successfully installed certifi-2020.12.5 chardet-4.0.0 colorama-0.4.4 future-0.18.2 h2o-pysparkling-2.4-3.32.0.4.post1 idna-2.10 requests-2.25.1 tabulate-0.8.9 urllib3-1.26.3\n",
      "\n",
      "Collecting h2o\n",
      "  Using cached h2o-3.32.0.4-py2.py3-none-any.whl\n",
      "Requirement already satisfied: tabulate in /mnt/tmp/1615361857876-0/lib/python3.6/site-packages (from h2o) (0.8.9)\n",
      "Requirement already satisfied: requests in /mnt/tmp/1615361857876-0/lib/python3.6/site-packages (from h2o) (2.25.1)\n",
      "Requirement already satisfied: future in /mnt/tmp/1615361857876-0/lib/python3.6/site-packages (from h2o) (0.18.2)\n",
      "Requirement already satisfied: colorama>=0.3.8 in /mnt/tmp/1615361857876-0/lib/python3.6/site-packages (from h2o) (0.4.4)\n",
      "Requirement already satisfied: idna<3,>=2.5 in /mnt/tmp/1615361857876-0/lib/python3.6/site-packages (from requests->h2o) (2.10)\n",
      "Requirement already satisfied: chardet<5,>=3.0.2 in /mnt/tmp/1615361857876-0/lib/python3.6/site-packages (from requests->h2o) (4.0.0)\n",
      "Requirement already satisfied: certifi>=2017.4.17 in /mnt/tmp/1615361857876-0/lib/python3.6/site-packages (from requests->h2o) (2020.12.5)\n",
      "Requirement already satisfied: urllib3<1.27,>=1.21.1 in /mnt/tmp/1615361857876-0/lib/python3.6/site-packages (from requests->h2o) (1.26.3)\n",
      "Installing collected packages: h2o\n",
      "Successfully installed h2o-3.32.0.4"
     ]
    }
   ],
   "source": [
    "sc.install_pypi_package(\"h2o-pysparkling-2.4\")\n",
    "sc.install_pypi_package(\"h2o\")"
   ]
  },
  {
   "cell_type": "code",
   "execution_count": 4,
   "id": "possible-condition",
   "metadata": {},
   "outputs": [
    {
     "data": {
      "application/vnd.jupyter.widget-view+json": {
       "model_id": "f21b9d210ddf493ab2e49a61d9f11773",
       "version_major": 2,
       "version_minor": 0
      },
      "text/plain": [
       "VBox()"
      ]
     },
     "metadata": {},
     "output_type": "display_data"
    },
    {
     "data": {
      "application/vnd.jupyter.widget-view+json": {
       "model_id": "",
       "version_major": 2,
       "version_minor": 0
      },
      "text/plain": [
       "FloatProgress(value=0.0, bar_style='info', description='Progress:', layout=Layout(height='25px', width='50%'),…"
      ]
     },
     "metadata": {},
     "output_type": "display_data"
    }
   ],
   "source": [
    "final_df=spark.read.parquet(\"s3a://facebookmsds694/final_df.parquet\")"
   ]
  },
  {
   "cell_type": "code",
   "execution_count": 5,
   "id": "pursuant-beverage",
   "metadata": {},
   "outputs": [
    {
     "data": {
      "application/vnd.jupyter.widget-view+json": {
       "model_id": "6bb7bcb3134f41f6ab43376e1e61ae0b",
       "version_major": 2,
       "version_minor": 0
      },
      "text/plain": [
       "VBox()"
      ]
     },
     "metadata": {},
     "output_type": "display_data"
    },
    {
     "data": {
      "application/vnd.jupyter.widget-view+json": {
       "model_id": "",
       "version_major": 2,
       "version_minor": 0
      },
      "text/plain": [
       "FloatProgress(value=0.0, bar_style='info', description='Progress:', layout=Layout(height='25px', width='50%'),…"
      ]
     },
     "metadata": {},
     "output_type": "display_data"
    }
   ],
   "source": [
    "from h2o.automl import H2OAutoML\n",
    "from pyspark.ml import Pipeline\n",
    "from pyspark.ml.feature import OneHotEncoder, StringIndexer, VectorAssembler, CountVectorizer\n",
    "from pyspark.sql import SparkSession\n",
    "from pyspark.sql.types import *\n",
    "from pyspark.sql import Row\n",
    "from pyspark.sql.functions import *\n",
    "from pysparkling import *\n",
    "import h2o"
   ]
  },
  {
   "cell_type": "code",
   "execution_count": 6,
   "id": "israeli-shannon",
   "metadata": {},
   "outputs": [
    {
     "data": {
      "application/vnd.jupyter.widget-view+json": {
       "model_id": "2aed5135ed5f4ba2ba1a56a6980170bb",
       "version_major": 2,
       "version_minor": 0
      },
      "text/plain": [
       "VBox()"
      ]
     },
     "metadata": {},
     "output_type": "display_data"
    },
    {
     "data": {
      "application/vnd.jupyter.widget-view+json": {
       "model_id": "",
       "version_major": 2,
       "version_minor": 0
      },
      "text/plain": [
       "FloatProgress(value=0.0, bar_style='info', description='Progress:', layout=Layout(height='25px', width='50%'),…"
      ]
     },
     "metadata": {},
     "output_type": "display_data"
    },
    {
     "name": "stdout",
     "output_type": "stream",
     "text": [
      "+--------------------+--------------------+--------------------+----------------+--------------------+--------------------+----------------+-----+\n",
      "|          Text_array|               Title|                Body|            Tags|      Text_array_new|        Text_Vectors|     Tags_joined|count|\n",
      "+--------------------+--------------------+--------------------+----------------+--------------------+--------------------+----------------+-----+\n",
      "|use,condit,given,...|how to use a whil...|<p>i am fetching ...|   php mysql sql|[use, condit, giv...|(20000,[0,1,9,22,...|   php mysql sql| 1649|\n",
      "|lose,day,random,a...|I lose each day a...|<p>Ok my problem ...|     probability|[lose, day, rando...|(20000,[19,20,30,...|     probability| 3847|\n",
      "|regard,painleve',...|Regarding Painlev...|<p>Painleve's fir...|complex-analysis|[regard, painleve...|(20000,[2,66,73,9...|complex-analysis| 2911|\n",
      "|contentel,part,vi...|Why ContentElemen...|<p>I was wonderin...|             wpf|[contentel, part,...|(20000,[0,1,6,41,...|             wpf| 2674|\n",
      "+--------------------+--------------------+--------------------+----------------+--------------------+--------------------+----------------+-----+\n",
      "only showing top 4 rows"
     ]
    }
   ],
   "source": [
    "final_df.show(4)"
   ]
  },
  {
   "cell_type": "code",
   "execution_count": 7,
   "id": "monthly-nancy",
   "metadata": {},
   "outputs": [
    {
     "data": {
      "application/vnd.jupyter.widget-view+json": {
       "model_id": "af6787d5da0d4b3d98d6bb5d79bd47e2",
       "version_major": 2,
       "version_minor": 0
      },
      "text/plain": [
       "VBox()"
      ]
     },
     "metadata": {},
     "output_type": "display_data"
    },
    {
     "data": {
      "application/vnd.jupyter.widget-view+json": {
       "model_id": "",
       "version_major": 2,
       "version_minor": 0
      },
      "text/plain": [
       "FloatProgress(value=0.0, bar_style='info', description='Progress:', layout=Layout(height='25px', width='50%'),…"
      ]
     },
     "metadata": {},
     "output_type": "display_data"
    }
   ],
   "source": [
    "filtered_df = final_df.withColumn(\"num_labels\",size(split(col('Tags'),\" \").cast(\"array<string>\"))).filter(col(\"num_labels\")==1)\n",
    "filtered_df_cache=filtered_df.cache()"
   ]
  },
  {
   "cell_type": "code",
   "execution_count": 8,
   "id": "enormous-petroleum",
   "metadata": {},
   "outputs": [
    {
     "data": {
      "application/vnd.jupyter.widget-view+json": {
       "model_id": "a926a2e16def4ca8a7b12c665a55d196",
       "version_major": 2,
       "version_minor": 0
      },
      "text/plain": [
       "VBox()"
      ]
     },
     "metadata": {},
     "output_type": "display_data"
    },
    {
     "data": {
      "application/vnd.jupyter.widget-view+json": {
       "model_id": "",
       "version_major": 2,
       "version_minor": 0
      },
      "text/plain": [
       "FloatProgress(value=0.0, bar_style='info', description='Progress:', layout=Layout(height='25px', width='50%'),…"
      ]
     },
     "metadata": {},
     "output_type": "display_data"
    },
    {
     "name": "stdout",
     "output_type": "stream",
     "text": [
      "+--------------------+--------------------+--------------------+--------------------+--------------------+--------------------+--------------------+-----+----------+\n",
      "|          Text_array|               Title|                Body|                Tags|      Text_array_new|        Text_Vectors|         Tags_joined|count|num_labels|\n",
      "+--------------------+--------------------+--------------------+--------------------+--------------------+--------------------+--------------------+-----+----------+\n",
      "|lose,day,random,a...|I lose each day a...|<p>Ok my problem ...|         probability|[lose, day, rando...|(20000,[19,20,30,...|         probability| 3847|         1|\n",
      "|regard,painleve',...|Regarding Painlev...|<p>Painleve's fir...|    complex-analysis|[regard, painleve...|(20000,[2,66,73,9...|    complex-analysis| 2911|         1|\n",
      "|contentel,part,vi...|Why ContentElemen...|<p>I was wonderin...|                 wpf|[contentel, part,...|(20000,[0,1,6,41,...|                 wpf| 2674|         1|\n",
      "|custom,cell,colum...|custom cell and c...|<p>Im using a cus...|              vb.net|[custom, cell, co...|(20000,[0,1,4,6,7...|              vb.net| 4265|         1|\n",
      "|c,use,struct,use,...|In C#, when shoul...|<blockquote>\n",
      "  <p...|                  c#|[c, use, struct, ...|(20000,[0,1,25,49...|                  c#|22889|         1|\n",
      "|defin,cursor,posi...|How can I define ...|<p>I wrote a <str...|          autohotkey|[defin, cursor, p...|(20000,[5,9,12,53...|          autohotkey|  365|         1|\n",
      "|java,basic,progra...|Java - Basic prog...|<p>I need directi...|                java|[java, basic, pro...|(20000,[1,2,3,14,...|                java|23751|         1|\n",
      "|javascript,dropdo...|Javascript DropDo...|<p>I was looking ...|          javascript|[javascript, drop...|(20000,[46,112,12...|          javascript|24995|         1|\n",
      "|use,javascript,pl...|Use JavaScript to...|<p>What is the be...|          javascript|[use, javascript,...|(20000,[1,17,19,7...|          javascript|24995|         1|\n",
      "|program,variabl,s...|Programming a var...|<p>I have a slide...|              iphone|[program, variabl...|(20000,[5,12,15,1...|              iphone|12552|         1|\n",
      "|z-index,position:...|z-indexs for posi...|<p>I want to put ...|                 css|[z-index, positio...|(20000,[0,5,9,14,...|                 css| 8738|         1|\n",
      "|ad,new,root,git,d...|Adding new roots ...|<blockquote>\n",
      "  <p...|                 git|[ad, new, root, g...|(20000,[0,4,5,9,1...|                 git| 5796|         1|\n",
      "|could,find,com_fa...|Could not find co...|<p>i am adding fa...|             android|[could, find, com...|(20000,[0,23,50,6...|             android|49783|         1|\n",
      "|two,empti,list,eq...|Why are two empty...|<p>I thought call...|                  c#|[two, empti, list...|(20000,[4,12,13,3...|                  c#|22889|         1|\n",
      "|iphon,core,data,w...|iPhone , core dat...|<p>I have use cor...|              iphone|[iphon, core, dat...|(20000,[1,5,20,25...|              iphone|12552|         1|\n",
      "|identifi,three,ty...|Identify the thre...|<p>Identify the t...|           algorithm|[identifi, three,...|(20000,[32,54,86,...|           algorithm| 1838|         1|\n",
      "|array,function,su...|array functions: ...|<p>We have a rath...|               excel|[array, function,...|(20000,[1,7,19,21...|               excel| 1197|         1|\n",
      "|onclick=\"javascri...|onclick=\"javascri...|<p>Is there any d...|          javascript|[onclick=\"javascr...|(20000,[1,21,60,1...|          javascript|24995|         1|\n",
      "|can't,file,larger...|can't have a file...|<p>what makes it ...|                java|[can't, file, lar...|(20000,[0,3,4,11,...|                java|23751|         1|\n",
      "|help,identifi,pro...|Help identifying ...|<p>Can anyone ide...|programming-langu...|[help, identifi, ...|(20000,[1,3,8,10,...|programming-langu...|  670|         1|\n",
      "+--------------------+--------------------+--------------------+--------------------+--------------------+--------------------+--------------------+-----+----------+\n",
      "only showing top 20 rows"
     ]
    }
   ],
   "source": [
    "filtered_df_cache.show()"
   ]
  },
  {
   "cell_type": "code",
   "execution_count": 9,
   "id": "marine-latin",
   "metadata": {},
   "outputs": [
    {
     "data": {
      "application/vnd.jupyter.widget-view+json": {
       "model_id": "5095c64c06a04530a31e4fb7858e7f2a",
       "version_major": 2,
       "version_minor": 0
      },
      "text/plain": [
       "VBox()"
      ]
     },
     "metadata": {},
     "output_type": "display_data"
    },
    {
     "data": {
      "application/vnd.jupyter.widget-view+json": {
       "model_id": "",
       "version_major": 2,
       "version_minor": 0
      },
      "text/plain": [
       "FloatProgress(value=0.0, bar_style='info', description='Progress:', layout=Layout(height='25px', width='50%'),…"
      ]
     },
     "metadata": {},
     "output_type": "display_data"
    }
   ],
   "source": [
    "filtered_df_cache_text=filtered_df_cache.withColumn(\"Text\",concat(col(\"Title\"),lit(\" \"),col(\"Body\")))\\\n",
    "                                .select(\"Text\",\"Tags\")"
   ]
  },
  {
   "cell_type": "code",
   "execution_count": 10,
   "id": "native-essay",
   "metadata": {},
   "outputs": [
    {
     "data": {
      "application/vnd.jupyter.widget-view+json": {
       "model_id": "4a58db3e6c33464b9054fbcfdee9b08d",
       "version_major": 2,
       "version_minor": 0
      },
      "text/plain": [
       "VBox()"
      ]
     },
     "metadata": {},
     "output_type": "display_data"
    },
    {
     "data": {
      "application/vnd.jupyter.widget-view+json": {
       "model_id": "",
       "version_major": 2,
       "version_minor": 0
      },
      "text/plain": [
       "FloatProgress(value=0.0, bar_style='info', description='Progress:', layout=Layout(height='25px', width='50%'),…"
      ]
     },
     "metadata": {},
     "output_type": "display_data"
    },
    {
     "name": "stdout",
     "output_type": "stream",
     "text": [
      "+--------------------+--------------------+\n",
      "|                Text|                Tags|\n",
      "+--------------------+--------------------+\n",
      "|I lose each day a...|         probability|\n",
      "|Regarding Painlev...|    complex-analysis|\n",
      "|Why ContentElemen...|                 wpf|\n",
      "|custom cell and c...|              vb.net|\n",
      "|In C#, when shoul...|                  c#|\n",
      "|How can I define ...|          autohotkey|\n",
      "|Java - Basic prog...|                java|\n",
      "|Javascript DropDo...|          javascript|\n",
      "|Use JavaScript to...|          javascript|\n",
      "|Programming a var...|              iphone|\n",
      "|z-indexs for posi...|                 css|\n",
      "|Adding new roots ...|                 git|\n",
      "|Could not find co...|             android|\n",
      "|Why are two empty...|                  c#|\n",
      "|iPhone , core dat...|              iphone|\n",
      "|Identify the thre...|           algorithm|\n",
      "|array functions: ...|               excel|\n",
      "|onclick=\"javascri...|          javascript|\n",
      "|can't have a file...|                java|\n",
      "|Help identifying ...|programming-langu...|\n",
      "+--------------------+--------------------+\n",
      "only showing top 20 rows\n",
      "\n",
      "DataFrame[Text_array: string, Title: string, Body: string, Tags: string, Text_array_new: array<string>, Text_Vectors: vector, Tags_joined: string, count: bigint, num_labels: int]"
     ]
    }
   ],
   "source": [
    "filtered_df_cache_text.cache()\n",
    "filtered_df_cache_text.show()\n",
    "filtered_df_cache.unpersist()"
   ]
  },
  {
   "cell_type": "code",
   "execution_count": 11,
   "id": "successful-character",
   "metadata": {},
   "outputs": [
    {
     "data": {
      "application/vnd.jupyter.widget-view+json": {
       "model_id": "307dd98df103493baedfcae677a5c090",
       "version_major": 2,
       "version_minor": 0
      },
      "text/plain": [
       "VBox()"
      ]
     },
     "metadata": {},
     "output_type": "display_data"
    },
    {
     "data": {
      "application/vnd.jupyter.widget-view+json": {
       "model_id": "",
       "version_major": 2,
       "version_minor": 0
      },
      "text/plain": [
       "FloatProgress(value=0.0, bar_style='info', description='Progress:', layout=Layout(height='25px', width='50%'),…"
      ]
     },
     "metadata": {},
     "output_type": "display_data"
    },
    {
     "name": "stdout",
     "output_type": "stream",
     "text": [
      "Connecting to H2O server at http://ip-172-31-5-203.us-west-2.compute.internal:54322 ... successful.\n",
      "--------------------------  -------------------------------------------------------------------------------------------------------\n",
      "H2O_cluster_uptime:         11 secs\n",
      "H2O_cluster_timezone:       UTC\n",
      "H2O_data_parsing_timezone:  UTC\n",
      "H2O_cluster_version:        3.32.0.4\n",
      "H2O_cluster_version_age:    1 month and 8 days\n",
      "H2O_cluster_name:           sparkling-water-livy_application_1615354225428_0012\n",
      "H2O_cluster_total_nodes:    2\n",
      "H2O_cluster_free_memory:    15.81 Gb\n",
      "H2O_cluster_total_cores:    8\n",
      "H2O_cluster_allowed_cores:  6\n",
      "H2O_cluster_status:         locked, healthy\n",
      "H2O_connection_url:         http://ip-172-31-5-203.us-west-2.compute.internal:54322\n",
      "H2O_connection_proxy:       null\n",
      "H2O_internal_security:      False\n",
      "H2O_API_Extensions:         XGBoost, Algos, Amazon S3, Sparkling Water REST API Extensions, AutoML, Core V3, TargetEncoder, Core V4\n",
      "Python_version:             3.6.8 final\n",
      "--------------------------  -------------------------------------------------------------------------------------------------------\n",
      "\n",
      "Sparkling Water Context:\n",
      " * Sparkling Water Version: 3.32.0.4-1-2.4\n",
      " * H2O name: livy\n",
      " * cluster size: 2\n",
      " * list of used nodes:\n",
      "  (executorId, host, port)\n",
      "  ------------------------\n",
      "  (0,172.31.6.152,54321)\n",
      "  (1,172.31.10.197,54321)\n",
      "  ------------------------\n",
      "\n",
      "  Open H2O Flow in browser: http://ip-172-31-5-203.us-west-2.compute.internal:54322 (CMD + click in Mac OSX)\n",
      "\n",
      "    \n",
      " * Yarn App ID of Spark application: application_1615354225428_0012"
     ]
    }
   ],
   "source": [
    "from pysparkling import *\n",
    "hc = H2OContext.getOrCreate()"
   ]
  },
  {
   "cell_type": "code",
   "execution_count": 12,
   "id": "alternate-climate",
   "metadata": {},
   "outputs": [
    {
     "data": {
      "application/vnd.jupyter.widget-view+json": {
       "model_id": "010aedad5c4a4fd8ab39edaf190ee486",
       "version_major": 2,
       "version_minor": 0
      },
      "text/plain": [
       "VBox()"
      ]
     },
     "metadata": {},
     "output_type": "display_data"
    },
    {
     "data": {
      "application/vnd.jupyter.widget-view+json": {
       "model_id": "",
       "version_major": 2,
       "version_minor": 0
      },
      "text/plain": [
       "FloatProgress(value=0.0, bar_style='info', description='Progress:', layout=Layout(height='25px', width='50%'),…"
      ]
     },
     "metadata": {},
     "output_type": "display_data"
    }
   ],
   "source": [
    "filt_h2o= hc.asH2OFrame(filtered_df_cache_text, \"filt_h2o\")"
   ]
  },
  {
   "cell_type": "code",
   "execution_count": 13,
   "id": "secondary-listing",
   "metadata": {},
   "outputs": [
    {
     "data": {
      "application/vnd.jupyter.widget-view+json": {
       "model_id": "da699dbebaaf445db2b5ccb1a8b002fd",
       "version_major": 2,
       "version_minor": 0
      },
      "text/plain": [
       "VBox()"
      ]
     },
     "metadata": {},
     "output_type": "display_data"
    },
    {
     "data": {
      "application/vnd.jupyter.widget-view+json": {
       "model_id": "",
       "version_major": 2,
       "version_minor": 0
      },
      "text/plain": [
       "FloatProgress(value=0.0, bar_style='info', description='Progress:', layout=Layout(height='25px', width='50%'),…"
      ]
     },
     "metadata": {},
     "output_type": "display_data"
    },
    {
     "name": "stdout",
     "output_type": "stream",
     "text": [
      "DataFrame[Text_array: string, Title: string, Body: string, Tags: string, Text_array_new: array<string>, Text_Vectors: vector, Tags_joined: string, count: bigint, num_labels: int]"
     ]
    }
   ],
   "source": [
    "[trainingDF, testingDF] = filtered_df_cache_text.randomSplit([0.8, 0.2])\n",
    "trainingDF.cache()\n",
    "testingDF.cache()\n",
    "filtered_df_cache.unpersist()"
   ]
  },
  {
   "cell_type": "code",
   "execution_count": 14,
   "id": "anticipated-visibility",
   "metadata": {},
   "outputs": [
    {
     "data": {
      "application/vnd.jupyter.widget-view+json": {
       "model_id": "38b3e00bff7b4f778a30027c72723f6d",
       "version_major": 2,
       "version_minor": 0
      },
      "text/plain": [
       "VBox()"
      ]
     },
     "metadata": {},
     "output_type": "display_data"
    },
    {
     "data": {
      "application/vnd.jupyter.widget-view+json": {
       "model_id": "",
       "version_major": 2,
       "version_minor": 0
      },
      "text/plain": [
       "FloatProgress(value=0.0, bar_style='info', description='Progress:', layout=Layout(height='25px', width='50%'),…"
      ]
     },
     "metadata": {},
     "output_type": "display_data"
    }
   ],
   "source": [
    "from pysparkling.ml import H2OGBM, H2OWord2Vec\n",
    "from pyspark.ml import Pipeline\n",
    "from pyspark.ml.feature import RegexTokenizer, StopWordsRemover\n",
    "\n",
    "tokenizer = RegexTokenizer(inputCol=\"Text\", minTokenLength=2)\n",
    "stopWordsRemover = StopWordsRemover(inputCol=tokenizer.getOutputCol())\n",
    "w2v = H2OWord2Vec(sentSampleRate=0, epochs=10, inputCol=stopWordsRemover.getOutputCol())\n",
    "gbm = H2OGBM(labelCol=\"Tags\", featuresCols=[w2v.getOutputCol()])\n",
    "\n",
    "pipeline = Pipeline(stages=[tokenizer, stopWordsRemover, w2v, gbm])"
   ]
  },
  {
   "cell_type": "code",
   "execution_count": null,
   "id": "rental-application",
   "metadata": {},
   "outputs": [
    {
     "data": {
      "application/vnd.jupyter.widget-view+json": {
       "model_id": "82d75f4b87fe4910bfb69cd95fa2204a",
       "version_major": 2,
       "version_minor": 0
      },
      "text/plain": [
       "VBox()"
      ]
     },
     "metadata": {},
     "output_type": "display_data"
    },
    {
     "data": {
      "application/vnd.jupyter.widget-view+json": {
       "model_id": "298b61d1679347bab6853744708364cc",
       "version_major": 2,
       "version_minor": 0
      },
      "text/plain": [
       "FloatProgress(value=0.0, bar_style='info', description='Progress:', layout=Layout(height='25px', width='50%'),…"
      ]
     },
     "metadata": {},
     "output_type": "display_data"
    }
   ],
   "source": [
    "model = pipeline.fit(trainingDF)"
   ]
  },
  {
   "cell_type": "code",
   "execution_count": 20,
   "id": "prepared-enterprise",
   "metadata": {},
   "outputs": [
    {
     "data": {
      "application/vnd.jupyter.widget-view+json": {
       "model_id": "26e9a5c76aad460c9e80d443b59e4b63",
       "version_major": 2,
       "version_minor": 0
      },
      "text/plain": [
       "VBox()"
      ]
     },
     "metadata": {},
     "output_type": "display_data"
    },
    {
     "data": {
      "application/vnd.jupyter.widget-view+json": {
       "model_id": "",
       "version_major": 2,
       "version_minor": 0
      },
      "text/plain": [
       "FloatProgress(value=0.0, bar_style='info', description='Progress:', layout=Layout(height='25px', width='50%'),…"
      ]
     },
     "metadata": {},
     "output_type": "display_data"
    }
   ],
   "source": [
    "predictions= model.transform(testingDF)"
   ]
  },
  {
   "cell_type": "code",
   "execution_count": null,
   "id": "amino-marsh",
   "metadata": {},
   "outputs": [],
   "source": [
    "predictions_2=hc.asSparkFrame(predictions)\n",
    "predictions_2.write.parquet(\"s3a://facebookmsds694/prediction.parquet\")"
   ]
  },
  {
   "cell_type": "code",
   "execution_count": null,
   "id": "exclusive-flood",
   "metadata": {},
   "outputs": [],
   "source": [
    "testingDF.write.parquet(\"s3a://facebookmsds694/testing.parquet\")"
   ]
  },
  {
   "cell_type": "code",
   "execution_count": 23,
   "id": "acting-genius",
   "metadata": {},
   "outputs": [
    {
     "data": {
      "application/vnd.jupyter.widget-view+json": {
       "model_id": "62554627533b4cafaa55220ee3921487",
       "version_major": 2,
       "version_minor": 0
      },
      "text/plain": [
       "VBox()"
      ]
     },
     "metadata": {},
     "output_type": "display_data"
    },
    {
     "data": {
      "application/vnd.jupyter.widget-view+json": {
       "model_id": "",
       "version_major": 2,
       "version_minor": 0
      },
      "text/plain": [
       "FloatProgress(value=0.0, bar_style='info', description='Progress:', layout=Layout(height='25px', width='50%'),…"
      ]
     },
     "metadata": {},
     "output_type": "display_data"
    },
    {
     "name": "stdout",
     "output_type": "stream",
     "text": [
      "<class 'pyspark.sql.dataframe.DataFrame'>"
     ]
    }
   ],
   "source": [
    "type(predictions)"
   ]
  },
  {
   "cell_type": "code",
   "execution_count": 24,
   "id": "lasting-toner",
   "metadata": {},
   "outputs": [
    {
     "data": {
      "application/vnd.jupyter.widget-view+json": {
       "model_id": "3b2edc012ec5494faca734e1cd76adf4",
       "version_major": 2,
       "version_minor": 0
      },
      "text/plain": [
       "VBox()"
      ]
     },
     "metadata": {},
     "output_type": "display_data"
    },
    {
     "data": {
      "application/vnd.jupyter.widget-view+json": {
       "model_id": "",
       "version_major": 2,
       "version_minor": 0
      },
      "text/plain": [
       "FloatProgress(value=0.0, bar_style='info', description='Progress:', layout=Layout(height='25px', width='50%'),…"
      ]
     },
     "metadata": {},
     "output_type": "display_data"
    }
   ],
   "source": [
    "predictions.write.parquet(\"s3a://facebookmsds694/prediction.parquet\")"
   ]
  },
  {
   "cell_type": "code",
   "execution_count": 25,
   "id": "applied-dictionary",
   "metadata": {},
   "outputs": [
    {
     "data": {
      "application/vnd.jupyter.widget-view+json": {
       "model_id": "49fe33da870449d88f954ede9d07cb5a",
       "version_major": 2,
       "version_minor": 0
      },
      "text/plain": [
       "VBox()"
      ]
     },
     "metadata": {},
     "output_type": "display_data"
    },
    {
     "data": {
      "application/vnd.jupyter.widget-view+json": {
       "model_id": "",
       "version_major": 2,
       "version_minor": 0
      },
      "text/plain": [
       "FloatProgress(value=0.0, bar_style='info', description='Progress:', layout=Layout(height='25px', width='50%'),…"
      ]
     },
     "metadata": {},
     "output_type": "display_data"
    },
    {
     "name": "stdout",
     "output_type": "stream",
     "text": [
      "+--------------------+-------------------+-----------------------------------+-------------------------------------+--------------------+--------------------+------------------+\n",
      "|                Text|               Tags|RegexTokenizer_4c8826e430e4__output|StopWordsRemover_0332b7e641f4__output| detailed_prediction|  H2OWord2Vec_output|        prediction|\n",
      "+--------------------+-------------------+-----------------------------------+-------------------------------------+--------------------+--------------------+------------------+\n",
      "| NetworkOnMainMai...|            android|               [networkonmainmai...|                 [networkonmainmai...|[android, [2.4106...|[0.021983212, 0.0...|           android|\n",
      "| Ten employees, $...|      combinatorics|               [ten, employees,,...|                 [ten, employees,,...|[combinatorics, [...|[0.22891362, -0.1...|     combinatorics|\n",
      "|\"Declaration of x...|                c++|               [\"declaration, of...|                 [\"declaration, xx...|[c++, [7.44194647...|[0.56978333, -0.0...|               c++|\n",
      "|\"Error notifying ...|            eclipse|               [\"error, notifyin...|                 [\"error, notifyin...|[android, [2.9297...|[0.102338426, 0.0...|           android|\n",
      "|\"Implicit declara...|              cocoa|               [\"implicit, decla...|                 [\"implicit, decla...|[c, [6.5656184071...|[0.16373198, -0.0...|                 c|\n",
      "|\"Or\" in If Blocks...|               ruby|               [\"or\", in, if, bl...|                 [\"or\", blocks, ru...|[php, [3.01928318...|[0.14850032, -0.0...|               php|\n",
      "|\"Substring\" a Num...|                 c#|               [\"substring\", num...|                 [\"substring\", num...|[c, [1.6400090458...|[0.19276884, -0.0...|                 c|\n",
      "|\"could not load f...|                 c#|               [\"could, not, loa...|                 [\"could, load, fi...|[visual-studio, [...|[0.11598234, 0.02...|     visual-studio|\n",
      "|\"rotationally cor...|           tikz-pgf|               [\"rotationally, c...|                 [\"rotationally, c...|[tikz-pgf, [3.574...|[0.10194213, 0.05...|          tikz-pgf|\n",
      "|\"this\" in JavaScr...|         javascript|               [\"this\", in, java...|                 [\"this\", javascri...|[javascript, [9.0...|[0.13028735, 0.03...|        javascript|\n",
      "|\"unterminated str...|         javascript|               [\"unterminated, s...|                 [\"unterminated, s...|[php, [2.40252857...|[0.09689291, 0.04...|               php|\n",
      "|\"using\" namespace...|            asp.net|               [\"using\", namespa...|                 [\"using\", namespa...|[c#, [4.189244676...|[0.11578156, 0.01...|                c#|\n",
      "|#1242 - Subquery ...|              mysql|               [#1242, subquery,...|                 [#1242, subquery,...|[mysql, [1.048632...|[0.26450607, -0.1...|             mysql|\n",
      "|#define TRACE(......|                c++|               [#define, trace(....|                 [#define, trace(....|[c, [1.9670742204...|[0.19076145, 0.06...|                 c|\n",
      "|$ not defined err...|             jquery|               [not, defined, er...|                 [defined, error, ...|[google-maps-api-...|[0.008663497, -0....| google-maps-api-3|\n",
      "|$(function(){});,...|             jquery|               [$(function(){});...|                 [$(function(){});...|[jquery, [3.79668...|[0.10758537, 0.01...|            jquery|\n",
      "|$A,B\\in M_{n}(\\ma...|     linear-algebra|               [$a,b\\in, m_{n}(\\...|                 [$a,b\\in, m_{n}(\\...|[linear-algebra, ...|[0.16954699, 0.05...|    linear-algebra|\n",
      "|$GLOBALS[\"argv\"] ...|                php|               [$globals[\"argv\"]...|                 [$globals[\"argv\"]...|[php, [4.23846069...|[0.07193596, 0.01...|               php|\n",
      "|$L^p$ function th...|functional-analysis|               [$l^p$, function,...|                 [$l^p$, function,...|[algebraic-topolo...|[0.15041544, 0.04...|algebraic-topology|\n",
      "|$QR$ decompositio...|           matrices|               [$qr$, decomposit...|                 [$qr$, decomposit...|[linear-algebra, ...|[0.28923663, 0.02...|    linear-algebra|\n",
      "+--------------------+-------------------+-----------------------------------+-------------------------------------+--------------------+--------------------+------------------+\n",
      "only showing top 20 rows"
     ]
    }
   ],
   "source": [
    "predictions.show()"
   ]
  },
  {
   "cell_type": "code",
   "execution_count": 41,
   "id": "outer-belize",
   "metadata": {},
   "outputs": [
    {
     "data": {
      "application/vnd.jupyter.widget-view+json": {
       "model_id": "1e29dbdcb9d94891aeb6c6656454d332",
       "version_major": 2,
       "version_minor": 0
      },
      "text/plain": [
       "VBox()"
      ]
     },
     "metadata": {},
     "output_type": "display_data"
    },
    {
     "data": {
      "application/vnd.jupyter.widget-view+json": {
       "model_id": "",
       "version_major": 2,
       "version_minor": 0
      },
      "text/plain": [
       "FloatProgress(value=0.0, bar_style='info', description='Progress:', layout=Layout(height='25px', width='50%'),…"
      ]
     },
     "metadata": {},
     "output_type": "display_data"
    },
    {
     "name": "stdout",
     "output_type": "stream",
     "text": [
      "root\n",
      " |-- Text: string (nullable = true)\n",
      " |-- Tags: string (nullable = true)\n",
      " |-- RegexTokenizer_4c8826e430e4__output: array (nullable = true)\n",
      " |    |-- element: string (containsNull = true)\n",
      " |-- StopWordsRemover_0332b7e641f4__output: array (nullable = true)\n",
      " |    |-- element: string (containsNull = true)\n",
      " |-- detailed_prediction: struct (nullable = true)\n",
      " |    |-- label: string (nullable = true)\n",
      " |    |-- probabilities: struct (nullable = false)\n",
      " |    |    |-- .htaccess: double (nullable = false)\n",
      " |    |    |-- .net: double (nullable = false)\n",
      " |    |    |-- 2007: double (nullable = false)\n",
      " |    |    |-- 2010: double (nullable = false)\n",
      " |    |    |-- abstract-algebra: double (nullable = false)\n",
      " |    |    |-- actionscript-3: double (nullable = false)\n",
      " |    |    |-- active-directory: double (nullable = false)\n",
      " |    |    |-- ajax: double (nullable = false)\n",
      " |    |    |-- algebra-precalculus: double (nullable = false)\n",
      " |    |    |-- algebraic-geometry: double (nullable = false)\n",
      " |    |    |-- algebraic-number-theory: double (nullable = false)\n",
      " |    |    |-- algebraic-topology: double (nullable = false)\n",
      " |    |    |-- algorithm: double (nullable = false)\n",
      " |    |    |-- algorithms: double (nullable = false)\n",
      " |    |    |-- amazon-ec2: double (nullable = false)\n",
      " |    |    |-- analysis: double (nullable = false)\n",
      " |    |    |-- android: double (nullable = false)\n",
      " |    |    |-- android-layout: double (nullable = false)\n",
      " |    |    |-- angularjs: double (nullable = false)\n",
      " |    |    |-- ant: double (nullable = false)\n",
      " |    |    |-- apache: double (nullable = false)\n",
      " |    |    |-- apache2: double (nullable = false)\n",
      " |    |    |-- applescript: double (nullable = false)\n",
      " |    |    |-- arithmetic: double (nullable = false)\n",
      " |    |    |-- asp-classic: double (nullable = false)\n",
      " |    |    |-- asp.net: double (nullable = false)\n",
      " |    |    |-- asp.net-mvc: double (nullable = false)\n",
      " |    |    |-- asp.net-mvc-2: double (nullable = false)\n",
      " |    |    |-- asp.net-mvc-3: double (nullable = false)\n",
      " |    |    |-- assembly: double (nullable = false)\n",
      " |    |    |-- autohotkey: double (nullable = false)\n",
      " |    |    |-- awk: double (nullable = false)\n",
      " |    |    |-- azure: double (nullable = false)\n",
      " |    |    |-- backbone.js: double (nullable = false)\n",
      " |    |    |-- backup: double (nullable = false)\n",
      " |    |    |-- bash: double (nullable = false)\n",
      " |    |    |-- batch: double (nullable = false)\n",
      " |    |    |-- batch-file: double (nullable = false)\n",
      " |    |    |-- beamer: double (nullable = false)\n",
      " |    |    |-- biblatex: double (nullable = false)\n",
      " |    |    |-- bibtex: double (nullable = false)\n",
      " |    |    |-- blackberry: double (nullable = false)\n",
      " |    |    |-- c: double (nullable = false)\n",
      " |    |    |-- c#: double (nullable = false)\n",
      " |    |    |-- c#-3.0: double (nullable = false)\n",
      " |    |    |-- c#-4.0: double (nullable = false)\n",
      " |    |    |-- c++: double (nullable = false)\n",
      " |    |    |-- cakephp: double (nullable = false)\n",
      " |    |    |-- calculus: double (nullable = false)\n",
      " |    |    |-- career-development: double (nullable = false)\n",
      " |    |    |-- cassandra: double (nullable = false)\n",
      " |    |    |-- categories: double (nullable = false)\n",
      " |    |    |-- category-theory: double (nullable = false)\n",
      " |    |    |-- clojure: double (nullable = false)\n",
      " |    |    |-- cmake: double (nullable = false)\n",
      " |    |    |-- cocoa: double (nullable = false)\n",
      " |    |    |-- cocos2d-iphone: double (nullable = false)\n",
      " |    |    |-- codeigniter: double (nullable = false)\n",
      " |    |    |-- coldfusion: double (nullable = false)\n",
      " |    |    |-- combinatorics: double (nullable = false)\n",
      " |    |    |-- comments: double (nullable = false)\n",
      " |    |    |-- commutative-algebra: double (nullable = false)\n",
      " |    |    |-- complex-analysis: double (nullable = false)\n",
      " |    |    |-- complex-numbers: double (nullable = false)\n",
      " |    |    |-- couchdb: double (nullable = false)\n",
      " |    |    |-- cron: double (nullable = false)\n",
      " |    |    |-- crystal-reports: double (nullable = false)\n",
      " |    |    |-- css: double (nullable = false)\n",
      " |    |    |-- cuda: double (nullable = false)\n",
      " |    |    |-- custom-post-types: double (nullable = false)\n",
      " |    |    |-- d3.js: double (nullable = false)\n",
      " |    |    |-- database: double (nullable = false)\n",
      " |    |    |-- database-design: double (nullable = false)\n",
      " |    |    |-- delphi: double (nullable = false)\n",
      " |    |    |-- design: double (nullable = false)\n",
      " |    |    |-- design-patterns: double (nullable = false)\n",
      " |    |    |-- development: double (nullable = false)\n",
      " |    |    |-- differential-equations: double (nullable = false)\n",
      " |    |    |-- differential-geometry: double (nullable = false)\n",
      " |    |    |-- discrete-mathematics: double (nullable = false)\n",
      " |    |    |-- django: double (nullable = false)\n",
      " |    |    |-- dns: double (nullable = false)\n",
      " |    |    |-- dojo: double (nullable = false)\n",
      " |    |    |-- drupal: double (nullable = false)\n",
      " |    |    |-- drupal-7: double (nullable = false)\n",
      " |    |    |-- eclipse: double (nullable = false)\n",
      " |    |    |-- education: double (nullable = false)\n",
      " |    |    |-- elementary-number-theory: double (nullable = false)\n",
      " |    |    |-- elementary-set-theory: double (nullable = false)\n",
      " |    |    |-- emacs: double (nullable = false)\n",
      " |    |    |-- email: double (nullable = false)\n",
      " |    |    |-- ember.js: double (nullable = false)\n",
      " |    |    |-- entity-framework: double (nullable = false)\n",
      " |    |    |-- entity-framework-4: double (nullable = false)\n",
      " |    |    |-- erlang: double (nullable = false)\n",
      " |    |    |-- excel: double (nullable = false)\n",
      " |    |    |-- excel-vba: double (nullable = false)\n",
      " |    |    |-- extjs: double (nullable = false)\n",
      " |    |    |-- extjs4: double (nullable = false)\n",
      " |    |    |-- f#: double (nullable = false)\n",
      " |    |    |-- facebook: double (nullable = false)\n",
      " |    |    |-- facebook-graph-api: double (nullable = false)\n",
      " |    |    |-- ffmpeg: double (nullable = false)\n",
      " |    |    |-- firefox: double (nullable = false)\n",
      " |    |    |-- flash: double (nullable = false)\n",
      " |    |    |-- flex: double (nullable = false)\n",
      " |    |    |-- fonts: double (nullable = false)\n",
      " |    |    |-- fourier-analysis: double (nullable = false)\n",
      " |    |    |-- ftp: double (nullable = false)\n",
      " |    |    |-- functional-analysis: double (nullable = false)\n",
      " |    |    |-- functions: double (nullable = false)\n",
      " |    |    |-- general-topology: double (nullable = false)\n",
      " |    |    |-- geometry: double (nullable = false)\n",
      " |    |    |-- git: double (nullable = false)\n",
      " |    |    |-- github: double (nullable = false)\n",
      " |    |    |-- gnuplot: double (nullable = false)\n",
      " |    |    |-- go: double (nullable = false)\n",
      " |    |    |-- google-analytics: double (nullable = false)\n",
      " |    |    |-- google-app-engine: double (nullable = false)\n",
      " |    |    |-- google-apps-script: double (nullable = false)\n",
      " |    |    |-- google-chrome: double (nullable = false)\n",
      " |    |    |-- google-chrome-extension: double (nullable = false)\n",
      " |    |    |-- google-drive-sdk: double (nullable = false)\n",
      " |    |    |-- google-maps: double (nullable = false)\n",
      " |    |    |-- google-maps-api-3: double (nullable = false)\n",
      " |    |    |-- grails: double (nullable = false)\n",
      " |    |    |-- graph-theory: double (nullable = false)\n",
      " |    |    |-- graphics: double (nullable = false)\n",
      " |    |    |-- groovy: double (nullable = false)\n",
      " |    |    |-- group-theory: double (nullable = false)\n",
      " |    |    |-- gwt: double (nullable = false)\n",
      " |    |    |-- hadoop: double (nullable = false)\n",
      " |    |    |-- hard-drive: double (nullable = false)\n",
      " |    |    |-- haskell: double (nullable = false)\n",
      " |    |    |-- hibernate: double (nullable = false)\n",
      " |    |    |-- highcharts: double (nullable = false)\n",
      " |    |    |-- homework: double (nullable = false)\n",
      " |    |    |-- html: double (nullable = false)\n",
      " |    |    |-- html5: double (nullable = false)\n",
      " |    |    |-- iis: double (nullable = false)\n",
      " |    |    |-- iis7: double (nullable = false)\n",
      " |    |    |-- inequality: double (nullable = false)\n",
      " |    |    |-- infopath: double (nullable = false)\n",
      " |    |    |-- inno-setup: double (nullable = false)\n",
      " |    |    |-- integral: double (nullable = false)\n",
      " |    |    |-- intellij-idea: double (nullable = false)\n",
      " |    |    |-- ios: double (nullable = false)\n",
      " |    |    |-- ipad: double (nullable = false)\n",
      " |    |    |-- iphone: double (nullable = false)\n",
      " |    |    |-- iphone-sdk-4.0: double (nullable = false)\n",
      " |    |    |-- iptables: double (nullable = false)\n",
      " |    |    |-- jasper-reports: double (nullable = false)\n",
      " |    |    |-- java: double (nullable = false)\n",
      " |    |    |-- java-me: double (nullable = false)\n",
      " |    |    |-- javascript: double (nullable = false)\n",
      " |    |    |-- jmeter: double (nullable = false)\n",
      " |    |    |-- joomla: double (nullable = false)\n",
      " |    |    |-- jqgrid: double (nullable = false)\n",
      " |    |    |-- jquery: double (nullable = false)\n",
      " |    |    |-- jquery-ajax: double (nullable = false)\n",
      " |    |    |-- jquery-mobile: double (nullable = false)\n",
      " |    |    |-- jquery-ui: double (nullable = false)\n",
      " |    |    |-- jsf: double (nullable = false)\n",
      " |    |    |-- jsf-2: double (nullable = false)\n",
      " |    |    |-- json: double (nullable = false)\n",
      " |    |    |-- jsp: double (nullable = false)\n",
      " |    |    |-- knockout.js: double (nullable = false)\n",
      " |    |    |-- language-agnostic: double (nullable = false)\n",
      " |    |    |-- latex: double (nullable = false)\n",
      " |    |    |-- licensing: double (nullable = false)\n",
      " |    |    |-- limit: double (nullable = false)\n",
      " |    |    |-- linear-algebra: double (nullable = false)\n",
      " |    |    |-- linq: double (nullable = false)\n",
      " |    |    |-- linq-to-sql: double (nullable = false)\n",
      " |    |    |-- linux: double (nullable = false)\n",
      " |    |    |-- logic: double (nullable = false)\n",
      " |    |    |-- lua: double (nullable = false)\n",
      " |    |    |-- macros: double (nullable = false)\n",
      " |    |    |-- magento: double (nullable = false)\n",
      " |    |    |-- makefile: double (nullable = false)\n",
      " |    |    |-- math: double (nullable = false)\n",
      " |    |    |-- math-mode: double (nullable = false)\n",
      " |    |    |-- mathematica: double (nullable = false)\n",
      " |    |    |-- matlab: double (nullable = false)\n",
      " |    |    |-- matrices: double (nullable = false)\n",
      " |    |    |-- maven: double (nullable = false)\n",
      " |    |    |-- maven-2: double (nullable = false)\n",
      " |    |    |-- measure-theory: double (nullable = false)\n",
      " |    |    |-- memory: double (nullable = false)\n",
      " |    |    |-- menus: double (nullable = false)\n",
      " |    |    |-- mercurial: double (nullable = false)\n",
      " |    |    |-- meteor: double (nullable = false)\n",
      " |    |    |-- metric-spaces: double (nullable = false)\n",
      " |    |    |-- microsoft-excel: double (nullable = false)\n",
      " |    |    |-- microsoft-word: double (nullable = false)\n",
      " |    |    |-- mod-rewrite: double (nullable = false)\n",
      " |    |    |-- mongodb: double (nullable = false)\n",
      " |    |    |-- monotouch: double (nullable = false)\n",
      " |    |    |-- ms-access: double (nullable = false)\n",
      " |    |    |-- msbuild: double (nullable = false)\n",
      " |    |    |-- multivariable-calculus: double (nullable = false)\n",
      " |    |    |-- mysql: double (nullable = false)\n",
      " |    |    |-- netbeans: double (nullable = false)\n",
      " |    |    |-- networking: double (nullable = false)\n",
      " |    |    |-- nginx: double (nullable = false)\n",
      " |    |    |-- nhibernate: double (nullable = false)\n",
      " |    |    |-- node.js: double (nullable = false)\n",
      " |    |    |-- notation: double (nullable = false)\n",
      " |    |    |-- notepad++: double (nullable = false)\n",
      " |    |    |-- nservicebus: double (nullable = false)\n",
      " |    |    |-- number-theory: double (nullable = false)\n",
      " |    |    |-- objective-c: double (nullable = false)\n",
      " |    |    |-- oop: double (nullable = false)\n",
      " |    |    |-- open-source: double (nullable = false)\n",
      " |    |    |-- opencv: double (nullable = false)\n",
      " |    |    |-- opengl: double (nullable = false)\n",
      " |    |    |-- optimization: double (nullable = false)\n",
      " |    |    |-- oracle: double (nullable = false)\n",
      " |    |    |-- orchardcms: double (nullable = false)\n",
      " |    |    |-- osx: double (nullable = false)\n",
      " |    |    |-- paypal: double (nullable = false)\n",
      " |    |    |-- pde: double (nullable = false)\n",
      " |    |    |-- pdf: double (nullable = false)\n",
      " |    |    |-- perl: double (nullable = false)\n",
      " |    |    |-- pgfplots: double (nullable = false)\n",
      " |    |    |-- phonegap: double (nullable = false)\n",
      " |    |    |-- php: double (nullable = false)\n",
      " |    |    |-- playframework: double (nullable = false)\n",
      " |    |    |-- plone: double (nullable = false)\n",
      " |    |    |-- plugin-development: double (nullable = false)\n",
      " |    |    |-- plugins: double (nullable = false)\n",
      " |    |    |-- polynomials: double (nullable = false)\n",
      " |    |    |-- postfix: double (nullable = false)\n",
      " |    |    |-- postgresql: double (nullable = false)\n",
      " |    |    |-- powershell: double (nullable = false)\n",
      " |    |    |-- probability: double (nullable = false)\n",
      " |    |    |-- probability-distributions: double (nullable = false)\n",
      " |    |    |-- probability-theory: double (nullable = false)\n",
      " |    |    |-- programming-languages: double (nullable = false)\n",
      " |    |    |-- project-management: double (nullable = false)\n",
      " |    |    |-- prolog: double (nullable = false)\n",
      " |    |    |-- puppet: double (nullable = false)\n",
      " |    |    |-- python: double (nullable = false)\n",
      " |    |    |-- qt: double (nullable = false)\n",
      " |    |    |-- r: double (nullable = false)\n",
      " |    |    |-- real-analysis: double (nullable = false)\n",
      " |    |    |-- redis: double (nullable = false)\n",
      " |    |    |-- regex: double (nullable = false)\n",
      " |    |    |-- reporting-services: double (nullable = false)\n",
      " |    |    |-- rest: double (nullable = false)\n",
      " |    |    |-- ring-theory: double (nullable = false)\n",
      " |    |    |-- rsync: double (nullable = false)\n",
      " |    |    |-- ruby: double (nullable = false)\n",
      " |    |    |-- ruby-on-rails: double (nullable = false)\n",
      " |    |    |-- ruby-on-rails-3: double (nullable = false)\n",
      " |    |    |-- salesforce: double (nullable = false)\n",
      " |    |    |-- sas: double (nullable = false)\n",
      " |    |    |-- scala: double (nullable = false)\n",
      " |    |    |-- scheme: double (nullable = false)\n",
      " |    |    |-- search: double (nullable = false)\n",
      " |    |    |-- security: double (nullable = false)\n",
      " |    |    |-- sed: double (nullable = false)\n",
      " |    |    |-- selenium: double (nullable = false)\n",
      " |    |    |-- sencha-touch-2: double (nullable = false)\n",
      " |    |    |-- sequences-and-series: double (nullable = false)\n",
      " |    |    |-- set-theory: double (nullable = false)\n",
      " |    |    |-- sharepoint: double (nullable = false)\n",
      " |    |    |-- sharepoint-designer: double (nullable = false)\n",
      " |    |    |-- sharepoint-foundation: double (nullable = false)\n",
      " |    |    |-- sharepoint2007: double (nullable = false)\n",
      " |    |    |-- sharepoint2010: double (nullable = false)\n",
      " |    |    |-- shell: double (nullable = false)\n",
      " |    |    |-- silverlight: double (nullable = false)\n",
      " |    |    |-- silverlight-4.0: double (nullable = false)\n",
      " |    |    |-- soft-question: double (nullable = false)\n",
      " |    |    |-- solr: double (nullable = false)\n",
      " |    |    |-- spring: double (nullable = false)\n",
      " |    |    |-- spring-mvc: double (nullable = false)\n",
      " |    |    |-- spring-security: double (nullable = false)\n",
      " |    |    |-- sql: double (nullable = false)\n",
      " |    |    |-- sql-server: double (nullable = false)\n",
      " |    |    |-- sql-server-2005: double (nullable = false)\n",
      " |    |    |-- sql-server-2008: double (nullable = false)\n",
      " |    |    |-- sqlite: double (nullable = false)\n",
      " |    |    |-- ssh: double (nullable = false)\n",
      " |    |    |-- ssis: double (nullable = false)\n",
      " |    |    |-- statistics: double (nullable = false)\n",
      " |    |    |-- stochastic-processes: double (nullable = false)\n",
      " |    |    |-- struts2: double (nullable = false)\n",
      " |    |    |-- svn: double (nullable = false)\n",
      " |    |    |-- symbols: double (nullable = false)\n",
      " |    |    |-- symfony2: double (nullable = false)\n",
      " |    |    |-- tables: double (nullable = false)\n",
      " |    |    |-- terminology: double (nullable = false)\n",
      " |    |    |-- testing: double (nullable = false)\n",
      " |    |    |-- tfs: double (nullable = false)\n",
      " |    |    |-- tfs2010: double (nullable = false)\n",
      " |    |    |-- theme-development: double (nullable = false)\n",
      " |    |    |-- tikz-pgf: double (nullable = false)\n",
      " |    |    |-- tinymce: double (nullable = false)\n",
      " |    |    |-- tomcat: double (nullable = false)\n",
      " |    |    |-- tridion: double (nullable = false)\n",
      " |    |    |-- trigonometry: double (nullable = false)\n",
      " |    |    |-- tsql: double (nullable = false)\n",
      " |    |    |-- twitter-bootstrap: double (nullable = false)\n",
      " |    |    |-- ubuntu: double (nullable = false)\n",
      " |    |    |-- unit-testing: double (nullable = false)\n",
      " |    |    |-- unix: double (nullable = false)\n",
      " |    |    |-- vb.net: double (nullable = false)\n",
      " |    |    |-- vb6: double (nullable = false)\n",
      " |    |    |-- vba: double (nullable = false)\n",
      " |    |    |-- vbscript: double (nullable = false)\n",
      " |    |    |-- version-control: double (nullable = false)\n",
      " |    |    |-- vim: double (nullable = false)\n",
      " |    |    |-- virtualbox: double (nullable = false)\n",
      " |    |    |-- visual-c++: double (nullable = false)\n",
      " |    |    |-- visual-studio: double (nullable = false)\n",
      " |    |    |-- visual-studio-2008: double (nullable = false)\n",
      " |    |    |-- visual-studio-2010: double (nullable = false)\n",
      " |    |    |-- wcf: double (nullable = false)\n",
      " |    |    |-- web-part: double (nullable = false)\n",
      " |    |    |-- web-services: double (nullable = false)\n",
      " |    |    |-- winapi: double (nullable = false)\n",
      " |    |    |-- windows: double (nullable = false)\n",
      " |    |    |-- windows-7: double (nullable = false)\n",
      " |    |    |-- windows-8: double (nullable = false)\n",
      " |    |    |-- windows-phone-7: double (nullable = false)\n",
      " |    |    |-- windows-server-2003: double (nullable = false)\n",
      " |    |    |-- windows-server-2008: double (nullable = false)\n",
      " |    |    |-- windows-vista: double (nullable = false)\n",
      " |    |    |-- windows-xp: double (nullable = false)\n",
      " |    |    |-- winforms: double (nullable = false)\n",
      " |    |    |-- wireless-networking: double (nullable = false)\n",
      " |    |    |-- wix: double (nullable = false)\n",
      " |    |    |-- wordpress: double (nullable = false)\n",
      " |    |    |-- workflow: double (nullable = false)\n",
      " |    |    |-- wpf: double (nullable = false)\n",
      " |    |    |-- xcode: double (nullable = false)\n",
      " |    |    |-- xcode4: double (nullable = false)\n",
      " |    |    |-- xml: double (nullable = false)\n",
      " |    |    |-- xpages: double (nullable = false)\n",
      " |    |    |-- xpath: double (nullable = false)\n",
      " |    |    |-- xslt: double (nullable = false)\n",
      " |    |    |-- yii: double (nullable = false)\n",
      " |    |    |-- zend-framework: double (nullable = false)\n",
      " |-- H2OWord2Vec_output: array (nullable = true)\n",
      " |    |-- element: float (containsNull = false)\n",
      " |-- prediction: string (nullable = true)"
     ]
    }
   ],
   "source": [
    "predictions.printSchema()"
   ]
  },
  {
   "cell_type": "code",
   "execution_count": 39,
   "id": "popular-university",
   "metadata": {},
   "outputs": [
    {
     "data": {
      "application/vnd.jupyter.widget-view+json": {
       "model_id": "c296236c2a204685a747642b8eda4753",
       "version_major": 2,
       "version_minor": 0
      },
      "text/plain": [
       "VBox()"
      ]
     },
     "metadata": {},
     "output_type": "display_data"
    },
    {
     "data": {
      "application/vnd.jupyter.widget-view+json": {
       "model_id": "",
       "version_major": 2,
       "version_minor": 0
      },
      "text/plain": [
       "FloatProgress(value=0.0, bar_style='info', description='Progress:', layout=Layout(height='25px', width='50%'),…"
      ]
     },
     "metadata": {},
     "output_type": "display_data"
    }
   ],
   "source": [
    "from pyspark.ml.evaluation import MulticlassClassificationEvaluator"
   ]
  },
  {
   "cell_type": "code",
   "execution_count": 44,
   "id": "dated-release",
   "metadata": {},
   "outputs": [
    {
     "data": {
      "application/vnd.jupyter.widget-view+json": {
       "model_id": "cfa18ebb3ba341f8a8724ba3cdbfe55c",
       "version_major": 2,
       "version_minor": 0
      },
      "text/plain": [
       "VBox()"
      ]
     },
     "metadata": {},
     "output_type": "display_data"
    },
    {
     "data": {
      "application/vnd.jupyter.widget-view+json": {
       "model_id": "",
       "version_major": 2,
       "version_minor": 0
      },
      "text/plain": [
       "FloatProgress(value=0.0, bar_style='info', description='Progress:', layout=Layout(height='25px', width='50%'),…"
      ]
     },
     "metadata": {},
     "output_type": "display_data"
    }
   ],
   "source": [
    "predictionandlabel=predictions.select(\"prediction\",col(\"Tags\").alias(\"Label\"))\\\n",
    "                                .withColumn(\"Flag\",when(col(\"prediction\") == col(\"Label\"), 1).otherwise(0))"
   ]
  },
  {
   "cell_type": "code",
   "execution_count": 47,
   "id": "occasional-prime",
   "metadata": {},
   "outputs": [
    {
     "data": {
      "application/vnd.jupyter.widget-view+json": {
       "model_id": "934bf382e77f43ad992349bea39624e6",
       "version_major": 2,
       "version_minor": 0
      },
      "text/plain": [
       "VBox()"
      ]
     },
     "metadata": {},
     "output_type": "display_data"
    },
    {
     "data": {
      "application/vnd.jupyter.widget-view+json": {
       "model_id": "",
       "version_major": 2,
       "version_minor": 0
      },
      "text/plain": [
       "FloatProgress(value=0.0, bar_style='info', description='Progress:', layout=Layout(height='25px', width='50%'),…"
      ]
     },
     "metadata": {},
     "output_type": "display_data"
    },
    {
     "name": "stdout",
     "output_type": "stream",
     "text": [
      "+---------+\n",
      "|sum(Flag)|\n",
      "+---------+\n",
      "|    57323|\n",
      "+---------+"
     ]
    }
   ],
   "source": [
    "predictionandlabel.select(sum(\"Flag\")).show()"
   ]
  },
  {
   "cell_type": "code",
   "execution_count": 48,
   "id": "together-balance",
   "metadata": {},
   "outputs": [
    {
     "data": {
      "application/vnd.jupyter.widget-view+json": {
       "model_id": "7aad244ec2984213a201e5a416121332",
       "version_major": 2,
       "version_minor": 0
      },
      "text/plain": [
       "VBox()"
      ]
     },
     "metadata": {},
     "output_type": "display_data"
    },
    {
     "data": {
      "application/vnd.jupyter.widget-view+json": {
       "model_id": "",
       "version_major": 2,
       "version_minor": 0
      },
      "text/plain": [
       "FloatProgress(value=0.0, bar_style='info', description='Progress:', layout=Layout(height='25px', width='50%'),…"
      ]
     },
     "metadata": {},
     "output_type": "display_data"
    },
    {
     "name": "stdout",
     "output_type": "stream",
     "text": [
      "123647"
     ]
    }
   ],
   "source": [
    "predictionandlabel.count()"
   ]
  },
  {
   "cell_type": "code",
   "execution_count": 50,
   "id": "organizational-logic",
   "metadata": {},
   "outputs": [
    {
     "data": {
      "application/vnd.jupyter.widget-view+json": {
       "model_id": "eadaf291f2394d489a246e30290ee8ca",
       "version_major": 2,
       "version_minor": 0
      },
      "text/plain": [
       "VBox()"
      ]
     },
     "metadata": {},
     "output_type": "display_data"
    },
    {
     "data": {
      "application/vnd.jupyter.widget-view+json": {
       "model_id": "",
       "version_major": 2,
       "version_minor": 0
      },
      "text/plain": [
       "FloatProgress(value=0.0, bar_style='info', description='Progress:', layout=Layout(height='25px', width='50%'),…"
      ]
     },
     "metadata": {},
     "output_type": "display_data"
    }
   ],
   "source": [
    "accuracy= 57323/123647"
   ]
  },
  {
   "cell_type": "code",
   "execution_count": 52,
   "id": "minute-respondent",
   "metadata": {},
   "outputs": [
    {
     "data": {
      "application/vnd.jupyter.widget-view+json": {
       "model_id": "2a1ac875c8684b32978a92cf12ecc589",
       "version_major": 2,
       "version_minor": 0
      },
      "text/plain": [
       "VBox()"
      ]
     },
     "metadata": {},
     "output_type": "display_data"
    },
    {
     "data": {
      "application/vnd.jupyter.widget-view+json": {
       "model_id": "",
       "version_major": 2,
       "version_minor": 0
      },
      "text/plain": [
       "FloatProgress(value=0.0, bar_style='info', description='Progress:', layout=Layout(height='25px', width='50%'),…"
      ]
     },
     "metadata": {},
     "output_type": "display_data"
    },
    {
     "name": "stdout",
     "output_type": "stream",
     "text": [
      "46.36020283549136 %"
     ]
    }
   ],
   "source": [
    "print(accuracy*100,'%')"
   ]
  },
  {
   "cell_type": "code",
   "execution_count": 53,
   "id": "synthetic-patrol",
   "metadata": {},
   "outputs": [
    {
     "data": {
      "application/vnd.jupyter.widget-view+json": {
       "model_id": "6f961028e4054b4499f0d0e78947072d",
       "version_major": 2,
       "version_minor": 0
      },
      "text/plain": [
       "VBox()"
      ]
     },
     "metadata": {},
     "output_type": "display_data"
    },
    {
     "data": {
      "application/vnd.jupyter.widget-view+json": {
       "model_id": "",
       "version_major": 2,
       "version_minor": 0
      },
      "text/plain": [
       "FloatProgress(value=0.0, bar_style='info', description='Progress:', layout=Layout(height='25px', width='50%'),…"
      ]
     },
     "metadata": {},
     "output_type": "display_data"
    }
   ],
   "source": [
    "### AUTOML"
   ]
  },
  {
   "cell_type": "code",
   "execution_count": 64,
   "id": "sacred-anime",
   "metadata": {},
   "outputs": [
    {
     "data": {
      "application/vnd.jupyter.widget-view+json": {
       "model_id": "e49632b6ea4f448a97ff12e9916f1baf",
       "version_major": 2,
       "version_minor": 0
      },
      "text/plain": [
       "VBox()"
      ]
     },
     "metadata": {},
     "output_type": "display_data"
    },
    {
     "data": {
      "application/vnd.jupyter.widget-view+json": {
       "model_id": "",
       "version_major": 2,
       "version_minor": 0
      },
      "text/plain": [
       "FloatProgress(value=0.0, bar_style='info', description='Progress:', layout=Layout(height='25px', width='50%'),…"
      ]
     },
     "metadata": {},
     "output_type": "display_data"
    }
   ],
   "source": [
    "from pysparkling.ml import H2OAutoML\n",
    "from pysparkling.ml import H2OGBM, H2OWord2Vec\n",
    "from pyspark.ml import Pipeline\n",
    "from pyspark.ml.feature import RegexTokenizer, StopWordsRemover\n",
    "\n",
    "tokenizer = RegexTokenizer(inputCol=\"Text\", minTokenLength=2)\n",
    "stopWordsRemover = StopWordsRemover(inputCol=tokenizer.getOutputCol())\n",
    "w2v = H2OWord2Vec(sentSampleRate=0, epochs=10, inputCol=stopWordsRemover.getOutputCol())\n",
    "gbm = H2OAutoML(labelCol=\"Tags\",maxModels=2,nfolds=2)\n",
    "\n",
    "pipeline = Pipeline(stages=[tokenizer, stopWordsRemover, w2v, gbm])\n"
   ]
  },
  {
   "cell_type": "code",
   "execution_count": 65,
   "id": "impossible-biology",
   "metadata": {},
   "outputs": [
    {
     "data": {
      "application/vnd.jupyter.widget-view+json": {
       "model_id": "acfb8c8f606d43c7900ee3d3e4389ab0",
       "version_major": 2,
       "version_minor": 0
      },
      "text/plain": [
       "VBox()"
      ]
     },
     "metadata": {},
     "output_type": "display_data"
    },
    {
     "data": {
      "application/vnd.jupyter.widget-view+json": {
       "model_id": "",
       "version_major": 2,
       "version_minor": 0
      },
      "text/plain": [
       "FloatProgress(value=0.0, bar_style='info', description='Progress:', layout=Layout(height='25px', width='50%'),…"
      ]
     },
     "metadata": {},
     "output_type": "display_data"
    },
    {
     "name": "stderr",
     "output_type": "stream",
     "text": [
      "An error occurred while calling o2644.fit.\n",
      ": java.lang.RuntimeException: H2OContext needs to be created in order to train the model. Please create one as H2OContext.getOrCreate().\n",
      "\tat ai.h2o.sparkling.H2OContext$$anonfun$ensure$1.apply(H2OContext.scala:416)\n",
      "\tat ai.h2o.sparkling.H2OContext$$anonfun$ensure$1.apply(H2OContext.scala:416)\n",
      "\tat scala.Option.getOrElse(Option.scala:121)\n",
      "\tat ai.h2o.sparkling.H2OContext$.ensure(H2OContext.scala:415)\n",
      "\tat ai.h2o.sparkling.ml.features.H2OWord2Vec.fit(H2OWord2Vec.scala:66)\n",
      "\tat ai.h2o.sparkling.ml.features.H2OWord2Vec.fit(H2OWord2Vec.scala:36)\n",
      "\tat sun.reflect.NativeMethodAccessorImpl.invoke0(Native Method)\n",
      "\tat sun.reflect.NativeMethodAccessorImpl.invoke(NativeMethodAccessorImpl.java:62)\n",
      "\tat sun.reflect.DelegatingMethodAccessorImpl.invoke(DelegatingMethodAccessorImpl.java:43)\n",
      "\tat java.lang.reflect.Method.invoke(Method.java:498)\n",
      "\tat py4j.reflection.MethodInvoker.invoke(MethodInvoker.java:244)\n",
      "\tat py4j.reflection.ReflectionEngine.invoke(ReflectionEngine.java:357)\n",
      "\tat py4j.Gateway.invoke(Gateway.java:282)\n",
      "\tat py4j.commands.AbstractCommand.invokeMethod(AbstractCommand.java:132)\n",
      "\tat py4j.commands.CallCommand.execute(CallCommand.java:79)\n",
      "\tat py4j.GatewayConnection.run(GatewayConnection.java:238)\n",
      "\tat java.lang.Thread.run(Thread.java:748)\n",
      "\n",
      "Traceback (most recent call last):\n",
      "  File \"/usr/lib/spark/python/lib/pyspark.zip/pyspark/ml/base.py\", line 132, in fit\n",
      "    return self._fit(dataset)\n",
      "  File \"/usr/lib/spark/python/lib/pyspark.zip/pyspark/ml/pipeline.py\", line 109, in _fit\n",
      "    model = stage.fit(dataset)\n",
      "  File \"/usr/lib/spark/python/lib/pyspark.zip/pyspark/ml/base.py\", line 132, in fit\n",
      "    return self._fit(dataset)\n",
      "  File \"/usr/lib/spark/python/lib/pyspark.zip/pyspark/ml/wrapper.py\", line 295, in _fit\n",
      "    java_model = self._fit_java(dataset)\n",
      "  File \"/usr/lib/spark/python/lib/pyspark.zip/pyspark/ml/wrapper.py\", line 292, in _fit_java\n",
      "    return self._java_obj.fit(dataset._jdf)\n",
      "  File \"/usr/lib/spark/python/lib/py4j-0.10.7-src.zip/py4j/java_gateway.py\", line 1257, in __call__\n",
      "    answer, self.gateway_client, self.target_id, self.name)\n",
      "  File \"/usr/lib/spark/python/lib/pyspark.zip/pyspark/sql/utils.py\", line 63, in deco\n",
      "    return f(*a, **kw)\n",
      "  File \"/usr/lib/spark/python/lib/py4j-0.10.7-src.zip/py4j/protocol.py\", line 328, in get_return_value\n",
      "    format(target_id, \".\", name), value)\n",
      "py4j.protocol.Py4JJavaError: An error occurred while calling o2644.fit.\n",
      ": java.lang.RuntimeException: H2OContext needs to be created in order to train the model. Please create one as H2OContext.getOrCreate().\n",
      "\tat ai.h2o.sparkling.H2OContext$$anonfun$ensure$1.apply(H2OContext.scala:416)\n",
      "\tat ai.h2o.sparkling.H2OContext$$anonfun$ensure$1.apply(H2OContext.scala:416)\n",
      "\tat scala.Option.getOrElse(Option.scala:121)\n",
      "\tat ai.h2o.sparkling.H2OContext$.ensure(H2OContext.scala:415)\n",
      "\tat ai.h2o.sparkling.ml.features.H2OWord2Vec.fit(H2OWord2Vec.scala:66)\n",
      "\tat ai.h2o.sparkling.ml.features.H2OWord2Vec.fit(H2OWord2Vec.scala:36)\n",
      "\tat sun.reflect.NativeMethodAccessorImpl.invoke0(Native Method)\n",
      "\tat sun.reflect.NativeMethodAccessorImpl.invoke(NativeMethodAccessorImpl.java:62)\n",
      "\tat sun.reflect.DelegatingMethodAccessorImpl.invoke(DelegatingMethodAccessorImpl.java:43)\n",
      "\tat java.lang.reflect.Method.invoke(Method.java:498)\n",
      "\tat py4j.reflection.MethodInvoker.invoke(MethodInvoker.java:244)\n",
      "\tat py4j.reflection.ReflectionEngine.invoke(ReflectionEngine.java:357)\n",
      "\tat py4j.Gateway.invoke(Gateway.java:282)\n",
      "\tat py4j.commands.AbstractCommand.invokeMethod(AbstractCommand.java:132)\n",
      "\tat py4j.commands.CallCommand.execute(CallCommand.java:79)\n",
      "\tat py4j.GatewayConnection.run(GatewayConnection.java:238)\n",
      "\tat java.lang.Thread.run(Thread.java:748)\n",
      "\n",
      "\n"
     ]
    }
   ],
   "source": [
    "model = pipeline.fit(trainingDF)"
   ]
  },
  {
   "cell_type": "code",
   "execution_count": 66,
   "id": "aggregate-sociology",
   "metadata": {},
   "outputs": [
    {
     "data": {
      "application/vnd.jupyter.widget-view+json": {
       "model_id": "7f7455989c424f369e6f6e8ba1ff685d",
       "version_major": 2,
       "version_minor": 0
      },
      "text/plain": [
       "VBox()"
      ]
     },
     "metadata": {},
     "output_type": "display_data"
    },
    {
     "data": {
      "application/vnd.jupyter.widget-view+json": {
       "model_id": "",
       "version_major": 2,
       "version_minor": 0
      },
      "text/plain": [
       "FloatProgress(value=0.0, bar_style='info', description='Progress:', layout=Layout(height='25px', width='50%'),…"
      ]
     },
     "metadata": {},
     "output_type": "display_data"
    },
    {
     "name": "stdout",
     "output_type": "stream",
     "text": [
      "PipelineModel_b1656755dec3"
     ]
    }
   ],
   "source": [
    "model"
   ]
  },
  {
   "cell_type": "code",
   "execution_count": 67,
   "id": "lovely-oakland",
   "metadata": {},
   "outputs": [
    {
     "data": {
      "application/vnd.jupyter.widget-view+json": {
       "model_id": "70f36021e2de46e09482e435c466475d",
       "version_major": 2,
       "version_minor": 0
      },
      "text/plain": [
       "VBox()"
      ]
     },
     "metadata": {},
     "output_type": "display_data"
    },
    {
     "data": {
      "application/vnd.jupyter.widget-view+json": {
       "model_id": "",
       "version_major": 2,
       "version_minor": 0
      },
      "text/plain": [
       "FloatProgress(value=0.0, bar_style='info', description='Progress:', layout=Layout(height='25px', width='50%'),…"
      ]
     },
     "metadata": {},
     "output_type": "display_data"
    },
    {
     "name": "stderr",
     "output_type": "stream",
     "text": [
      "'PipelineModel' object has no attribute 'leaderboard'\n",
      "Traceback (most recent call last):\n",
      "AttributeError: 'PipelineModel' object has no attribute 'leaderboard'\n",
      "\n"
     ]
    }
   ],
   "source": [
    "model.leaderboard"
   ]
  },
  {
   "cell_type": "code",
   "execution_count": null,
   "id": "swiss-writer",
   "metadata": {},
   "outputs": [],
   "source": []
  }
 ],
 "metadata": {
  "kernelspec": {
   "display_name": "PySpark",
   "language": "",
   "name": "pysparkkernel"
  },
  "language_info": {
   "codemirror_mode": {
    "name": "python",
    "version": 2
   },
   "mimetype": "text/x-python",
   "name": "pyspark",
   "pygments_lexer": "python2"
  }
 },
 "nbformat": 4,
 "nbformat_minor": 5
}
