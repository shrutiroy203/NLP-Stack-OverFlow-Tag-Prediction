{
 "cells": [
  {
   "cell_type": "code",
   "execution_count": 1,
   "id": "weird-litigation",
   "metadata": {},
   "outputs": [
    {
     "data": {
      "application/vnd.jupyter.widget-view+json": {
       "model_id": "70aa5b86c6944243b74a01c7ac9b0e60",
       "version_major": 2,
       "version_minor": 0
      },
      "text/plain": [
       "VBox()"
      ]
     },
     "metadata": {},
     "output_type": "display_data"
    },
    {
     "name": "stdout",
     "output_type": "stream",
     "text": [
      "Starting Spark application\n"
     ]
    },
    {
     "data": {
      "text/html": [
       "<table>\n",
       "<tr><th>ID</th><th>YARN Application ID</th><th>Kind</th><th>State</th><th>Spark UI</th><th>Driver log</th><th>Current session?</th></tr><tr><td>6</td><td>application_1615182176466_0007</td><td>pyspark</td><td>idle</td><td></td><td></td><td>✔</td></tr></table>"
      ],
      "text/plain": [
       "<IPython.core.display.HTML object>"
      ]
     },
     "metadata": {},
     "output_type": "display_data"
    },
    {
     "data": {
      "application/vnd.jupyter.widget-view+json": {
       "model_id": "",
       "version_major": 2,
       "version_minor": 0
      },
      "text/plain": [
       "FloatProgress(value=0.0, bar_style='info', description='Progress:', layout=Layout(height='25px', width='50%'),…"
      ]
     },
     "metadata": {},
     "output_type": "display_data"
    },
    {
     "name": "stdout",
     "output_type": "stream",
     "text": [
      "SparkSession available as 'spark'.\n"
     ]
    },
    {
     "data": {
      "application/vnd.jupyter.widget-view+json": {
       "model_id": "",
       "version_major": 2,
       "version_minor": 0
      },
      "text/plain": [
       "FloatProgress(value=0.0, bar_style='info', description='Progress:', layout=Layout(height='25px', width='50%'),…"
      ]
     },
     "metadata": {},
     "output_type": "display_data"
    }
   ],
   "source": [
    "# Amee/Shruti \n",
    "from pyspark.sql import SparkSession\n",
    "from pyspark.sql.types import *\n",
    "from pyspark.sql import Row\n",
    "from pyspark.sql.functions import * \n",
    "from pyspark.ml.feature import StringIndexer\n",
    "from pyspark.ml.feature import OneHotEncoder\n",
    "from pyspark.ml.tuning import ParamGridBuilder\n",
    "from pyspark.ml.evaluation import MulticlassClassificationEvaluator\n",
    "from pyspark.ml.evaluation import BinaryClassificationEvaluator\n",
    "from pyspark.ml.tuning import CrossValidator\n",
    "from pyspark.ml.classification import RandomForestClassifier"
   ]
  },
  {
   "cell_type": "code",
   "execution_count": 2,
   "id": "latin-genesis",
   "metadata": {},
   "outputs": [
    {
     "data": {
      "application/vnd.jupyter.widget-view+json": {
       "model_id": "9395f01ddc964ae1930abf65e8823dcb",
       "version_major": 2,
       "version_minor": 0
      },
      "text/plain": [
       "VBox()"
      ]
     },
     "metadata": {},
     "output_type": "display_data"
    },
    {
     "data": {
      "application/vnd.jupyter.widget-view+json": {
       "model_id": "",
       "version_major": 2,
       "version_minor": 0
      },
      "text/plain": [
       "FloatProgress(value=0.0, bar_style='info', description='Progress:', layout=Layout(height='25px', width='50%'),…"
      ]
     },
     "metadata": {},
     "output_type": "display_data"
    }
   ],
   "source": [
    "# Amee/Shruti\n",
    "ss = SparkSession.builder.config(\"spark.executor.memory\",\"40g\")\\\n",
    "                         .config(\"spark.driver.memory\",\"40g\")\\\n",
    "                         .config(\"spark.executor.cores\",10)\\\n",
    "                         .config('spark.executor.instances',8)\\\n",
    "                         .config(\"spark.driver.extraClassPath\", \"lib/sparknlp.jar\")\\\n",
    "                         .config(\"spark.driver.maxResultSize\",0)\\\n",
    "                         .config(\"spark.dynamicAllocation.enabled\",\"false\")\\\n",
    "                         .getOrCreate()\n",
    "sc = ss.sparkContext"
   ]
  },
  {
   "cell_type": "code",
   "execution_count": 3,
   "id": "known-animal",
   "metadata": {},
   "outputs": [
    {
     "data": {
      "application/vnd.jupyter.widget-view+json": {
       "model_id": "f278d8a2c1bd4800bc8e0f7697536a43",
       "version_major": 2,
       "version_minor": 0
      },
      "text/plain": [
       "VBox()"
      ]
     },
     "metadata": {},
     "output_type": "display_data"
    },
    {
     "data": {
      "application/vnd.jupyter.widget-view+json": {
       "model_id": "",
       "version_major": 2,
       "version_minor": 0
      },
      "text/plain": [
       "FloatProgress(value=0.0, bar_style='info', description='Progress:', layout=Layout(height='25px', width='50%'),…"
      ]
     },
     "metadata": {},
     "output_type": "display_data"
    }
   ],
   "source": [
    "for (id, rdd) in sc._jsc.getPersistentRDDs().items():\n",
    "    rdd.unpersist()"
   ]
  },
  {
   "cell_type": "code",
   "execution_count": null,
   "id": "subjective-invasion",
   "metadata": {},
   "outputs": [],
   "source": [
    "# Amee/Shruti\n",
    "train_df = ss.read.option(\"multiline\",\"true\")\\\n",
    "                  .option(\"header\", \"true\").option(\"inferSchema\", \"true\")\\\n",
    "                  .option(\"escape\",\"\\\"\").option(\"quote\",\"\\\"\")\\\n",
    "                  .option(\"mode\",\"DROPMALFORMED\").csv(\"s3a://msds694ww/train.csv\")\n",
    "\n",
    "train_df.cache()\n",
    "train_df.show(3)"
   ]
  },
  {
   "cell_type": "code",
   "execution_count": null,
   "id": "infectious-territory",
   "metadata": {},
   "outputs": [],
   "source": [
    "#sc.install_pypi_package(\"sparknlp\")\n",
    "#import spacy\n",
    "#nlp = spacy.load('en_core_web_sm')"
   ]
  },
  {
   "cell_type": "code",
   "execution_count": null,
   "id": "isolated-perfume",
   "metadata": {},
   "outputs": [],
   "source": [
    "#import sparknlp\n",
    "#spark=sparknlp.start()"
   ]
  },
  {
   "cell_type": "code",
   "execution_count": null,
   "id": "ranking-latvia",
   "metadata": {},
   "outputs": [],
   "source": [
    "# Michelle\n",
    "\n",
    "from io import StringIO\n",
    "from html.parser import HTMLParser\n",
    "\n",
    "import nltk \n",
    "from nltk.corpus import stopwords\n",
    "from nltk.stem.porter import *\n",
    "from nltk.stem import WordNetLemmatizer\n",
    "from nltk.stem import PorterStemmer \n",
    "from nltk.tokenize import word_tokenize \n",
    "import string\n",
    "\n",
    "#nltk.download('stopwords')\n",
    "#nltk.download('wordnet')"
   ]
  },
  {
   "cell_type": "markdown",
   "id": "endless-counter",
   "metadata": {},
   "source": [
    "# Check for duplicates\n",
    "There are no duplicate rows, but still remove because test set may contain"
   ]
  },
  {
   "cell_type": "code",
   "execution_count": null,
   "id": "industrial-range",
   "metadata": {},
   "outputs": [],
   "source": [
    "# Veronica \n",
    "\n",
    "train_df_distinct = train_df.distinct()\n",
    "train_df_distinct.cache()\n",
    "train_df_distinct.show()\n",
    "train_df.unpersist()"
   ]
  },
  {
   "cell_type": "markdown",
   "id": "pending-belly",
   "metadata": {},
   "source": [
    "# Missing data imputation\n",
    "\n",
    "We decided to remove rows that include missing data entirely."
   ]
  },
  {
   "cell_type": "code",
   "execution_count": null,
   "id": "resistant-cylinder",
   "metadata": {},
   "outputs": [],
   "source": [
    "# Veronica  \n",
    "\n",
    "train_df_text= train_df_distinct.filter(\"Title is NOT NULL OR Body is NOT NULL and Tags is NOT NULL\")\\\n",
    "                        .withColumn(\"Text\",concat(col(\"Title\"),lit(\" \"),col(\"Body\")))"
   ]
  },
  {
   "cell_type": "code",
   "execution_count": null,
   "id": "functional-ticket",
   "metadata": {},
   "outputs": [],
   "source": [
    "train_df_text.cache()\n",
    "train_df_text.show(4)\n",
    "train_df_distinct.unpersist()"
   ]
  },
  {
   "cell_type": "code",
   "execution_count": null,
   "id": "warming-algebra",
   "metadata": {},
   "outputs": [],
   "source": [
    "# def spacy_on_column(x):\n",
    "    \n",
    "#     doc=nlp(str(x))\n",
    "#     lemmas=[token.lemma_ for token in doc]\n",
    "#     a_lemmas=[lemma for lemma in lemmas if lemma.isalpha() and lemma not in stop_words]\n",
    "    \n",
    "#     return a_lemmas\n",
    "\n",
    "# # spacy_on_column_udf=ss.udf.register(\"spacy_on_column\", spacy_on_column)"
   ]
  },
  {
   "cell_type": "code",
   "execution_count": null,
   "id": "precise-immune",
   "metadata": {},
   "outputs": [],
   "source": [
    "# train_df_spacy=train_df.withColumn(\"Cleaned_Text\",spacy_on_column_udf(col(\"Text\")))"
   ]
  },
  {
   "cell_type": "code",
   "execution_count": null,
   "id": "relevant-slope",
   "metadata": {},
   "outputs": [],
   "source": [
    "#train_df_spacy.show(3)"
   ]
  },
  {
   "cell_type": "markdown",
   "id": "pleased-slave",
   "metadata": {},
   "source": [
    "# Clean Title and Body "
   ]
  },
  {
   "cell_type": "code",
   "execution_count": null,
   "id": "passive-color",
   "metadata": {},
   "outputs": [],
   "source": [
    "punctuation = string.punctuation "
   ]
  },
  {
   "cell_type": "code",
   "execution_count": null,
   "id": "challenging-spouse",
   "metadata": {},
   "outputs": [],
   "source": [
    "# Amee\n",
    "\n",
    "# stop_words = set(stopwords.words('english')) --> Not working right now\n",
    "\n",
    "# Temporary Stop Words workaround \n",
    "stop_words = {'a',\n",
    " 'about',\n",
    " 'above',\n",
    " 'after',\n",
    " 'again',\n",
    " 'against',\n",
    " 'ain',\n",
    " 'all',\n",
    " 'am',\n",
    " 'an',\n",
    " 'and',\n",
    " 'any',\n",
    " 'are',\n",
    " 'aren',\n",
    " \"aren't\",\n",
    " 'as',\n",
    " 'at',\n",
    " 'be',\n",
    " 'because',\n",
    " 'been',\n",
    " 'before',\n",
    " 'being',\n",
    " 'below',\n",
    " 'between',\n",
    " 'both',\n",
    " 'but',\n",
    " 'by',\n",
    " 'can',\n",
    " 'couldn',\n",
    " \"couldn't\",\n",
    " 'd',\n",
    " 'did',\n",
    " 'didn',\n",
    " \"didn't\",\n",
    " 'do',\n",
    " 'does',\n",
    " 'doesn',\n",
    " \"doesn't\",\n",
    " 'doing',\n",
    " 'don',\n",
    " \"don't\",\n",
    " 'down',\n",
    " 'during',\n",
    " 'each',\n",
    " 'few',\n",
    " 'for',\n",
    " 'from',\n",
    " 'further',\n",
    " 'had',\n",
    " 'hadn',\n",
    " \"hadn't\",\n",
    " 'has',\n",
    " 'hasn',\n",
    " \"hasn't\",\n",
    " 'have',\n",
    " 'haven',\n",
    " \"haven't\",\n",
    " 'having',\n",
    " 'he',\n",
    " 'her',\n",
    " 'here',\n",
    " 'hers',\n",
    " 'herself',\n",
    " 'him',\n",
    " 'himself',\n",
    " 'his',\n",
    " 'how',\n",
    " 'i',\n",
    " 'if',\n",
    " 'in',\n",
    " 'into',\n",
    " 'is',\n",
    " 'isn',\n",
    " \"isn't\",\n",
    " 'it',\n",
    " \"it's\",\n",
    " 'its',\n",
    " 'itself',\n",
    " 'just',\n",
    " 'll',\n",
    " 'm',\n",
    " 'ma',\n",
    " 'me',\n",
    " 'mightn',\n",
    " \"mightn't\",\n",
    " 'more',\n",
    " 'most',\n",
    " 'mustn',\n",
    " \"mustn't\",\n",
    " 'my',\n",
    " 'myself',\n",
    " 'needn',\n",
    " \"needn't\",\n",
    " 'no',\n",
    " 'nor',\n",
    " 'not',\n",
    " 'now',\n",
    " 'o',\n",
    " 'of',\n",
    " 'off',\n",
    " 'on',\n",
    " 'once',\n",
    " 'only',\n",
    " 'or',\n",
    " 'other',\n",
    " 'our',\n",
    " 'ours',\n",
    " 'ourselves',\n",
    " 'out',\n",
    " 'over',\n",
    " 'own',\n",
    " 're',\n",
    " 's',\n",
    " 'same',\n",
    " 'shan',\n",
    " \"shan't\",\n",
    " 'she',\n",
    " \"she's\",\n",
    " 'should',\n",
    " \"should've\",\n",
    " 'shouldn',\n",
    " \"shouldn't\",\n",
    " 'so',\n",
    " 'some',\n",
    " 'such',\n",
    " 't',\n",
    " 'than',\n",
    " 'that',\n",
    " \"that'll\",\n",
    " 'the',\n",
    " 'their',\n",
    " 'theirs',\n",
    " 'them',\n",
    " 'themselves',\n",
    " 'then',\n",
    " 'there',\n",
    " 'these',\n",
    " 'they',\n",
    " 'this',\n",
    " 'those',\n",
    " 'through',\n",
    " 'to',\n",
    " 'too',\n",
    " 'under',\n",
    " 'until',\n",
    " 'up',\n",
    " 've',\n",
    " 'very',\n",
    " 'was',\n",
    " 'wasn',\n",
    " \"wasn't\",\n",
    " 'we',\n",
    " 'were',\n",
    " 'weren',\n",
    " \"weren't\",\n",
    " 'what',\n",
    " 'when',\n",
    " 'where',\n",
    " 'which',\n",
    " 'while',\n",
    " 'who',\n",
    " 'whom',\n",
    " 'why',\n",
    " 'will',\n",
    " 'with',\n",
    " 'won',\n",
    " \"won't\",\n",
    " 'wouldn',\n",
    " \"wouldn't\",\n",
    " 'y',\n",
    " 'you',\n",
    " \"you'd\",\n",
    " \"you'll\",\n",
    " \"you're\",\n",
    " \"you've\",\n",
    " 'your',\n",
    " 'yours',\n",
    " 'yourself',\n",
    " 'yourselves'}"
   ]
  },
  {
   "cell_type": "code",
   "execution_count": null,
   "id": "stainless-functionality",
   "metadata": {},
   "outputs": [],
   "source": [
    "# Michelle \n",
    "parser = HTMLParser()"
   ]
  },
  {
   "cell_type": "code",
   "execution_count": null,
   "id": "plain-parker",
   "metadata": {},
   "outputs": [],
   "source": [
    "# Michelle - from: https://medium.com/@jorlugaqui/how-to-strip-html-tags-from-a-string-in-python-7cb81a2bbf44\n",
    "def remove_html_tags(text):\n",
    "    \"\"\"Remove html tags from a string\"\"\"\n",
    "    clean = re.compile('<.*?>')\n",
    "    return re.sub(clean, '', text)\n",
    "remove_html_tags_udf = ss.udf.register(\"remove_html\", remove_html_tags)\n"
   ]
  },
  {
   "cell_type": "code",
   "execution_count": null,
   "id": "activated-agency",
   "metadata": {},
   "outputs": [],
   "source": [
    "# Michelle\n",
    "\n",
    "def cleaning(df):\n",
    "    \n",
    "    ps = PorterStemmer()\n",
    "    \n",
    "    # splitting\n",
    "    row = df.split(\" \")\n",
    "    filtered_row = []\n",
    "    \n",
    "    # filtering punctuation and stop words\n",
    "    if len(row) > 0:\n",
    "        for word in row:\n",
    "            word = word.strip(r\"!#$%&\\'()*+,-./:;<=>?@[\\\\]^_`{|}~'\").lower()\n",
    "            if word not in punctuation and word not in stop_words:\n",
    "                \n",
    "                # lemmatizing \n",
    "                # word = lemmatizer.lemmatize(word)\n",
    "                word = ps.stem(word)\n",
    "                \n",
    "                                \n",
    "                filtered_row.append(str(word))\n",
    "        \n",
    "        result=','.join(filtered_row)\n",
    "    \n",
    "    return result\n",
    "    \n",
    "cleaning_udf = ss.udf.register(\"cleaning\", cleaning)"
   ]
  },
  {
   "cell_type": "code",
   "execution_count": null,
   "id": "hourly-concord",
   "metadata": {},
   "outputs": [],
   "source": [
    "# Michelle\n",
    "HTML_strip_df = train_df_text.select(remove_html_tags_udf(\"Text\").alias(\"Text\"),\"Title\",\"Body\",\"Tags\")\n",
    "HTML_strip_df.cache()\n",
    "HTML_strip_df.show(3)"
   ]
  },
  {
   "cell_type": "code",
   "execution_count": null,
   "id": "shared-samoa",
   "metadata": {},
   "outputs": [],
   "source": [
    "train_df_text.unpersist()"
   ]
  },
  {
   "cell_type": "markdown",
   "id": "irish-index",
   "metadata": {},
   "source": [
    "## Using spacy to tokenize each row"
   ]
  },
  {
   "cell_type": "code",
   "execution_count": null,
   "id": "suburban-scottish",
   "metadata": {},
   "outputs": [],
   "source": [
    "# clean_train_df=train_df.select(nlp(col(\"Text\")).alias(\"clean_text\"),\"Text\",\"Tags\")"
   ]
  },
  {
   "cell_type": "code",
   "execution_count": null,
   "id": "together-tampa",
   "metadata": {},
   "outputs": [],
   "source": [
    "# Michelle\n",
    "cleaned_df = HTML_strip_df.select(cleaning_udf(\"Text\").alias(\"Text_array\"),\"Title\",\"Body\",\n",
    "                                  \"Tags\")"
   ]
  },
  {
   "cell_type": "code",
   "execution_count": null,
   "id": "forty-lloyd",
   "metadata": {},
   "outputs": [],
   "source": [
    "cleaned_df.printSchema()"
   ]
  },
  {
   "cell_type": "code",
   "execution_count": null,
   "id": "pressed-humanity",
   "metadata": {},
   "outputs": [],
   "source": [
    "cleaned_df.cache()\n",
    "cleaned_df.show(5)\n",
    "HTML_strip_df.unpersist()"
   ]
  },
  {
   "cell_type": "markdown",
   "id": "north-slovenia",
   "metadata": {},
   "source": [
    "## Using Bag of Word analysis"
   ]
  },
  {
   "cell_type": "code",
   "execution_count": null,
   "id": "parliamentary-gilbert",
   "metadata": {},
   "outputs": [],
   "source": [
    "# Veronica \n",
    "\n",
    "#cleaned_df.write.parquet(\"s3a://facebookmsds694/cleaned_df.parquet\")\n",
    "\n",
    "#cleaned_df.write.csv(\"s3a://wonderwomen/cleaned_df.csv\")"
   ]
  },
  {
   "cell_type": "code",
   "execution_count": null,
   "id": "distinct-detector",
   "metadata": {},
   "outputs": [],
   "source": [
    "from pyspark.ml.feature import CountVectorizer\n",
    "#val cleaned_df = spark.read.parquet(\"s3a://facebookmsds694/cleaned_df.parquet\")\n",
    "cleaned_df_array=cleaned_df.withColumn(\"Text_array_new\",split(col(\"Text_array\"),\",\").cast(\"array<string>\"))"
   ]
  },
  {
   "cell_type": "code",
   "execution_count": null,
   "id": "average-lingerie",
   "metadata": {},
   "outputs": [],
   "source": [
    "cleaned_df_array.cache()\n",
    "cleaned_df_array.show(3)\n",
    "cleaned_df.unpersist()"
   ]
  },
  {
   "cell_type": "code",
   "execution_count": null,
   "id": "british-proof",
   "metadata": {},
   "outputs": [],
   "source": [
    "from pyspark.mllib.feature import IDF\n",
    "#hashingTF = HashingTF()\n",
    "#tf = hashingTF.transform(cleaned_df)\n",
    "#tf.cache()\n",
    "#idf = IDF(minDocFreq=2).fit(tf)\n",
    "#tfidf = idfIgnore.transform(tf)\n",
    "cv = CountVectorizer(inputCol=\"Text_array_new\", outputCol=\"Text_Vectors\", minDF=10.0,vocabSize=20000)\n",
    "model=cv.fit(cleaned_df_array)\n",
    "result_cv = model.transform(cleaned_df_array)"
   ]
  },
  {
   "cell_type": "code",
   "execution_count": null,
   "id": "together-canal",
   "metadata": {},
   "outputs": [],
   "source": [
    "#result_cv.show(4)\n",
    "result_cv.write.parquet(\"s3a://facebookmsds694/result_cv.parquet\")\n",
    "cleaned_df_array.unpersist()"
   ]
  },
  {
   "cell_type": "code",
   "execution_count": null,
   "id": "technological-bobby",
   "metadata": {},
   "outputs": [],
   "source": [
    "result_cv_cache = ss.read.parquet(\"s3a://facebookmsds694/result_cv.parquet\")"
   ]
  },
  {
   "cell_type": "code",
   "execution_count": null,
   "id": "literary-longer",
   "metadata": {},
   "outputs": [],
   "source": [
    "result_cv_cache.show(3)"
   ]
  },
  {
   "cell_type": "code",
   "execution_count": null,
   "id": "studied-offset",
   "metadata": {},
   "outputs": [],
   "source": [
    "num_tags=result_cv_cache.select(\"Tags\").distinct().count()"
   ]
  },
  {
   "cell_type": "code",
   "execution_count": null,
   "id": "caroline-reset",
   "metadata": {},
   "outputs": [],
   "source": [
    "num_tags"
   ]
  },
  {
   "cell_type": "code",
   "execution_count": null,
   "id": "casual-november",
   "metadata": {},
   "outputs": [],
   "source": [
    "cleaned_df_array.unpersist()"
   ]
  },
  {
   "cell_type": "code",
   "execution_count": null,
   "id": "injured-tunisia",
   "metadata": {},
   "outputs": [],
   "source": [
    "result_filter=result_cv.groupBy(\"Tags\").count()\n",
    "result_filter=result_filter.filter(col(\"Count\")>300).withColumnRenamed(\"Tags\",\"Tags_joined\")\n",
    "result_filter.cache()\n",
    "result_filter.show(3)"
   ]
  },
  {
   "cell_type": "code",
   "execution_count": null,
   "id": "final-sweden",
   "metadata": {},
   "outputs": [],
   "source": [
    "final_df=result_cv.join(result_filter,result_cv.Tags==result_filter.Tags_joined,\"inner\")"
   ]
  },
  {
   "cell_type": "code",
   "execution_count": null,
   "id": "otherwise-purpose",
   "metadata": {},
   "outputs": [],
   "source": [
    "final_df.write.parquet(\"s3a://facebookmsds694/final_df.parquet\")\n",
    "final_df.cache()\n",
    "final_df.show(5)\n",
    "result_filter.unpersist()\n",
    "# from pyspark.ml.classification import GBTClassifier"
   ]
  },
  {
   "cell_type": "code",
   "execution_count": 5,
   "id": "built-france",
   "metadata": {},
   "outputs": [
    {
     "data": {
      "application/vnd.jupyter.widget-view+json": {
       "model_id": "a3dcc695a8b84b04b52fdeb164a33b0e",
       "version_major": 2,
       "version_minor": 0
      },
      "text/plain": [
       "VBox()"
      ]
     },
     "metadata": {},
     "output_type": "display_data"
    },
    {
     "data": {
      "application/vnd.jupyter.widget-view+json": {
       "model_id": "",
       "version_major": 2,
       "version_minor": 0
      },
      "text/plain": [
       "FloatProgress(value=0.0, bar_style='info', description='Progress:', layout=Layout(height='25px', width='50%'),…"
      ]
     },
     "metadata": {},
     "output_type": "display_data"
    }
   ],
   "source": [
    "final_df=ss.read.parquet(\"s3a://facebookmsds694/final_df.parquet\")"
   ]
  },
  {
   "cell_type": "code",
   "execution_count": 6,
   "id": "material-membrane",
   "metadata": {},
   "outputs": [
    {
     "data": {
      "application/vnd.jupyter.widget-view+json": {
       "model_id": "28dc79a8d17242fd86d4886bd9738978",
       "version_major": 2,
       "version_minor": 0
      },
      "text/plain": [
       "VBox()"
      ]
     },
     "metadata": {},
     "output_type": "display_data"
    },
    {
     "data": {
      "application/vnd.jupyter.widget-view+json": {
       "model_id": "",
       "version_major": 2,
       "version_minor": 0
      },
      "text/plain": [
       "FloatProgress(value=0.0, bar_style='info', description='Progress:', layout=Layout(height='25px', width='50%'),…"
      ]
     },
     "metadata": {},
     "output_type": "display_data"
    },
    {
     "name": "stdout",
     "output_type": "stream",
     "text": [
      "+--------------------+--------------------+--------------------+--------------------+--------------------+--------------------+--------------------+-----+\n",
      "|          Text_array|               Title|                Body|                Tags|      Text_array_new|        Text_Vectors|         Tags_joined|count|\n",
      "+--------------------+--------------------+--------------------+--------------------+--------------------+--------------------+--------------------+-----+\n",
      "|use,condit,given,...|how to use a whil...|<p>i am fetching ...|       php mysql sql|[use, condit, giv...|(20000,[0,1,9,22,...|       php mysql sql| 1649|\n",
      "|lose,day,random,a...|I lose each day a...|<p>Ok my problem ...|         probability|[lose, day, rando...|(20000,[19,20,30,...|         probability| 3847|\n",
      "|regard,painleve',...|Regarding Painlev...|<p>Painleve's fir...|    complex-analysis|[regard, painleve...|(20000,[2,66,73,9...|    complex-analysis| 2911|\n",
      "|contentel,part,vi...|Why ContentElemen...|<p>I was wonderin...|                 wpf|[contentel, part,...|(20000,[0,1,6,41,...|                 wpf| 2674|\n",
      "|best,practic,stor...|Best practices to...|<p>How do you guy...|        php security|[best, practic, s...|(20000,[0,134,174...|        php security|  407|\n",
      "|custom,cell,colum...|custom cell and c...|<p>Im using a cus...|              vb.net|[custom, cell, co...|(20000,[0,1,4,6,7...|              vb.net| 4265|\n",
      "|c,use,struct,use,...|In C#, when shoul...|<blockquote>\n",
      "  <p...|                  c#|[c, use, struct, ...|(20000,[0,1,25,49...|                  c#|22889|\n",
      "|defin,cursor,posi...|How can I define ...|<p>I wrote a <str...|          autohotkey|[defin, cursor, p...|(20000,[5,9,12,53...|          autohotkey|  365|\n",
      "|sampl,xml,configu...|Sample xml config...|<p>Are there any ...|          java log4j|[sampl, xml, conf...|(20000,[1,3,9,12,...|          java log4j|  370|\n",
      "|java,basic,progra...|Java - Basic prog...|<p>I need directi...|                java|[java, basic, pro...|(20000,[1,2,3,14,...|                java|23751|\n",
      "|javascript,dropdo...|Javascript DropDo...|<p>I was looking ...|          javascript|[javascript, drop...|(20000,[46,112,12...|          javascript|24995|\n",
      "|use,javascript,pl...|Use JavaScript to...|<p>What is the be...|          javascript|[use, javascript,...|(20000,[1,17,19,7...|          javascript|24995|\n",
      "|program,variabl,s...|Programming a var...|<p>I have a slide...|              iphone|[program, variabl...|(20000,[5,12,15,1...|              iphone|12552|\n",
      "|z-index,position:...|z-indexs for posi...|<p>I want to put ...|                 css|[z-index, positio...|(20000,[0,5,9,14,...|                 css| 8738|\n",
      "|much,\"data\",put,s...|How much \"data\" y...|<p>As programmers...|          c++ string|[much, \"data\", pu...|(20000,[1,6,13,21...|          c++ string|  509|\n",
      "|prove,addit,group...|Proving that addi...|<p>I switched my ...|abstract-algebra ...|[prove, addit, gr...|(20000,[1,7,8,12,...|abstract-algebra ...| 1114|\n",
      "|find,index,row,sq...|how to find index...|<p>How can i fetc...|      sql sql-server|[find, index, row...|(20000,[0,5,9,17,...|      sql sql-server| 3951|\n",
      "|io,set,screen,use...|ios settings scre...|<p>I'm trying to ...|     objective-c ios|[io, set, screen,...|(20000,[5,7,8,9,1...|     objective-c ios| 2075|\n",
      "|ad,new,root,git,d...|Adding new roots ...|<blockquote>\n",
      "  <p...|                 git|[ad, new, root, g...|(20000,[0,4,5,9,1...|                 git| 5796|\n",
      "|could,find,com_fa...|Could not find co...|<p>i am adding fa...|             android|[could, find, com...|(20000,[0,23,50,6...|             android|49783|\n",
      "+--------------------+--------------------+--------------------+--------------------+--------------------+--------------------+--------------------+-----+\n",
      "only showing top 20 rows"
     ]
    }
   ],
   "source": [
    "final_df.show()"
   ]
  },
  {
   "cell_type": "code",
   "execution_count": 7,
   "id": "annual-generic",
   "metadata": {},
   "outputs": [
    {
     "data": {
      "application/vnd.jupyter.widget-view+json": {
       "model_id": "5eca5774dbba402ba8956d4be0b889ca",
       "version_major": 2,
       "version_minor": 0
      },
      "text/plain": [
       "VBox()"
      ]
     },
     "metadata": {},
     "output_type": "display_data"
    },
    {
     "data": {
      "application/vnd.jupyter.widget-view+json": {
       "model_id": "",
       "version_major": 2,
       "version_minor": 0
      },
      "text/plain": [
       "FloatProgress(value=0.0, bar_style='info', description='Progress:', layout=Layout(height='25px', width='50%'),…"
      ]
     },
     "metadata": {},
     "output_type": "display_data"
    },
    {
     "name": "stdout",
     "output_type": "stream",
     "text": [
      "DataFrame[Text_array: string, Title: string, Body: string, Tags: string, Text_array_new: array<string>, Text_Vectors: vector, Tags_joined: string, count: bigint]"
     ]
    }
   ],
   "source": [
    "c='Tags'\n",
    "si = StringIndexer(inputCol=final_df.columns[3], outputCol=c + \"-num\")\n",
    "sm = si.fit(final_df)\n",
    "newdf = sm.transform(final_df).drop(c)\n",
    "newdf = newdf.withColumnRenamed(c + \"-num\", c)\n",
    "final_df.unpersist()"
   ]
  },
  {
   "cell_type": "code",
   "execution_count": 8,
   "id": "detected-darkness",
   "metadata": {},
   "outputs": [
    {
     "data": {
      "application/vnd.jupyter.widget-view+json": {
       "model_id": "50d541fb3ca948ceb3c0d6ff986d5756",
       "version_major": 2,
       "version_minor": 0
      },
      "text/plain": [
       "VBox()"
      ]
     },
     "metadata": {},
     "output_type": "display_data"
    },
    {
     "data": {
      "application/vnd.jupyter.widget-view+json": {
       "model_id": "",
       "version_major": 2,
       "version_minor": 0
      },
      "text/plain": [
       "FloatProgress(value=0.0, bar_style='info', description='Progress:', layout=Layout(height='25px', width='50%'),…"
      ]
     },
     "metadata": {},
     "output_type": "display_data"
    }
   ],
   "source": [
    "splits = newdf.randomSplit([0.8, 0.2], seed=1)"
   ]
  },
  {
   "cell_type": "code",
   "execution_count": 9,
   "id": "complex-dealing",
   "metadata": {},
   "outputs": [
    {
     "data": {
      "application/vnd.jupyter.widget-view+json": {
       "model_id": "95f9b8750a1249ee85ba61f2941c54bf",
       "version_major": 2,
       "version_minor": 0
      },
      "text/plain": [
       "VBox()"
      ]
     },
     "metadata": {},
     "output_type": "display_data"
    },
    {
     "data": {
      "application/vnd.jupyter.widget-view+json": {
       "model_id": "",
       "version_major": 2,
       "version_minor": 0
      },
      "text/plain": [
       "FloatProgress(value=0.0, bar_style='info', description='Progress:', layout=Layout(height='25px', width='50%'),…"
      ]
     },
     "metadata": {},
     "output_type": "display_data"
    }
   ],
   "source": [
    "train=splits[0].cache()\n",
    "test=splits[1].cache()"
   ]
  },
  {
   "cell_type": "code",
   "execution_count": 10,
   "id": "detailed-nevada",
   "metadata": {},
   "outputs": [
    {
     "data": {
      "application/vnd.jupyter.widget-view+json": {
       "model_id": "331e5ecce4254fbe867c07d785bb376e",
       "version_major": 2,
       "version_minor": 0
      },
      "text/plain": [
       "VBox()"
      ]
     },
     "metadata": {},
     "output_type": "display_data"
    },
    {
     "data": {
      "application/vnd.jupyter.widget-view+json": {
       "model_id": "",
       "version_major": 2,
       "version_minor": 0
      },
      "text/plain": [
       "FloatProgress(value=0.0, bar_style='info', description='Progress:', layout=Layout(height='25px', width='50%'),…"
      ]
     },
     "metadata": {},
     "output_type": "display_data"
    }
   ],
   "source": [
    "train=train.select(col(\"Text_Vectors\").alias(\"features\"),col(\"Tags\").alias(\"label\"),col(\"count\").alias(\"weights\"))\n",
    "test=test.select(col(\"Text_Vectors\").alias(\"features\"),col(\"Tags\").alias(\"label\"),col(\"count\").alias(\"weights\"))"
   ]
  },
  {
   "cell_type": "code",
   "execution_count": 11,
   "id": "three-concentration",
   "metadata": {},
   "outputs": [
    {
     "data": {
      "application/vnd.jupyter.widget-view+json": {
       "model_id": "dfa1919abcc447be8da78d4d476cd2df",
       "version_major": 2,
       "version_minor": 0
      },
      "text/plain": [
       "VBox()"
      ]
     },
     "metadata": {},
     "output_type": "display_data"
    },
    {
     "data": {
      "application/vnd.jupyter.widget-view+json": {
       "model_id": "",
       "version_major": 2,
       "version_minor": 0
      },
      "text/plain": [
       "FloatProgress(value=0.0, bar_style='info', description='Progress:', layout=Layout(height='25px', width='50%'),…"
      ]
     },
     "metadata": {},
     "output_type": "display_data"
    }
   ],
   "source": [
    "sample_train=train.limit(100)\n",
    "sample_test=test.limit(100)"
   ]
  },
  {
   "cell_type": "code",
   "execution_count": 28,
   "id": "present-implementation",
   "metadata": {},
   "outputs": [
    {
     "data": {
      "application/vnd.jupyter.widget-view+json": {
       "model_id": "60827d47dd4545e2829a267eede3f4bb",
       "version_major": 2,
       "version_minor": 0
      },
      "text/plain": [
       "VBox()"
      ]
     },
     "metadata": {},
     "output_type": "display_data"
    },
    {
     "data": {
      "application/vnd.jupyter.widget-view+json": {
       "model_id": "",
       "version_major": 2,
       "version_minor": 0
      },
      "text/plain": [
       "FloatProgress(value=0.0, bar_style='info', description='Progress:', layout=Layout(height='25px', width='50%'),…"
      ]
     },
     "metadata": {},
     "output_type": "display_data"
    },
    {
     "name": "stdout",
     "output_type": "stream",
     "text": [
      "+--------------------+-----+-------+\n",
      "|            features|label|weights|\n",
      "+--------------------+-----+-------+\n",
      "|(20000,[12,15,19,...| 42.0|   3847|\n",
      "|(20000,[5,26,42,4...|700.0|    391|\n",
      "|(20000,[0,8,17,19...| 98.0|   1945|\n",
      "|(20000,[8,19,32,3...|181.0|   1227|\n",
      "|(20000,[0,15,24,4...|132.0|   1563|\n",
      "|(20000,[1,15,26,4...|  5.0|  23751|\n",
      "|(20000,[14,19,26,...| 25.0|   5107|\n",
      "|(20000,[13,14,15,...| 64.0|   2636|\n",
      "|(20000,[2,17,22,3...|260.0|    871|\n",
      "|(20000,[5,15,35,9...|  5.0|  23751|\n",
      "|(20000,[38,97,98,...|566.0|    458|\n",
      "|(20000,[5,8,15,22...|385.0|    670|\n",
      "|(20000,[21,33,168...| 65.0|   2616|\n",
      "|(20000,[0,1,2,8,1...|212.0|   1075|\n",
      "|(20000,[2,5,14,50...|951.0|    302|\n",
      "|(20000,[3,6,8,27,...| 22.0|   5796|\n",
      "|(20000,[2,5,8,9,1...|174.0|   1243|\n",
      "|(20000,[0,2,8,12,...| 20.0|   5901|\n",
      "|(20000,[1,2,3,4,6...|107.0|   1825|\n",
      "|(20000,[30,40,41,...|147.0|   1431|\n",
      "+--------------------+-----+-------+\n",
      "only showing top 20 rows"
     ]
    }
   ],
   "source": [
    "sample_test.show()"
   ]
  },
  {
   "cell_type": "code",
   "execution_count": null,
   "id": "acting-indian",
   "metadata": {},
   "outputs": [],
   "source": [
    "# gbt = GBTClassifier()"
   ]
  },
  {
   "cell_type": "code",
   "execution_count": 31,
   "id": "middle-survey",
   "metadata": {},
   "outputs": [
    {
     "data": {
      "application/vnd.jupyter.widget-view+json": {
       "model_id": "63a3c8f8624d4871b0271f176c5e13e1",
       "version_major": 2,
       "version_minor": 0
      },
      "text/plain": [
       "VBox()"
      ]
     },
     "metadata": {},
     "output_type": "display_data"
    },
    {
     "data": {
      "application/vnd.jupyter.widget-view+json": {
       "model_id": "",
       "version_major": 2,
       "version_minor": 0
      },
      "text/plain": [
       "FloatProgress(value=0.0, bar_style='info', description='Progress:', layout=Layout(height='25px', width='50%'),…"
      ]
     },
     "metadata": {},
     "output_type": "display_data"
    }
   ],
   "source": [
    "from pyspark.ml.classification import NaiveBayes\n",
    "nb = NaiveBayes(smoothing=1.0)"
   ]
  },
  {
   "cell_type": "code",
   "execution_count": 32,
   "id": "lesser-elizabeth",
   "metadata": {},
   "outputs": [
    {
     "data": {
      "application/vnd.jupyter.widget-view+json": {
       "model_id": "79d44296d89749a488d027350bff300f",
       "version_major": 2,
       "version_minor": 0
      },
      "text/plain": [
       "VBox()"
      ]
     },
     "metadata": {},
     "output_type": "display_data"
    },
    {
     "data": {
      "application/vnd.jupyter.widget-view+json": {
       "model_id": "",
       "version_major": 2,
       "version_minor": 0
      },
      "text/plain": [
       "FloatProgress(value=0.0, bar_style='info', description='Progress:', layout=Layout(height='25px', width='50%'),…"
      ]
     },
     "metadata": {},
     "output_type": "display_data"
    }
   ],
   "source": [
    "model=nb.fit(sample_train)"
   ]
  },
  {
   "cell_type": "code",
   "execution_count": 33,
   "id": "valuable-fiction",
   "metadata": {},
   "outputs": [
    {
     "data": {
      "application/vnd.jupyter.widget-view+json": {
       "model_id": "7b28c62e7c114abc96c17504b53f3b5f",
       "version_major": 2,
       "version_minor": 0
      },
      "text/plain": [
       "VBox()"
      ]
     },
     "metadata": {},
     "output_type": "display_data"
    },
    {
     "data": {
      "application/vnd.jupyter.widget-view+json": {
       "model_id": "",
       "version_major": 2,
       "version_minor": 0
      },
      "text/plain": [
       "FloatProgress(value=0.0, bar_style='info', description='Progress:', layout=Layout(height='25px', width='50%'),…"
      ]
     },
     "metadata": {},
     "output_type": "display_data"
    },
    {
     "name": "stdout",
     "output_type": "stream",
     "text": [
      "NaiveBayes_ff757a35b673"
     ]
    }
   ],
   "source": [
    "model"
   ]
  },
  {
   "cell_type": "code",
   "execution_count": 34,
   "id": "traditional-pillow",
   "metadata": {},
   "outputs": [
    {
     "data": {
      "application/vnd.jupyter.widget-view+json": {
       "model_id": "764ba43bee054c7cb082b773d03d833b",
       "version_major": 2,
       "version_minor": 0
      },
      "text/plain": [
       "VBox()"
      ]
     },
     "metadata": {},
     "output_type": "display_data"
    },
    {
     "data": {
      "application/vnd.jupyter.widget-view+json": {
       "model_id": "",
       "version_major": 2,
       "version_minor": 0
      },
      "text/plain": [
       "FloatProgress(value=0.0, bar_style='info', description='Progress:', layout=Layout(height='25px', width='50%'),…"
      ]
     },
     "metadata": {},
     "output_type": "display_data"
    }
   ],
   "source": [
    "Nbpredict=model.transform(sample_test)"
   ]
  },
  {
   "cell_type": "code",
   "execution_count": 35,
   "id": "boxed-magnet",
   "metadata": {},
   "outputs": [
    {
     "data": {
      "application/vnd.jupyter.widget-view+json": {
       "model_id": "b0173306d4844ab5bec1117c5c0f91a0",
       "version_major": 2,
       "version_minor": 0
      },
      "text/plain": [
       "VBox()"
      ]
     },
     "metadata": {},
     "output_type": "display_data"
    },
    {
     "data": {
      "application/vnd.jupyter.widget-view+json": {
       "model_id": "",
       "version_major": 2,
       "version_minor": 0
      },
      "text/plain": [
       "FloatProgress(value=0.0, bar_style='info', description='Progress:', layout=Layout(height='25px', width='50%'),…"
      ]
     },
     "metadata": {},
     "output_type": "display_data"
    },
    {
     "name": "stdout",
     "output_type": "stream",
     "text": [
      "+--------------------+-----+-------+--------------------+--------------------+----------+\n",
      "|            features|label|weights|       rawPrediction|         probability|prediction|\n",
      "+--------------------+-----+-------+--------------------+--------------------+----------+\n",
      "|(20000,[0,6,10,71...|  4.0|  24955|[-158.28443618191...|[0.00225360061706...|      10.0|\n",
      "|(20000,[0,43,67,6...| 27.0|   4970|[-131.32265773759...|[0.00169011223894...|       9.0|\n",
      "|(20000,[0,1,5,7,8...|239.0|    970|[-462.64919181176...|[0.00654251007738...|      10.0|\n",
      "|(20000,[1,3,4,6,7...| 44.0|   3559|[-538.59288472210...|[0.05032113133079...|       7.0|\n",
      "|(20000,[1,5,7,8,9...| 10.0|  15328|[-290.97639070426...|[0.70885237469591...|       0.0|\n",
      "|(20000,[0,3,4,10,...| 10.0|  15328|[-3030.8157099214...|[7.06354321454360...|      27.0|\n",
      "|(20000,[0,4,7,23,...|124.0|   1651|[-499.52242597826...|[7.28673651194859...|       7.0|\n",
      "|(20000,[1,2,5,6,7...|240.0|    961|[-296.35166911194...|[0.00166173235045...|       7.0|\n",
      "|(20000,[0,6,7,10,...|204.0|   1116|[-533.53345926383...|[2.44315254168651...|       7.0|\n",
      "|(20000,[0,1,2,4,6...| 19.0|   6082|[-699.80281108668...|[4.15887375541012...|      10.0|\n",
      "|(20000,[0,64,95,3...|132.0|   1563|[-91.676834848857...|[0.01974634471086...|      10.0|\n",
      "|(20000,[5,7,29,30...|155.0|   1374|[-759.41749933241...|[0.12394061698248...|       3.0|\n",
      "|(20000,[0,2,7,14,...|  5.0|  23751|[-481.77895607557...|[2.17243703403493...|      10.0|\n",
      "|(20000,[13,37,39,...|345.0|    727|[-248.87383204270...|[0.00761239555854...|       9.0|\n",
      "|(20000,[2,4,7,8,1...|501.0|    516|[-2045.1341544942...|[6.43890986713992...|      53.0|\n",
      "|(20000,[3,6,23,26...|189.0|   1186|[-404.39685280297...|[7.26199750645600...|       7.0|\n",
      "|(20000,[173,251,4...|566.0|    458|[-43.218168526599...|[0.01676710652125...|       9.0|\n",
      "|(20000,[16,21,24,...| 59.0|   2732|[-300.91601730341...|[3.92461889476515...|      53.0|\n",
      "|(20000,[1,2,12,15...|845.0|    340|[-573.58474726068...|[0.00249352191542...|      22.0|\n",
      "|(20000,[0,60,105,...|199.0|   1148|[-408.15027077822...|[1.13104573437390...|      14.0|\n",
      "|(20000,[5,8,15,31...| 22.0|   5796|[-690.32499134957...|[5.32651731133818...|       3.0|\n",
      "|(20000,[1,8,15,19...|343.0|    728|[-278.60819920925...|[0.00200825607521...|      37.0|\n",
      "|(20000,[8,59,67,1...|  3.0|  24995|[-170.27533344578...|[0.01703276553933...|       3.0|\n",
      "|(20000,[3,8,21,31...|321.0|    766|[-571.67520475580...|[2.80700547406209...|       7.0|\n",
      "|(20000,[0,2,19,21...| 86.0|   2135|[-279.99449357037...|[2.59784177871701...|       9.0|\n",
      "|(20000,[1,3,4,5,6...|152.0|   1397|[-1274.4973439366...|[4.42819637516585...|      10.0|\n",
      "|(20000,[0,1,11,13...| 19.0|   6082|[-576.78674621520...|[1.37449469967390...|      10.0|\n",
      "|(20000,[0,6,7,9,1...|  9.0|  15362|[-1016.4700911770...|[1.20825510341301...|      10.0|\n",
      "|(20000,[0,60,65,1...|694.0|    393|[-270.08303784819...|[0.00202073742647...|      58.0|\n",
      "|(20000,[0,1,3,4,7...| 15.0|   9963|[-1725.2147020334...|[4.89091276041067...|      10.0|\n",
      "|(20000,[1,7,12,14...| 49.0|   3246|[-327.87779574773...|[0.00472739824356...|       7.0|\n",
      "|(20000,[0,2,4,7,8...| 14.0|  10066|[-305.85765972602...|[0.00386308985968...|      10.0|\n",
      "|(20000,[0,2,8,17,...|  6.0|  22889|[-179.08817687929...|[0.00538234168594...|       6.0|\n",
      "|(20000,[0,1,2,4,1...|156.0|   1374|[-641.60258807903...|[3.51869962107229...|      10.0|\n",
      "|(20000,[15,73,153...|566.0|    458|[-211.01976862318...|[0.02649526730148...|      45.0|\n",
      "|(20000,[1,2,6,8,1...|150.0|   1412|[-680.12585355493...|[0.00298862232643...|       7.0|\n",
      "|(20000,[3,7,8,23,...|140.0|   1519|[-502.18965418484...|[0.02957982225934...|       7.0|\n",
      "|(20000,[0,15,16,1...|207.0|   1114|[-347.29524208399...|[3.33721978808526...|       9.0|\n",
      "|(20000,[6,7,19,50...|569.0|    456|[-238.67469424806...|[0.01790768286859...|      11.0|\n",
      "|(20000,[0,1,6,9,1...|  3.0|  24995|[-483.13707955972...|[2.73210180789463...|      10.0|\n",
      "|(20000,[4,12,24,3...|936.0|    305|[-445.42897005283...|[2.24706839286392...|       9.0|\n",
      "|(20000,[4,5,6,7,9...|  0.0|  49783|[-225.46740165987...|[0.53257817881954...|       0.0|\n",
      "|(20000,[2,12,26,2...|252.0|    899|[-397.25798580303...|[0.00277772453031...|       7.0|\n",
      "|(20000,[5,12,15,3...|175.0|   1241|[-338.07693354237...|[0.03350258657212...|      54.0|\n",
      "|(20000,[0,4,11,13...| 17.0|   8674|[-475.71053048732...|[1.07639652918270...|      10.0|\n",
      "|(20000,[2,3,8,23,...|182.0|   1213|[-364.63324687857...|[0.00166553239943...|      10.0|\n",
      "|(20000,[1,6,15,23...|104.0|   1855|[-509.95712984421...|[0.30737232427491...|      64.0|\n",
      "|(20000,[2,6,17,64...|148.0|   1428|[-131.03497566514...|[0.02725089623042...|       6.0|\n",
      "|(20000,[0,2,5,10,...|  5.0|  23751|[-325.68057117039...|[0.00142525032874...|      23.0|\n",
      "|(20000,[2,6,7,8,2...| 41.0|   3854|[-586.35840386380...|[0.06022593834089...|      69.0|\n",
      "|(20000,[1,3,9,31,...|129.0|   1605|[-346.31441283098...|[9.59977875621516...|       7.0|\n",
      "|(20000,[23,41,50,...|128.0|   1609|[-286.84567849787...|[0.21996072956602...|       0.0|\n",
      "|(20000,[1,2,7,10,...| 54.0|   2960|[-1705.6597532901...|[3.52742355789319...|      75.0|\n",
      "|(20000,[1,87,89,2...|233.0|    983|[-269.79535577574...|[0.01339963772972...|       5.0|\n",
      "|(20000,[5,12,15,1...|112.0|   1765|[-708.06846125226...|[0.02929639197164...|      23.0|\n",
      "|(20000,[1,7,15,17...|608.0|    434|[-736.70421613015...|[0.00124505094322...|      27.0|\n",
      "|(20000,[0,1,2,4,1...|297.0|    809|[-4159.8323877414...|[1.66606491336010...|      10.0|\n",
      "|(20000,[0,4,7,8,1...|649.0|    410|[-919.67476732095...|[4.76653916086661...|       7.0|\n",
      "|(20000,[0,1,10,11...|  7.0|  16470|[-1219.2396086880...|[5.78348833897782...|      14.0|\n",
      "|(20000,[0,2,6,9,1...|  6.0|  22889|[-1350.3471989354...|[1.08742226934524...|      10.0|\n",
      "|(20000,[0,2,10,16...| 16.0|   8738|[-492.78902408642...|[0.00167019515926...|       6.0|\n",
      "|(20000,[0,1,2,3,4...|898.0|    319|[-828.27021549115...|[1.79032351268804...|      10.0|\n",
      "|(20000,[1,3,5,8,1...|808.0|    350|[-1004.3135206291...|[5.95111612787605...|      23.0|\n",
      "|(20000,[6,16,24,4...|  3.0|  24995|[-416.38775006684...|[4.80601836015391...|      14.0|\n",
      "|(20000,[0,8,11,25...|922.0|    310|[-652.80650025085...|[2.06461755173956...|      10.0|\n",
      "|(20000,[1,17,35,4...| 33.0|   4436|[-308.74803148392...|[0.00237660501372...|      53.0|\n",
      "|(20000,[42,75,81,...|262.0|    870|[-239.65552350107...|[8.17959860239098...|      14.0|\n",
      "|(20000,[2,10,23,4...|134.0|   1530|[-130.34182848458...|[0.00974107148630...|       7.0|\n",
      "|(20000,[2,4,5,19,...|  8.0|  15798|[-581.01129633308...|[2.00064823369622...|      10.0|\n",
      "|(20000,[0,4,6,10,...|  4.0|  24955|[-6263.5721357862...|[2.33523883940841...|      27.0|\n",
      "|(20000,[1,3,42,52...|740.0|    375|[-201.10831290100...|[0.00178837105927...|       3.0|\n",
      "|(20000,[7,30,33,4...| 11.0|  13296|[-318.65948720610...|[0.02236529173393...|      14.0|\n",
      "|(20000,[14,15,32,...|131.0|   1572|[-279.01366431736...|[0.00928160911416...|      14.0|\n",
      "|(20000,[14,17,32,...|  4.0|  24955|[-300.65228035513...|[3.09087888230669...|      14.0|\n",
      "|(20000,[0,2,9,22,...|  0.0|  49783|[-363.20613052293...|[0.01942122510411...|       7.0|\n",
      "|(20000,[0,2,6,9,1...|724.0|    382|[-355.82040344506...|[0.00697649528061...|      22.0|\n",
      "|(20000,[0,2,5,7,2...|477.0|    544|[-477.67218899335...|[1.46626395467886...|      10.0|\n",
      "|(20000,[14,21,57,...| 10.0|  15328|[-199.02887135932...|[0.05597061068053...|      46.0|\n",
      "|(20000,[1,20,41,5...| 43.0|   3710|[-285.74706620920...|[2.02251315441663...|       7.0|\n",
      "|(20000,[1,10,72,8...| 11.0|  13296|[-408.55573588633...|[2.29829380730238...|      45.0|\n",
      "|(20000,[1,2,6,10,...|252.0|    899|[-616.38045310280...|[1.03790501530094...|      14.0|\n",
      "|(20000,[1,30,152,...|176.0|   1238|[-228.76323852588...|[0.12867229998334...|       0.0|\n",
      "|(20000,[6,7,8,15,...|480.0|    541|[-628.08366829422...|[0.07410811259736...|       7.0|\n",
      "|(20000,[6,15,28,6...|604.0|    437|[-365.44417709479...|[0.01429264537925...|      61.0|\n",
      "|(20000,[5,9,48,59...| 46.0|   3490|[-225.46740165987...|[0.10730917470806...|      52.0|\n",
      "|(20000,[4,8,9,14,...| 58.0|   2813|[-695.09673473538...|[0.36109544690683...|      27.0|\n",
      "|(20000,[0,2,5,9,1...|234.0|    979|[-1145.3232413182...|[1.08641387659235...|      14.0|\n",
      "|(20000,[1,12,179,...|  0.0|  49783|[-149.94159637764...|[0.08578531509236...|       0.0|\n",
      "|(20000,[1,5,6,10,...|  4.0|  24955|[-1137.5808392964...|[2.96008002063543...|       7.0|\n",
      "|(20000,[8,66,73,1...| 11.0|  13296|[-258.09214058432...|[0.01822403599707...|      14.0|\n",
      "|(20000,[0,3,5,9,1...|364.0|    699|[-439.64822653704...|[1.76429147230998...|      14.0|\n",
      "|(20000,[0,1,2,4,6...|  5.0|  23751|[-302.10424175077...|[0.00207252023378...|      10.0|\n",
      "|(20000,[2,3,6,7,8...|184.0|   1206|[-684.77981390509...|[1.67506742375189...|       7.0|\n",
      "|(20000,[6,17,23,2...|143.0|   1483|[-308.74803148392...|[0.00811131667534...|      27.0|\n",
      "|(20000,[0,2,8,27,...|  4.0|  24955|[-276.41097463192...|[4.76817096754518...|      10.0|\n",
      "|(20000,[2,3,5,6,7...|573.0|    455|[-1300.5585800060...|[5.94542815648836...|       7.0|\n",
      "|(20000,[7,8,12,30...|451.0|    580|[-414.88367267006...|[0.00322202025315...|      69.0|\n",
      "|(20000,[0,1,7,9,1...|470.0|    552|[-762.19008805465...|[6.80987131790916...|       6.0|\n",
      "|(20000,[15,17,46,...|191.0|   1183|[-189.81056281769...|[0.04353997204018...|       7.0|\n",
      "|(20000,[1,2,7,16,...| 45.0|   3536|[-504.89770438594...|[5.20397551069209...|      14.0|\n",
      "+--------------------+-----+-------+--------------------+--------------------+----------+"
     ]
    }
   ],
   "source": [
    "Nbpredict.show(100)"
   ]
  },
  {
   "cell_type": "code",
   "execution_count": 37,
   "id": "checked-fishing",
   "metadata": {},
   "outputs": [
    {
     "data": {
      "application/vnd.jupyter.widget-view+json": {
       "model_id": "70f3b933150b4a87a65632400db322f6",
       "version_major": 2,
       "version_minor": 0
      },
      "text/plain": [
       "VBox()"
      ]
     },
     "metadata": {},
     "output_type": "display_data"
    },
    {
     "data": {
      "application/vnd.jupyter.widget-view+json": {
       "model_id": "",
       "version_major": 2,
       "version_minor": 0
      },
      "text/plain": [
       "FloatProgress(value=0.0, bar_style='info', description='Progress:', layout=Layout(height='25px', width='50%'),…"
      ]
     },
     "metadata": {},
     "output_type": "display_data"
    },
    {
     "name": "stderr",
     "output_type": "stream",
     "text": [
      "An error occurred while calling o584.evaluate.\n",
      ": java.util.NoSuchElementException: key not found: 234.0\n",
      "\tat scala.collection.MapLike$class.default(MapLike.scala:228)\n",
      "\tat scala.collection.AbstractMap.default(Map.scala:59)\n",
      "\tat scala.collection.mutable.HashMap.apply(HashMap.scala:65)\n",
      "\tat org.apache.spark.mllib.evaluation.MulticlassMetrics.precision(MulticlassMetrics.scala:105)\n",
      "\tat org.apache.spark.mllib.evaluation.MulticlassMetrics.fMeasure(MulticlassMetrics.scala:124)\n",
      "\tat org.apache.spark.mllib.evaluation.MulticlassMetrics$$anonfun$weightedFMeasure$2.apply(MulticlassMetrics.scala:216)\n",
      "\tat org.apache.spark.mllib.evaluation.MulticlassMetrics$$anonfun$weightedFMeasure$2.apply(MulticlassMetrics.scala:215)\n",
      "\tat scala.collection.TraversableLike$$anonfun$map$1.apply(TraversableLike.scala:234)\n",
      "\tat scala.collection.TraversableLike$$anonfun$map$1.apply(TraversableLike.scala:234)\n",
      "\tat scala.collection.immutable.HashMap$HashMap1.foreach(HashMap.scala:221)\n",
      "\tat scala.collection.immutable.HashMap$HashTrieMap.foreach(HashMap.scala:428)\n",
      "\tat scala.collection.immutable.HashMap$HashTrieMap.foreach(HashMap.scala:428)\n",
      "\tat scala.collection.TraversableLike$class.map(TraversableLike.scala:234)\n",
      "\tat scala.collection.AbstractTraversable.map(Traversable.scala:104)\n",
      "\tat org.apache.spark.mllib.evaluation.MulticlassMetrics.weightedFMeasure$lzycompute(MulticlassMetrics.scala:215)\n",
      "\tat org.apache.spark.mllib.evaluation.MulticlassMetrics.weightedFMeasure(MulticlassMetrics.scala:215)\n",
      "\tat org.apache.spark.ml.evaluation.MulticlassClassificationEvaluator.evaluate(MulticlassClassificationEvaluator.scala:84)\n",
      "\tat sun.reflect.NativeMethodAccessorImpl.invoke0(Native Method)\n",
      "\tat sun.reflect.NativeMethodAccessorImpl.invoke(NativeMethodAccessorImpl.java:62)\n",
      "\tat sun.reflect.DelegatingMethodAccessorImpl.invoke(DelegatingMethodAccessorImpl.java:43)\n",
      "\tat java.lang.reflect.Method.invoke(Method.java:498)\n",
      "\tat py4j.reflection.MethodInvoker.invoke(MethodInvoker.java:244)\n",
      "\tat py4j.reflection.ReflectionEngine.invoke(ReflectionEngine.java:357)\n",
      "\tat py4j.Gateway.invoke(Gateway.java:282)\n",
      "\tat py4j.commands.AbstractCommand.invokeMethod(AbstractCommand.java:132)\n",
      "\tat py4j.commands.CallCommand.execute(CallCommand.java:79)\n",
      "\tat py4j.GatewayConnection.run(GatewayConnection.java:238)\n",
      "\tat java.lang.Thread.run(Thread.java:748)\n",
      "\n",
      "Traceback (most recent call last):\n",
      "  File \"/usr/lib/spark/python/lib/pyspark.zip/pyspark/ml/evaluation.py\", line 71, in evaluate\n",
      "    return self._evaluate(dataset)\n",
      "  File \"/usr/lib/spark/python/lib/pyspark.zip/pyspark/ml/evaluation.py\", line 101, in _evaluate\n",
      "    return self._java_obj.evaluate(dataset._jdf)\n",
      "  File \"/usr/lib/spark/python/lib/py4j-0.10.7-src.zip/py4j/java_gateway.py\", line 1257, in __call__\n",
      "    answer, self.gateway_client, self.target_id, self.name)\n",
      "  File \"/usr/lib/spark/python/lib/pyspark.zip/pyspark/sql/utils.py\", line 63, in deco\n",
      "    return f(*a, **kw)\n",
      "  File \"/usr/lib/spark/python/lib/py4j-0.10.7-src.zip/py4j/protocol.py\", line 328, in get_return_value\n",
      "    format(target_id, \".\", name), value)\n",
      "py4j.protocol.Py4JJavaError: An error occurred while calling o584.evaluate.\n",
      ": java.util.NoSuchElementException: key not found: 234.0\n",
      "\tat scala.collection.MapLike$class.default(MapLike.scala:228)\n",
      "\tat scala.collection.AbstractMap.default(Map.scala:59)\n",
      "\tat scala.collection.mutable.HashMap.apply(HashMap.scala:65)\n",
      "\tat org.apache.spark.mllib.evaluation.MulticlassMetrics.precision(MulticlassMetrics.scala:105)\n",
      "\tat org.apache.spark.mllib.evaluation.MulticlassMetrics.fMeasure(MulticlassMetrics.scala:124)\n",
      "\tat org.apache.spark.mllib.evaluation.MulticlassMetrics$$anonfun$weightedFMeasure$2.apply(MulticlassMetrics.scala:216)\n",
      "\tat org.apache.spark.mllib.evaluation.MulticlassMetrics$$anonfun$weightedFMeasure$2.apply(MulticlassMetrics.scala:215)\n",
      "\tat scala.collection.TraversableLike$$anonfun$map$1.apply(TraversableLike.scala:234)\n",
      "\tat scala.collection.TraversableLike$$anonfun$map$1.apply(TraversableLike.scala:234)\n",
      "\tat scala.collection.immutable.HashMap$HashMap1.foreach(HashMap.scala:221)\n",
      "\tat scala.collection.immutable.HashMap$HashTrieMap.foreach(HashMap.scala:428)\n",
      "\tat scala.collection.immutable.HashMap$HashTrieMap.foreach(HashMap.scala:428)\n",
      "\tat scala.collection.TraversableLike$class.map(TraversableLike.scala:234)\n",
      "\tat scala.collection.AbstractTraversable.map(Traversable.scala:104)\n",
      "\tat org.apache.spark.mllib.evaluation.MulticlassMetrics.weightedFMeasure$lzycompute(MulticlassMetrics.scala:215)\n",
      "\tat org.apache.spark.mllib.evaluation.MulticlassMetrics.weightedFMeasure(MulticlassMetrics.scala:215)\n",
      "\tat org.apache.spark.ml.evaluation.MulticlassClassificationEvaluator.evaluate(MulticlassClassificationEvaluator.scala:84)\n",
      "\tat sun.reflect.NativeMethodAccessorImpl.invoke0(Native Method)\n",
      "\tat sun.reflect.NativeMethodAccessorImpl.invoke(NativeMethodAccessorImpl.java:62)\n",
      "\tat sun.reflect.DelegatingMethodAccessorImpl.invoke(DelegatingMethodAccessorImpl.java:43)\n",
      "\tat java.lang.reflect.Method.invoke(Method.java:498)\n",
      "\tat py4j.reflection.MethodInvoker.invoke(MethodInvoker.java:244)\n",
      "\tat py4j.reflection.ReflectionEngine.invoke(ReflectionEngine.java:357)\n",
      "\tat py4j.Gateway.invoke(Gateway.java:282)\n",
      "\tat py4j.commands.AbstractCommand.invokeMethod(AbstractCommand.java:132)\n",
      "\tat py4j.commands.CallCommand.execute(CallCommand.java:79)\n",
      "\tat py4j.GatewayConnection.run(GatewayConnection.java:238)\n",
      "\tat java.lang.Thread.run(Thread.java:748)\n",
      "\n",
      "\n"
     ]
    }
   ],
   "source": [
    "from pyspark.ml.evaluation import MulticlassClassificationEvaluator\n",
    "evaluator = MulticlassClassificationEvaluator(predictionCol=\"prediction\")\n",
    "evaluator.evaluate(Nbpredict)\n",
    "#print(\"Model Accuracy: \", accuracy)"
   ]
  },
  {
   "cell_type": "code",
   "execution_count": null,
   "id": "thrown-allah",
   "metadata": {},
   "outputs": [],
   "source": [
    "# rf = RandomForestClassifier(maxDepth=20)\n",
    "# paramGrid = ParamGridBuilder().addGrid(rf.maxDepth, [20]).build()\n",
    "# evaluator=MulticlassClassificationEvaluator()\\\n",
    "#            .setLabelCol(\"label\")\\\n",
    "#            .setPredictionCol(\"prediction\")\\\n",
    "#            .setMetricName(\"f1\")"
   ]
  },
  {
   "cell_type": "code",
   "execution_count": null,
   "id": "expected-activation",
   "metadata": {},
   "outputs": [],
   "source": []
  },
  {
   "cell_type": "code",
   "execution_count": null,
   "id": "bacterial-audit",
   "metadata": {},
   "outputs": [],
   "source": [
    "#cv = CrossValidator(estimator=rf,\n",
    "#                    evaluator=evaluator,\n",
    "#                    numFolds=3,\n",
    "#                    estimatorParamMaps=paramGrid)"
   ]
  },
  {
   "cell_type": "code",
   "execution_count": null,
   "id": "functional-cambridge",
   "metadata": {},
   "outputs": [],
   "source": [
    "# model = rf.fit(train)"
   ]
  },
  {
   "cell_type": "code",
   "execution_count": null,
   "id": "earned-wages",
   "metadata": {},
   "outputs": [],
   "source": [
    "#print(\"{:.{}f}\".format(evaluator.evaluate(gbtpredicts), 4))"
   ]
  },
  {
   "cell_type": "code",
   "execution_count": 38,
   "id": "theoretical-newsletter",
   "metadata": {},
   "outputs": [
    {
     "data": {
      "application/vnd.jupyter.widget-view+json": {
       "model_id": "e9f8d15532aa454590e47ed992d66059",
       "version_major": 2,
       "version_minor": 0
      },
      "text/plain": [
       "VBox()"
      ]
     },
     "metadata": {},
     "output_type": "display_data"
    },
    {
     "data": {
      "application/vnd.jupyter.widget-view+json": {
       "model_id": "",
       "version_major": 2,
       "version_minor": 0
      },
      "text/plain": [
       "FloatProgress(value=0.0, bar_style='info', description='Progress:', layout=Layout(height='25px', width='50%'),…"
      ]
     },
     "metadata": {},
     "output_type": "display_data"
    }
   ],
   "source": [
    "ss.stop()"
   ]
  },
  {
   "cell_type": "code",
   "execution_count": null,
   "id": "brief-quest",
   "metadata": {},
   "outputs": [],
   "source": []
  }
 ],
 "metadata": {
  "kernelspec": {
   "display_name": "PySpark",
   "language": "",
   "name": "pysparkkernel"
  },
  "language_info": {
   "codemirror_mode": {
    "name": "python",
    "version": 2
   },
   "mimetype": "text/x-python",
   "name": "pyspark",
   "pygments_lexer": "python2"
  }
 },
 "nbformat": 4,
 "nbformat_minor": 5
}
