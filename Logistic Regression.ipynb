{
 "cells": [
  {
   "cell_type": "markdown",
   "id": "cleared-nomination",
   "metadata": {},
   "source": [
    "# Logistic Regression"
   ]
  },
  {
   "cell_type": "markdown",
   "id": "adjacent-overhead",
   "metadata": {},
   "source": [
    "### Weronica - ML Goal: Test how well logisitc regression performance on our classification task and time performance on a 4XL EMR Cluster. "
   ]
  },
  {
   "cell_type": "code",
   "execution_count": 1,
   "id": "lasting-aquatic",
   "metadata": {},
   "outputs": [
    {
     "data": {
      "text/html": [
       "Current session configs: <tt>{'conf': {'spark.pyspark.python': 'python3', 'spark.pyspark.virtualenv.enabled': 'true', 'spark.pyspark.virtualenv.type': 'native', 'spark.pyspark.virtualenv.bin.path': '/usr/bin/virtualenv', 'spark.executor.heartbeatInterval': '10800s', 'spark.network.timeout': '24h', 'spark.driver.memory': '40G', 'spark.executor.memory': '40G', 'spark.executor.cores': '10', 'livy.server.session.timeout': '24h', 'spark.app.name': 'preproccessing_please_work_2'}, 'kind': 'pyspark'}</tt><br>"
      ],
      "text/plain": [
       "<IPython.core.display.HTML object>"
      ]
     },
     "metadata": {},
     "output_type": "display_data"
    },
    {
     "data": {
      "text/html": [
       "No active sessions."
      ],
      "text/plain": [
       "<IPython.core.display.HTML object>"
      ]
     },
     "metadata": {},
     "output_type": "display_data"
    }
   ],
   "source": [
    "%%configure -f \n",
    "{\n",
    "\"conf\":{\n",
    "        \"spark.pyspark.python\": \"python3\",\n",
    "        \"spark.pyspark.virtualenv.enabled\": \"true\",\n",
    "        \"spark.pyspark.virtualenv.type\":\"native\",\n",
    "        \"spark.pyspark.virtualenv.bin.path\":\"/usr/bin/virtualenv\",\n",
    "        \"spark.executor.heartbeatInterval\":\"10800s\",\n",
    "        \"spark.network.timeout\":\"24h\",\n",
    "        \"spark.driver.memory\": \"40G\",\n",
    "        \"spark.executor.memory\": \"40G\",\n",
    "        \"spark.executor.cores\":\"10\",\n",
    "        \"livy.server.session.timeout\":\"24h\",\n",
    "        \"spark.app.name\":\"preproccessing_please_work_2\"\n",
    "      }\n",
    "}"
   ]
  },
  {
   "cell_type": "code",
   "execution_count": 2,
   "id": "subjective-split",
   "metadata": {},
   "outputs": [
    {
     "data": {
      "application/vnd.jupyter.widget-view+json": {
       "model_id": "b3697e1aae8f47cab18dec661e47b5ee",
       "version_major": 2,
       "version_minor": 0
      },
      "text/plain": [
       "VBox()"
      ]
     },
     "metadata": {},
     "output_type": "display_data"
    },
    {
     "name": "stdout",
     "output_type": "stream",
     "text": [
      "Starting Spark application\n"
     ]
    },
    {
     "data": {
      "text/html": [
       "<table>\n",
       "<tr><th>ID</th><th>YARN Application ID</th><th>Kind</th><th>State</th><th>Spark UI</th><th>Driver log</th><th>Current session?</th></tr><tr><td>0</td><td>application_1615410459390_0001</td><td>pyspark</td><td>idle</td><td><a target=\"_blank\" href=\"http://ip-172-31-17-102.us-west-1.compute.internal:20888/proxy/application_1615410459390_0001/\">Link</a></td><td><a target=\"_blank\" href=\"http://ip-172-31-16-68.us-west-1.compute.internal:8042/node/containerlogs/container_1615410459390_0001_01_000001/livy\">Link</a></td><td>✔</td></tr></table>"
      ],
      "text/plain": [
       "<IPython.core.display.HTML object>"
      ]
     },
     "metadata": {},
     "output_type": "display_data"
    },
    {
     "data": {
      "application/vnd.jupyter.widget-view+json": {
       "model_id": "",
       "version_major": 2,
       "version_minor": 0
      },
      "text/plain": [
       "FloatProgress(value=0.0, bar_style='info', description='Progress:', layout=Layout(height='25px', width='50%'),…"
      ]
     },
     "metadata": {},
     "output_type": "display_data"
    },
    {
     "name": "stdout",
     "output_type": "stream",
     "text": [
      "SparkSession available as 'spark'.\n"
     ]
    },
    {
     "data": {
      "application/vnd.jupyter.widget-view+json": {
       "model_id": "",
       "version_major": 2,
       "version_minor": 0
      },
      "text/plain": [
       "FloatProgress(value=0.0, bar_style='info', description='Progress:', layout=Layout(height='25px', width='50%'),…"
      ]
     },
     "metadata": {},
     "output_type": "display_data"
    }
   ],
   "source": [
    "from pyspark.ml.tuning import ParamGridBuilder, CrossValidator\n",
    "from pyspark.ml.feature import StringIndexer\n",
    "from pyspark.sql.functions import col, size, split\n",
    "from pyspark.ml.classification import LogisticRegression\n",
    "from pyspark.ml.evaluation import MulticlassClassificationEvaluator\n",
    "import time"
   ]
  },
  {
   "cell_type": "code",
   "execution_count": 3,
   "id": "innovative-duration",
   "metadata": {},
   "outputs": [
    {
     "data": {
      "application/vnd.jupyter.widget-view+json": {
       "model_id": "08815ed1c7a1470890715e82526c9efb",
       "version_major": 2,
       "version_minor": 0
      },
      "text/plain": [
       "VBox()"
      ]
     },
     "metadata": {},
     "output_type": "display_data"
    },
    {
     "data": {
      "application/vnd.jupyter.widget-view+json": {
       "model_id": "",
       "version_major": 2,
       "version_minor": 0
      },
      "text/plain": [
       "FloatProgress(value=0.0, bar_style='info', description='Progress:', layout=Layout(height='25px', width='50%'),…"
      ]
     },
     "metadata": {},
     "output_type": "display_data"
    }
   ],
   "source": [
    "final_df=spark.read.parquet(\"s3a://facebookmsds694/final_df.parquet\")"
   ]
  },
  {
   "cell_type": "code",
   "execution_count": 4,
   "id": "surgical-barrier",
   "metadata": {},
   "outputs": [
    {
     "data": {
      "application/vnd.jupyter.widget-view+json": {
       "model_id": "3ebdec64d54548e4bc178c569c379168",
       "version_major": 2,
       "version_minor": 0
      },
      "text/plain": [
       "VBox()"
      ]
     },
     "metadata": {},
     "output_type": "display_data"
    },
    {
     "data": {
      "application/vnd.jupyter.widget-view+json": {
       "model_id": "",
       "version_major": 2,
       "version_minor": 0
      },
      "text/plain": [
       "FloatProgress(value=0.0, bar_style='info', description='Progress:', layout=Layout(height='25px', width='50%'),…"
      ]
     },
     "metadata": {},
     "output_type": "display_data"
    }
   ],
   "source": [
    "muliticlass_df = final_df.withColumn(\"num_labels\",size(split(col('Tags'),\" \").cast(\"array<string>\"))).filter(col(\"num_labels\")==1)"
   ]
  },
  {
   "cell_type": "code",
   "execution_count": 5,
   "id": "small-northern",
   "metadata": {},
   "outputs": [
    {
     "data": {
      "application/vnd.jupyter.widget-view+json": {
       "model_id": "a17d7839731d44d0996be9dd6a1332fd",
       "version_major": 2,
       "version_minor": 0
      },
      "text/plain": [
       "VBox()"
      ]
     },
     "metadata": {},
     "output_type": "display_data"
    },
    {
     "data": {
      "application/vnd.jupyter.widget-view+json": {
       "model_id": "",
       "version_major": 2,
       "version_minor": 0
      },
      "text/plain": [
       "FloatProgress(value=0.0, bar_style='info', description='Progress:', layout=Layout(height='25px', width='50%'),…"
      ]
     },
     "metadata": {},
     "output_type": "display_data"
    },
    {
     "name": "stdout",
     "output_type": "stream",
     "text": [
      "+-----------------------+-----+\n",
      "|Tags_joined            |count|\n",
      "+-----------------------+-----+\n",
      "|qt                     |1328 |\n",
      "|algebra-precalculus    |2294 |\n",
      "|google-chrome-extension|715  |\n",
      "|windows-7              |2674 |\n",
      "|magento                |3710 |\n",
      "|c#-3.0                 |384  |\n",
      "|iphone                 |12552|\n",
      "|geometry               |2007 |\n",
      "|unix                   |805  |\n",
      "|database-design        |737  |\n",
      "|ssis                   |721  |\n",
      "|windows-server-2008    |714  |\n",
      "|zend-framework         |1077 |\n",
      "|asp.net-mvc-2          |821  |\n",
      "|ftp                    |362  |\n",
      "|xcode                  |1291 |\n",
      "|azure                  |639  |\n",
      "|android                |49783|\n",
      "|virtualbox             |407  |\n",
      "|macros                 |455  |\n",
      "+-----------------------+-----+\n",
      "only showing top 20 rows"
     ]
    }
   ],
   "source": [
    "tags = muliticlass_df.groupBy('Tags_joined').count()\n",
    "tags.show(20, truncate=False)"
   ]
  },
  {
   "cell_type": "code",
   "execution_count": 6,
   "id": "protective-drunk",
   "metadata": {},
   "outputs": [
    {
     "data": {
      "application/vnd.jupyter.widget-view+json": {
       "model_id": "6c1af630c612451ba3178bf5497466f4",
       "version_major": 2,
       "version_minor": 0
      },
      "text/plain": [
       "VBox()"
      ]
     },
     "metadata": {},
     "output_type": "display_data"
    },
    {
     "data": {
      "application/vnd.jupyter.widget-view+json": {
       "model_id": "",
       "version_major": 2,
       "version_minor": 0
      },
      "text/plain": [
       "FloatProgress(value=0.0, bar_style='info', description='Progress:', layout=Layout(height='25px', width='50%'),…"
      ]
     },
     "metadata": {},
     "output_type": "display_data"
    },
    {
     "name": "stdout",
     "output_type": "stream",
     "text": [
      "+-------------------------+-----+\n",
      "|Tags_joined              |count|\n",
      "+-------------------------+-----+\n",
      "|qt                       |1328 |\n",
      "|algebra-precalculus      |2294 |\n",
      "|google-chrome-extension  |715  |\n",
      "|magento                  |3710 |\n",
      "|windows-7                |2674 |\n",
      "|c#-3.0                   |384  |\n",
      "|iphone                   |12552|\n",
      "|ssis                     |721  |\n",
      "|geometry                 |2007 |\n",
      "|unix                     |805  |\n",
      "|database-design          |737  |\n",
      "|windows-server-2008      |714  |\n",
      "|zend-framework           |1077 |\n",
      "|asp.net-mvc-2            |821  |\n",
      "|ftp                      |362  |\n",
      "|xcode                    |1291 |\n",
      "|azure                    |639  |\n",
      "|android                  |49783|\n",
      "|virtualbox               |407  |\n",
      "|jsf-2                    |443  |\n",
      "|macros                   |455  |\n",
      "|infopath                 |384  |\n",
      "|notation                 |516  |\n",
      "|algorithm                |1838 |\n",
      "|entity-framework-4       |371  |\n",
      "|couchdb                  |390  |\n",
      "|applescript              |306  |\n",
      "|polynomials              |424  |\n",
      "|language-agnostic        |687  |\n",
      "|postgresql               |1526 |\n",
      "|plone                    |412  |\n",
      "|d3.js                    |372  |\n",
      "|plugin-development       |375  |\n",
      "|google-drive-sdk         |349  |\n",
      "|struts2                  |686  |\n",
      "|winforms                 |433  |\n",
      "|haskell                  |1945 |\n",
      "|apache2                  |1483 |\n",
      "|powershell               |2372 |\n",
      "|emacs                    |1605 |\n",
      "|oop                      |359  |\n",
      "|actionscript-3           |2153 |\n",
      "|amazon-ec2               |648  |\n",
      "|orchardcms               |306  |\n",
      "|cocoa                    |794  |\n",
      "|tridion                  |303  |\n",
      "|paypal                   |311  |\n",
      "|tinymce                  |345  |\n",
      "|osx                      |842  |\n",
      "|limit                    |353  |\n",
      "|project-management       |404  |\n",
      "|security                 |673  |\n",
      "|education                |348  |\n",
      "|delphi                   |1825 |\n",
      "|asp.net-mvc-3            |2495 |\n",
      "|salesforce               |313  |\n",
      "|gwt                      |1390 |\n",
      "|java-me                  |383  |\n",
      "|ubuntu                   |944  |\n",
      "|terminology              |458  |\n",
      "|node.js                  |1434 |\n",
      "|dns                      |846  |\n",
      "|c#                       |22889|\n",
      "|algebraic-geometry       |1522 |\n",
      "|mathematica              |1228 |\n",
      "|firefox                  |864  |\n",
      "|plugins                  |628  |\n",
      "|workflow                 |366  |\n",
      "|general-topology         |2732 |\n",
      "|group-theory             |1877 |\n",
      "|monotouch                |308  |\n",
      "|open-source              |340  |\n",
      "|probability-distributions|391  |\n",
      "|vb.net                   |4265 |\n",
      "|google-maps              |950  |\n",
      "|spring                   |669  |\n",
      "|sencha-touch-2           |313  |\n",
      "|makefile                 |327  |\n",
      "|asp.net                  |11586|\n",
      "|html                     |3559 |\n",
      "|opengl                   |832  |\n",
      "|perl                     |4070 |\n",
      "|mongodb                  |1707 |\n",
      "|sql-server-2008          |2059 |\n",
      "|linq                     |1050 |\n",
      "|bibtex                   |334  |\n",
      "|excel                    |1197 |\n",
      "|inequality               |635  |\n",
      "|windows-8                |800  |\n",
      "|xpages                   |494  |\n",
      "|gnuplot                  |429  |\n",
      "|database                 |834  |\n",
      "|arithmetic               |410  |\n",
      "|drupal-7                 |332  |\n",
      "|jquery-mobile            |1082 |\n",
      "|calculus                 |3064 |\n",
      "|json                     |371  |\n",
      "|xpath                    |526  |\n",
      "|ruby                     |4970 |\n",
      "|cuda                     |702  |\n",
      "|mysql                    |15362|\n",
      "|entity-framework         |1328 |\n",
      "|ember.js                 |848  |\n",
      "|google-maps-api-3        |618  |\n",
      "|nhibernate               |1431 |\n",
      "|jquery-ui                |693  |\n",
      "|mod-rewrite              |555  |\n",
      "|programming-languages    |670  |\n",
      "|algebraic-topology       |1148 |\n",
      "|backbone.js              |844  |\n",
      "|licensing                |408  |\n",
      "|tomcat                   |493  |\n",
      "|wireless-networking      |480  |\n",
      "|web-services             |572  |\n",
      "|functional-analysis      |852  |\n",
      "|awk                      |504  |\n",
      "|graphics                 |343  |\n",
      "|ajax                     |676  |\n",
      "|symfony2                 |684  |\n",
      "|tsql                     |875  |\n",
      "|sharepoint-foundation    |311  |\n",
      "|twitter-bootstrap        |486  |\n",
      "|go                       |450  |\n",
      "|html5                    |720  |\n",
      "|puppet                   |403  |\n",
      "|prolog                   |527  |\n",
      "|jquery                   |28079|\n",
      "|biblatex                 |411  |\n",
      "|javascript               |24995|\n",
      "|real-analysis            |3536 |\n",
      "|jasper-reports           |404  |\n",
      "|eclipse                  |1872 |\n",
      "|winapi                   |414  |\n",
      "|linq-to-sql              |899  |\n",
      "|wix                      |394  |\n",
      "|css                      |8738 |\n",
      "|phonegap                 |389  |\n",
      "|clojure                  |1273 |\n",
      "|google-analytics         |510  |\n",
      "|bash                     |2616 |\n",
      "|visual-studio-2010       |1704 |\n",
      "|cron                     |402  |\n",
      "|windows-vista            |320  |\n",
      "|categories               |304  |\n",
      "|wcf                      |1979 |\n",
      "|f#                       |842  |\n",
      "|sql                      |5140 |\n",
      "|soft-question            |397  |\n",
      "|reporting-services       |653  |\n",
      "|trigonometry             |1029 |\n",
      "|intellij-idea            |421  |\n",
      "|set-theory               |370  |\n",
      "|multivariable-calculus   |758  |\n",
      "|opencv                   |651  |\n",
      "|testing                  |312  |\n",
      "|scala                    |2135 |\n",
      "|lua                      |497  |\n",
      "|highcharts               |379  |\n",
      "|joomla                   |616  |\n",
      "|sharepoint               |1651 |\n",
      "|xml                      |674  |\n",
      "|sharepoint2010           |970  |\n",
      "|career-development       |363  |\n",
      "|sharepoint2007           |380  |\n",
      "|cocos2d-iphone           |405  |\n",
      "|sql-server               |4633 |\n",
      "|iis                      |484  |\n",
      "|pde                      |749  |\n",
      "|email                    |554  |\n",
      "|apache                   |581  |\n",
      "|analysis                 |1029 |\n",
      "|yii                      |511  |\n",
      "|selenium                 |437  |\n",
      "|menus                    |350  |\n",
      "|windows-phone-7          |2101 |\n",
      "|regex                    |4010 |\n",
      "|custom-post-types        |500  |\n",
      "|flex                     |1397 |\n",
      "|blackberry               |1602 |\n",
      "|playframework            |395  |\n",
      "|batch                    |371  |\n",
      "|ruby-on-rails-3          |2054 |\n",
      "|logic                    |815  |\n",
      "|graph-theory             |1238 |\n",
      "|complex-numbers          |409  |\n",
      "|sequences-and-series     |1374 |\n",
      "|facebook-graph-api       |522  |\n",
      "|iptables                 |383  |\n",
      "|rest                     |349  |\n",
      "|elementary-set-theory    |1183 |\n",
      "|ant                      |728  |\n",
      "|github                   |370  |\n",
      "|fourier-analysis         |393  |\n",
      "|nservicebus              |303  |\n",
      "|xslt                     |1764 |\n",
      "|homework                 |335  |\n",
      "|vim                      |3119 |\n",
      "|android-layout           |346  |\n",
      "|pdf                      |359  |\n",
      "|c++                      |15328|\n",
      "|hibernate                |1213 |\n",
      "|drupal                   |890  |\n",
      "|design-patterns          |545  |\n",
      "|wordpress                |2862 |\n",
      "|visual-studio            |1253 |\n",
      "|hard-drive               |382  |\n",
      "|jmeter                   |308  |\n",
      "|discrete-mathematics     |408  |\n",
      "|2007                     |383  |\n",
      "|xcode4                   |302  |\n",
      "|nginx                    |1186 |\n",
      "|iis7                     |487  |\n",
      "|wpf                      |2674 |\n",
      "|c                        |8479 |\n",
      "|algorithms               |580  |\n",
      "|redis                    |344  |\n",
      "|shell                    |762  |\n",
      "|codeigniter              |1206 |\n",
      "|coldfusion               |687  |\n",
      "|spring-mvc               |509  |\n",
      "|microsoft-excel          |1186 |\n",
      "|cakephp                  |1614 |\n",
      "|tikz-pgf                 |1765 |\n",
      "|integral                 |516  |\n",
      "|.htaccess                |1804 |\n",
      "|dojo                     |422  |\n",
      "|jsp                      |577  |\n",
      "|visual-studio-2008       |719  |\n",
      "|category-theory          |552  |\n",
      "|backup                   |328  |\n",
      "|google-chrome            |983  |\n",
      "|pgfplots                 |544  |\n",
      "|objective-c              |5107 |\n",
      "|web-part                 |359  |\n",
      "|iphone-sdk-4.0           |392  |\n",
      "|windows-server-2003      |521  |\n",
      "|fonts                    |510  |\n",
      "|probability              |3847 |\n",
      "|svn                      |2524 |\n",
      "|sql-server-2005          |1521 |\n",
      "|extjs                    |1279 |\n",
      "|extjs4                   |357  |\n",
      "|tfs                      |456  |\n",
      "|groovy                   |585  |\n",
      "|version-control          |426  |\n",
      "|statistics               |1228 |\n",
      "|maven-2                  |409  |\n",
      "|google-apps-script       |1009 |\n",
      "|c#-4.0                   |797  |\n",
      "|theme-development        |345  |\n",
      "|search                   |456  |\n",
      "|jqgrid                   |1035 |\n",
      "|tfs2010                  |302  |\n",
      "|differential-geometry    |972  |\n",
      "|visual-c++               |808  |\n",
      "|sqlite                   |549  |\n",
      "|commutative-algebra      |1074 |\n",
      "|abstract-algebra         |1809 |\n",
      "|linux                    |3219 |\n",
      "|ring-theory              |393  |\n",
      "|number-theory            |1563 |\n",
      "|asp.net-mvc              |4888 |\n",
      "|jsf                      |802  |\n",
      "|ffmpeg                   |418  |\n",
      "|vbscript                 |699  |\n",
      "|microsoft-word           |456  |\n",
      "|mercurial                |961  |\n",
      "|solr                     |855  |\n",
      "|networking               |1278 |\n",
      "|asp-classic              |629  |\n",
      "|scheme                   |340  |\n",
      "|development              |311  |\n",
      "|postfix                  |561  |\n",
      "|google-app-engine        |1428 |\n",
      "|sed                      |515  |\n",
      "|windows-xp               |871  |\n",
      "|sas                      |385  |\n",
      "|inno-setup               |321  |\n",
      "|maven                    |588  |\n",
      "|excel-vba                |861  |\n",
      "|knockout.js              |756  |\n",
      "|netbeans                 |302  |\n",
      "|math-mode                |322  |\n",
      "|stochastic-processes     |420  |\n",
      "|java                     |23751|\n",
      "|git                      |5796 |\n",
      "|r                        |5860 |\n",
      "|silverlight-4.0          |365  |\n",
      "|metric-spaces            |317  |\n",
      "|php                      |30664|\n",
      "|silverlight              |1670 |\n",
      "|measure-theory           |1241 |\n",
      "|comments                 |360  |\n",
      "|grails                   |1049 |\n",
      "|django                   |3130 |\n",
      "|.net                     |2031 |\n",
      "|unit-testing             |370  |\n",
      "|meteor                   |450  |\n",
      "|symbols                  |355  |\n",
      "|hadoop                   |559  |\n",
      "|sharepoint-designer      |437  |\n",
      "|matrices                 |868  |\n",
      "|optimization             |346  |\n",
      "|cmake                    |396  |\n",
      "|ipad                     |397  |\n",
      "|2010                     |660  |\n",
      "|vba                      |438  |\n",
      "|cassandra                |361  |\n",
      "|jquery-ajax              |456  |\n",
      "|differential-equations   |1729 |\n",
      "|probability-theory       |782  |\n",
      "|vb6                      |849  |\n",
      "|matlab                   |3246 |\n",
      "|functions                |871  |\n",
      "|msbuild                  |439  |\n",
      "|ios                      |2960 |\n",
      "|memory                   |387  |\n",
      "|python                   |16470|\n",
      "|assembly                 |455  |\n",
      "|notepad++                |385  |\n",
      "|rsync                    |355  |\n",
      "|active-directory         |694  |\n",
      "|ms-access                |1115 |\n",
      "|batch-file               |604  |\n",
      "|design                   |378  |\n",
      "|beamer                   |389  |\n",
      "|ssh                      |786  |\n",
      "|latex                    |567  |\n",
      "|complex-analysis         |2911 |\n",
      "|angularjs                |768  |\n",
      "|crystal-reports          |897  |\n",
      "|tables                   |504  |\n",
      "|facebook                 |2318 |\n",
      "|linear-algebra           |4436 |\n",
      "|flash                    |681  |\n",
      "|math                     |378  |\n",
      "|ruby-on-rails            |10066|\n",
      "|elementary-number-theory |1774 |\n",
      "|combinatorics            |2077 |\n",
      "|windows                  |1855 |\n",
      "|oracle                   |1263 |\n",
      "|algebraic-number-theory  |454  |\n",
      "|autohotkey               |365  |\n",
      "|spring-security          |302  |\n",
      "|erlang                   |736  |\n",
      "+-------------------------+-----+"
     ]
    }
   ],
   "source": [
    "tags.show(muliticlass_df.count(), truncate=False)"
   ]
  },
  {
   "cell_type": "code",
   "execution_count": 7,
   "id": "great-albert",
   "metadata": {},
   "outputs": [
    {
     "data": {
      "application/vnd.jupyter.widget-view+json": {
       "model_id": "70b1acc991fb4af1bfad2b6591485f8c",
       "version_major": 2,
       "version_minor": 0
      },
      "text/plain": [
       "VBox()"
      ]
     },
     "metadata": {},
     "output_type": "display_data"
    },
    {
     "data": {
      "application/vnd.jupyter.widget-view+json": {
       "model_id": "",
       "version_major": 2,
       "version_minor": 0
      },
      "text/plain": [
       "FloatProgress(value=0.0, bar_style='info', description='Progress:', layout=Layout(height='25px', width='50%'),…"
      ]
     },
     "metadata": {},
     "output_type": "display_data"
    },
    {
     "name": "stdout",
     "output_type": "stream",
     "text": [
      "345"
     ]
    }
   ],
   "source": [
    "tags.count()"
   ]
  },
  {
   "cell_type": "code",
   "execution_count": 8,
   "id": "single-repair",
   "metadata": {},
   "outputs": [
    {
     "data": {
      "application/vnd.jupyter.widget-view+json": {
       "model_id": "55bb20837b204c6c89f2d4f4592752a6",
       "version_major": 2,
       "version_minor": 0
      },
      "text/plain": [
       "VBox()"
      ]
     },
     "metadata": {},
     "output_type": "display_data"
    },
    {
     "data": {
      "application/vnd.jupyter.widget-view+json": {
       "model_id": "",
       "version_major": 2,
       "version_minor": 0
      },
      "text/plain": [
       "FloatProgress(value=0.0, bar_style='info', description='Progress:', layout=Layout(height='25px', width='50%'),…"
      ]
     },
     "metadata": {},
     "output_type": "display_data"
    },
    {
     "name": "stdout",
     "output_type": "stream",
     "text": [
      "617133"
     ]
    }
   ],
   "source": [
    "muliticlass_df.count()"
   ]
  },
  {
   "cell_type": "code",
   "execution_count": 9,
   "id": "annual-airplane",
   "metadata": {},
   "outputs": [
    {
     "data": {
      "application/vnd.jupyter.widget-view+json": {
       "model_id": "2ac7991ef2f24725af7d05d1d440f72e",
       "version_major": 2,
       "version_minor": 0
      },
      "text/plain": [
       "VBox()"
      ]
     },
     "metadata": {},
     "output_type": "display_data"
    },
    {
     "data": {
      "application/vnd.jupyter.widget-view+json": {
       "model_id": "",
       "version_major": 2,
       "version_minor": 0
      },
      "text/plain": [
       "FloatProgress(value=0.0, bar_style='info', description='Progress:', layout=Layout(height='25px', width='50%'),…"
      ]
     },
     "metadata": {},
     "output_type": "display_data"
    },
    {
     "name": "stdout",
     "output_type": "stream",
     "text": [
      "DataFrame[Text_array: string, Title: string, Body: string, Tags: string, Text_array_new: array<string>, Text_Vectors: vector, Tags_joined: string, count: bigint]"
     ]
    }
   ],
   "source": [
    "c='Tags'\n",
    "si = StringIndexer(inputCol=muliticlass_df.columns[3], outputCol=c + \"-num\")\n",
    "sm = si.fit(muliticlass_df)\n",
    "newdf = sm.transform(muliticlass_df).drop(c)\n",
    "newdf = newdf.withColumnRenamed(c + \"-num\", c)\n",
    "final_df.unpersist()"
   ]
  },
  {
   "cell_type": "code",
   "execution_count": 10,
   "id": "lightweight-reporter",
   "metadata": {},
   "outputs": [
    {
     "data": {
      "application/vnd.jupyter.widget-view+json": {
       "model_id": "e26d79ea818f49629dfced208f71049d",
       "version_major": 2,
       "version_minor": 0
      },
      "text/plain": [
       "VBox()"
      ]
     },
     "metadata": {},
     "output_type": "display_data"
    },
    {
     "data": {
      "application/vnd.jupyter.widget-view+json": {
       "model_id": "",
       "version_major": 2,
       "version_minor": 0
      },
      "text/plain": [
       "FloatProgress(value=0.0, bar_style='info', description='Progress:', layout=Layout(height='25px', width='50%'),…"
      ]
     },
     "metadata": {},
     "output_type": "display_data"
    },
    {
     "name": "stdout",
     "output_type": "stream",
     "text": [
      "+--------------------+----+\n",
      "|        Text_Vectors|Tags|\n",
      "+--------------------+----+\n",
      "|(20000,[19,20,30,...|25.0|\n",
      "|(20000,[2,66,73,9...|35.0|\n",
      "|(20000,[0,1,6,41,...|39.0|\n",
      "+--------------------+----+\n",
      "only showing top 3 rows"
     ]
    }
   ],
   "source": [
    "newdf.select('Text_Vectors', 'Tags').show(3)"
   ]
  },
  {
   "cell_type": "code",
   "execution_count": 11,
   "id": "sweet-adjustment",
   "metadata": {},
   "outputs": [
    {
     "data": {
      "application/vnd.jupyter.widget-view+json": {
       "model_id": "0c1cb2733fb041c39b052fbce1a3f7df",
       "version_major": 2,
       "version_minor": 0
      },
      "text/plain": [
       "VBox()"
      ]
     },
     "metadata": {},
     "output_type": "display_data"
    },
    {
     "data": {
      "application/vnd.jupyter.widget-view+json": {
       "model_id": "",
       "version_major": 2,
       "version_minor": 0
      },
      "text/plain": [
       "FloatProgress(value=0.0, bar_style='info', description='Progress:', layout=Layout(height='25px', width='50%'),…"
      ]
     },
     "metadata": {},
     "output_type": "display_data"
    }
   ],
   "source": [
    "splits = newdf.randomSplit([0.8, 0.2], seed=1)\n",
    "train=splits[0].cache()\n",
    "test=splits[1].cache()"
   ]
  },
  {
   "cell_type": "code",
   "execution_count": 12,
   "id": "threaded-building",
   "metadata": {},
   "outputs": [
    {
     "data": {
      "application/vnd.jupyter.widget-view+json": {
       "model_id": "d2a850501b3e4aa49249d58bf1e7502e",
       "version_major": 2,
       "version_minor": 0
      },
      "text/plain": [
       "VBox()"
      ]
     },
     "metadata": {},
     "output_type": "display_data"
    },
    {
     "data": {
      "application/vnd.jupyter.widget-view+json": {
       "model_id": "",
       "version_major": 2,
       "version_minor": 0
      },
      "text/plain": [
       "FloatProgress(value=0.0, bar_style='info', description='Progress:', layout=Layout(height='25px', width='50%'),…"
      ]
     },
     "metadata": {},
     "output_type": "display_data"
    }
   ],
   "source": [
    "train=train.select(col(\"Text_Vectors\").alias(\"features\"),col(\"Tags\").alias(\"label\")).cache()\n",
    "test=test.select(col(\"Text_Vectors\").alias(\"features\"),col(\"Tags\").alias(\"label\")).cache()"
   ]
  },
  {
   "cell_type": "markdown",
   "id": "gorgeous-chapter",
   "metadata": {},
   "source": [
    "## Logisitic Regression Performance"
   ]
  },
  {
   "cell_type": "code",
   "execution_count": 14,
   "id": "random-monthly",
   "metadata": {},
   "outputs": [
    {
     "data": {
      "application/vnd.jupyter.widget-view+json": {
       "model_id": "07acd24e009143698ae856e026f6ab5d",
       "version_major": 2,
       "version_minor": 0
      },
      "text/plain": [
       "VBox()"
      ]
     },
     "metadata": {},
     "output_type": "display_data"
    },
    {
     "data": {
      "application/vnd.jupyter.widget-view+json": {
       "model_id": "",
       "version_major": 2,
       "version_minor": 0
      },
      "text/plain": [
       "FloatProgress(value=0.0, bar_style='info', description='Progress:', layout=Layout(height='25px', width='50%'),…"
      ]
     },
     "metadata": {},
     "output_type": "display_data"
    },
    {
     "name": "stdout",
     "output_type": "stream",
     "text": [
      "Accuracy = 0.440775\n",
      "Time Performance:  34.879525661468506 seconds."
     ]
    }
   ],
   "source": [
    "start = time.time()\n",
    "\n",
    "lr = LogisticRegression(maxIter=5, regParam=0.3, elasticNetParam=0)\n",
    "lr_model = lr.fit(train)\n",
    "\n",
    "model_predictions = lr_model.transform(test)\n",
    "\n",
    "evaluator = MulticlassClassificationEvaluator(metricName=\"accuracy\")\n",
    "accuracy = evaluator.evaluate(model_predictions)\n",
    "print(\"Accuracy = %g\" % accuracy)\n",
    "\n",
    "print('Time Performance: ', time.time()-start, 'seconds.')"
   ]
  },
  {
   "cell_type": "markdown",
   "id": "assumed-testing",
   "metadata": {},
   "source": [
    "### Conclusion: \n",
    "- Accuracy = 0.440775\n",
    "- 2XL Cluster Performance about 35 Seconds"
   ]
  },
  {
   "cell_type": "code",
   "execution_count": null,
   "id": "studied-doctor",
   "metadata": {},
   "outputs": [],
   "source": []
  }
 ],
 "metadata": {
  "kernelspec": {
   "display_name": "PySpark",
   "language": "",
   "name": "pysparkkernel"
  },
  "language_info": {
   "codemirror_mode": {
    "name": "python",
    "version": 2
   },
   "mimetype": "text/x-python",
   "name": "pyspark",
   "pygments_lexer": "python2"
  }
 },
 "nbformat": 4,
 "nbformat_minor": 5
}
