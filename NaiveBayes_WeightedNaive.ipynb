{
 "cells": [
  {
   "cell_type": "code",
   "execution_count": 1,
   "id": "smart-verse",
   "metadata": {},
   "outputs": [
    {
     "data": {
      "application/vnd.jupyter.widget-view+json": {
       "model_id": "83d3f05684fc4fa296499f8b0e93e572",
       "version_major": 2,
       "version_minor": 0
      },
      "text/plain": [
       "VBox()"
      ]
     },
     "metadata": {},
     "output_type": "display_data"
    },
    {
     "name": "stdout",
     "output_type": "stream",
     "text": [
      "Starting Spark application\n"
     ]
    },
    {
     "data": {
      "text/html": [
       "<table>\n",
       "<tr><th>ID</th><th>YARN Application ID</th><th>Kind</th><th>State</th><th>Spark UI</th><th>Driver log</th><th>Current session?</th></tr><tr><td>2</td><td>application_1615313233588_0003</td><td>pyspark</td><td>idle</td><td><a target=\"_blank\" href=\"http://ip-172-31-26-125.us-west-2.compute.internal:20888/proxy/application_1615313233588_0003/\">Link</a></td><td><a target=\"_blank\" href=\"http://ip-172-31-24-165.us-west-2.compute.internal:8042/node/containerlogs/container_1615313233588_0003_01_000001/livy\">Link</a></td><td>✔</td></tr></table>"
      ],
      "text/plain": [
       "<IPython.core.display.HTML object>"
      ]
     },
     "metadata": {},
     "output_type": "display_data"
    },
    {
     "data": {
      "application/vnd.jupyter.widget-view+json": {
       "model_id": "",
       "version_major": 2,
       "version_minor": 0
      },
      "text/plain": [
       "FloatProgress(value=0.0, bar_style='info', description='Progress:', layout=Layout(height='25px', width='50%'),…"
      ]
     },
     "metadata": {},
     "output_type": "display_data"
    },
    {
     "name": "stdout",
     "output_type": "stream",
     "text": [
      "SparkSession available as 'spark'.\n"
     ]
    },
    {
     "data": {
      "application/vnd.jupyter.widget-view+json": {
       "model_id": "",
       "version_major": 2,
       "version_minor": 0
      },
      "text/plain": [
       "FloatProgress(value=0.0, bar_style='info', description='Progress:', layout=Layout(height='25px', width='50%'),…"
      ]
     },
     "metadata": {},
     "output_type": "display_data"
    }
   ],
   "source": [
    "from pyspark.sql import SparkSession\n",
    "from pyspark.sql.types import *\n",
    "from pyspark.sql import Row\n",
    "from pyspark.sql.functions import * \n",
    "from pyspark.ml.feature import StringIndexer\n",
    "from pyspark.ml.feature import OneHotEncoder\n",
    "from pyspark.ml.tuning import ParamGridBuilder\n",
    "from pyspark.ml.evaluation import MulticlassClassificationEvaluator\n",
    "from pyspark.ml.evaluation import BinaryClassificationEvaluator\n",
    "from pyspark.ml.tuning import CrossValidator\n",
    "from pyspark.ml.classification import RandomForestClassifier"
   ]
  },
  {
   "cell_type": "code",
   "execution_count": 2,
   "id": "fresh-stress",
   "metadata": {},
   "outputs": [
    {
     "data": {
      "application/vnd.jupyter.widget-view+json": {
       "model_id": "353e135221924fd1a315ee9e0b33758d",
       "version_major": 2,
       "version_minor": 0
      },
      "text/plain": [
       "VBox()"
      ]
     },
     "metadata": {},
     "output_type": "display_data"
    },
    {
     "data": {
      "application/vnd.jupyter.widget-view+json": {
       "model_id": "",
       "version_major": 2,
       "version_minor": 0
      },
      "text/plain": [
       "FloatProgress(value=0.0, bar_style='info', description='Progress:', layout=Layout(height='25px', width='50%'),…"
      ]
     },
     "metadata": {},
     "output_type": "display_data"
    }
   ],
   "source": [
    "ss = SparkSession.builder.config(\"spark.executor.memory\",\"20g\")\\\n",
    "                         .config(\"spark.driver.memory\",\"20g\")\\\n",
    "                         .config(\"spark.executor.cores\",6)\\\n",
    "                         .config('spark.executor.instances',8)\\\n",
    "                         .config(\"spark.driver.extraClassPath\", \"lib/sparknlp.jar\")\\\n",
    "                         .config(\"spark.driver.maxResultSize\",0)\\\n",
    "                         .config(\"spark.dynamicAllocation.enabled\",\"false\")\\\n",
    "                         .getOrCreate()\n",
    "sc = ss.sparkContext"
   ]
  },
  {
   "cell_type": "code",
   "execution_count": 3,
   "id": "animal-heaven",
   "metadata": {},
   "outputs": [
    {
     "data": {
      "application/vnd.jupyter.widget-view+json": {
       "model_id": "7e3b63b3b33e4edc85b8f62bd7f8324c",
       "version_major": 2,
       "version_minor": 0
      },
      "text/plain": [
       "VBox()"
      ]
     },
     "metadata": {},
     "output_type": "display_data"
    },
    {
     "data": {
      "application/vnd.jupyter.widget-view+json": {
       "model_id": "",
       "version_major": 2,
       "version_minor": 0
      },
      "text/plain": [
       "FloatProgress(value=0.0, bar_style='info', description='Progress:', layout=Layout(height='25px', width='50%'),…"
      ]
     },
     "metadata": {},
     "output_type": "display_data"
    }
   ],
   "source": [
    "final_df=ss.read.parquet(\"s3a://facebookmsds694/final_df.parquet\")"
   ]
  },
  {
   "cell_type": "code",
   "execution_count": 4,
   "id": "surface-pakistan",
   "metadata": {},
   "outputs": [
    {
     "data": {
      "application/vnd.jupyter.widget-view+json": {
       "model_id": "223fd72cced94931b202665eef5dfac9",
       "version_major": 2,
       "version_minor": 0
      },
      "text/plain": [
       "VBox()"
      ]
     },
     "metadata": {},
     "output_type": "display_data"
    },
    {
     "data": {
      "application/vnd.jupyter.widget-view+json": {
       "model_id": "",
       "version_major": 2,
       "version_minor": 0
      },
      "text/plain": [
       "FloatProgress(value=0.0, bar_style='info', description='Progress:', layout=Layout(height='25px', width='50%'),…"
      ]
     },
     "metadata": {},
     "output_type": "display_data"
    },
    {
     "name": "stdout",
     "output_type": "stream",
     "text": [
      "+--------------------+--------------------+--------------------+--------------------+--------------------+--------------------+--------------------+-----+\n",
      "|          Text_array|               Title|                Body|                Tags|      Text_array_new|        Text_Vectors|         Tags_joined|count|\n",
      "+--------------------+--------------------+--------------------+--------------------+--------------------+--------------------+--------------------+-----+\n",
      "|use,condit,given,...|how to use a whil...|<p>i am fetching ...|       php mysql sql|[use, condit, giv...|(20000,[0,1,9,22,...|       php mysql sql| 1649|\n",
      "|lose,day,random,a...|I lose each day a...|<p>Ok my problem ...|         probability|[lose, day, rando...|(20000,[19,20,30,...|         probability| 3847|\n",
      "|regard,painleve',...|Regarding Painlev...|<p>Painleve's fir...|    complex-analysis|[regard, painleve...|(20000,[2,66,73,9...|    complex-analysis| 2911|\n",
      "|contentel,part,vi...|Why ContentElemen...|<p>I was wonderin...|                 wpf|[contentel, part,...|(20000,[0,1,6,41,...|                 wpf| 2674|\n",
      "|best,practic,stor...|Best practices to...|<p>How do you guy...|        php security|[best, practic, s...|(20000,[0,134,174...|        php security|  407|\n",
      "|custom,cell,colum...|custom cell and c...|<p>Im using a cus...|              vb.net|[custom, cell, co...|(20000,[0,1,4,6,7...|              vb.net| 4265|\n",
      "|c,use,struct,use,...|In C#, when shoul...|<blockquote>\n",
      "  <p...|                  c#|[c, use, struct, ...|(20000,[0,1,25,49...|                  c#|22889|\n",
      "|defin,cursor,posi...|How can I define ...|<p>I wrote a <str...|          autohotkey|[defin, cursor, p...|(20000,[5,9,12,53...|          autohotkey|  365|\n",
      "|sampl,xml,configu...|Sample xml config...|<p>Are there any ...|          java log4j|[sampl, xml, conf...|(20000,[1,3,9,12,...|          java log4j|  370|\n",
      "|java,basic,progra...|Java - Basic prog...|<p>I need directi...|                java|[java, basic, pro...|(20000,[1,2,3,14,...|                java|23751|\n",
      "|javascript,dropdo...|Javascript DropDo...|<p>I was looking ...|          javascript|[javascript, drop...|(20000,[46,112,12...|          javascript|24995|\n",
      "|use,javascript,pl...|Use JavaScript to...|<p>What is the be...|          javascript|[use, javascript,...|(20000,[1,17,19,7...|          javascript|24995|\n",
      "|program,variabl,s...|Programming a var...|<p>I have a slide...|              iphone|[program, variabl...|(20000,[5,12,15,1...|              iphone|12552|\n",
      "|z-index,position:...|z-indexs for posi...|<p>I want to put ...|                 css|[z-index, positio...|(20000,[0,5,9,14,...|                 css| 8738|\n",
      "|much,\"data\",put,s...|How much \"data\" y...|<p>As programmers...|          c++ string|[much, \"data\", pu...|(20000,[1,6,13,21...|          c++ string|  509|\n",
      "|prove,addit,group...|Proving that addi...|<p>I switched my ...|abstract-algebra ...|[prove, addit, gr...|(20000,[1,7,8,12,...|abstract-algebra ...| 1114|\n",
      "|find,index,row,sq...|how to find index...|<p>How can i fetc...|      sql sql-server|[find, index, row...|(20000,[0,5,9,17,...|      sql sql-server| 3951|\n",
      "|io,set,screen,use...|ios settings scre...|<p>I'm trying to ...|     objective-c ios|[io, set, screen,...|(20000,[5,7,8,9,1...|     objective-c ios| 2075|\n",
      "|ad,new,root,git,d...|Adding new roots ...|<blockquote>\n",
      "  <p...|                 git|[ad, new, root, g...|(20000,[0,4,5,9,1...|                 git| 5796|\n",
      "|could,find,com_fa...|Could not find co...|<p>i am adding fa...|             android|[could, find, com...|(20000,[0,23,50,6...|             android|49783|\n",
      "+--------------------+--------------------+--------------------+--------------------+--------------------+--------------------+--------------------+-----+\n",
      "only showing top 20 rows"
     ]
    }
   ],
   "source": [
    "final_df.show()"
   ]
  },
  {
   "cell_type": "code",
   "execution_count": 5,
   "id": "offshore-commonwealth",
   "metadata": {},
   "outputs": [
    {
     "data": {
      "application/vnd.jupyter.widget-view+json": {
       "model_id": "073456ca967942379002c976b2c8872f",
       "version_major": 2,
       "version_minor": 0
      },
      "text/plain": [
       "VBox()"
      ]
     },
     "metadata": {},
     "output_type": "display_data"
    },
    {
     "data": {
      "application/vnd.jupyter.widget-view+json": {
       "model_id": "",
       "version_major": 2,
       "version_minor": 0
      },
      "text/plain": [
       "FloatProgress(value=0.0, bar_style='info', description='Progress:', layout=Layout(height='25px', width='50%'),…"
      ]
     },
     "metadata": {},
     "output_type": "display_data"
    }
   ],
   "source": [
    "filtered_df = final_df.withColumn(\"num_labels\",size(split(col('Tags'),\" \").cast(\"array<string>\"))).filter(col(\"num_labels\")==1)"
   ]
  },
  {
   "cell_type": "code",
   "execution_count": 6,
   "id": "rotary-gibraltar",
   "metadata": {},
   "outputs": [
    {
     "data": {
      "application/vnd.jupyter.widget-view+json": {
       "model_id": "a4d25f509af54568ab2d06ba76f26564",
       "version_major": 2,
       "version_minor": 0
      },
      "text/plain": [
       "VBox()"
      ]
     },
     "metadata": {},
     "output_type": "display_data"
    },
    {
     "data": {
      "application/vnd.jupyter.widget-view+json": {
       "model_id": "",
       "version_major": 2,
       "version_minor": 0
      },
      "text/plain": [
       "FloatProgress(value=0.0, bar_style='info', description='Progress:', layout=Layout(height='25px', width='50%'),…"
      ]
     },
     "metadata": {},
     "output_type": "display_data"
    }
   ],
   "source": [
    "filtered_df_cache=filtered_df.cache()"
   ]
  },
  {
   "cell_type": "code",
   "execution_count": 7,
   "id": "rocky-computer",
   "metadata": {},
   "outputs": [
    {
     "data": {
      "application/vnd.jupyter.widget-view+json": {
       "model_id": "f8c1a392f2a24153a84767172c8fa4b2",
       "version_major": 2,
       "version_minor": 0
      },
      "text/plain": [
       "VBox()"
      ]
     },
     "metadata": {},
     "output_type": "display_data"
    },
    {
     "data": {
      "application/vnd.jupyter.widget-view+json": {
       "model_id": "",
       "version_major": 2,
       "version_minor": 0
      },
      "text/plain": [
       "FloatProgress(value=0.0, bar_style='info', description='Progress:', layout=Layout(height='25px', width='50%'),…"
      ]
     },
     "metadata": {},
     "output_type": "display_data"
    },
    {
     "name": "stdout",
     "output_type": "stream",
     "text": [
      "617133"
     ]
    }
   ],
   "source": [
    "filtered_df_cache.count()"
   ]
  },
  {
   "cell_type": "code",
   "execution_count": 8,
   "id": "prepared-fighter",
   "metadata": {},
   "outputs": [
    {
     "data": {
      "application/vnd.jupyter.widget-view+json": {
       "model_id": "64615978b76447059785e022d4e758ac",
       "version_major": 2,
       "version_minor": 0
      },
      "text/plain": [
       "VBox()"
      ]
     },
     "metadata": {},
     "output_type": "display_data"
    },
    {
     "data": {
      "application/vnd.jupyter.widget-view+json": {
       "model_id": "",
       "version_major": 2,
       "version_minor": 0
      },
      "text/plain": [
       "FloatProgress(value=0.0, bar_style='info', description='Progress:', layout=Layout(height='25px', width='50%'),…"
      ]
     },
     "metadata": {},
     "output_type": "display_data"
    },
    {
     "name": "stdout",
     "output_type": "stream",
     "text": [
      "+--------------------+--------------------+--------------------+--------------------+--------------------+--------------------+-----+----------+-----+\n",
      "|          Text_array|               Title|                Body|      Text_array_new|        Text_Vectors|         Tags_joined|count|num_labels| Tags|\n",
      "+--------------------+--------------------+--------------------+--------------------+--------------------+--------------------+-----+----------+-----+\n",
      "|lose,day,random,a...|I lose each day a...|<p>Ok my problem ...|[lose, day, rando...|(20000,[19,20,30,...|         probability| 3847|         1| 25.0|\n",
      "|regard,painleve',...|Regarding Painlev...|<p>Painleve's fir...|[regard, painleve...|(20000,[2,66,73,9...|    complex-analysis| 2911|         1| 35.0|\n",
      "|contentel,part,vi...|Why ContentElemen...|<p>I was wonderin...|[contentel, part,...|(20000,[0,1,6,41,...|                 wpf| 2674|         1| 39.0|\n",
      "|custom,cell,colum...|custom cell and c...|<p>Im using a cus...|[custom, cell, co...|(20000,[0,1,4,6,7...|              vb.net| 4265|         1| 22.0|\n",
      "|c,use,struct,use,...|In C#, when shoul...|<blockquote>\n",
      "  <p...|[c, use, struct, ...|(20000,[0,1,25,49...|                  c#|22889|         1|  5.0|\n",
      "|defin,cursor,posi...|How can I define ...|<p>I wrote a <str...|[defin, cursor, p...|(20000,[5,9,12,53...|          autohotkey|  365|         1|294.0|\n",
      "|java,basic,progra...|Java - Basic prog...|<p>I need directi...|[java, basic, pro...|(20000,[1,2,3,14,...|                java|23751|         1|  4.0|\n",
      "|javascript,dropdo...|Javascript DropDo...|<p>I was looking ...|[javascript, drop...|(20000,[46,112,12...|          javascript|24995|         1|  3.0|\n",
      "|use,javascript,pl...|Use JavaScript to...|<p>What is the be...|[use, javascript,...|(20000,[1,17,19,7...|          javascript|24995|         1|  3.0|\n",
      "|program,variabl,s...|Programming a var...|<p>I have a slide...|[program, variabl...|(20000,[5,12,15,1...|              iphone|12552|         1|  9.0|\n",
      "|z-index,position:...|z-indexs for posi...|<p>I want to put ...|[z-index, positio...|(20000,[0,5,9,14,...|                 css| 8738|         1| 12.0|\n",
      "|ad,new,root,git,d...|Adding new roots ...|<blockquote>\n",
      "  <p...|[ad, new, root, g...|(20000,[0,4,5,9,1...|                 git| 5796|         1| 15.0|\n",
      "|could,find,com_fa...|Could not find co...|<p>i am adding fa...|[could, find, com...|(20000,[0,23,50,6...|             android|49783|         1|  0.0|\n",
      "|two,empti,list,eq...|Why are two empty...|<p>I thought call...|[two, empti, list...|(20000,[4,12,13,3...|                  c#|22889|         1|  5.0|\n",
      "|iphon,core,data,w...|iPhone , core dat...|<p>I have use cor...|[iphon, core, dat...|(20000,[1,5,20,25...|              iphone|12552|         1|  9.0|\n",
      "|identifi,three,ty...|Identify the thre...|<p>Identify the t...|[identifi, three,...|(20000,[32,54,86,...|           algorithm| 1838|         1| 59.0|\n",
      "|array,function,su...|array functions: ...|<p>We have a rath...|[array, function,...|(20000,[1,7,19,21...|               excel| 1197|         1| 99.0|\n",
      "|onclick=\"javascri...|onclick=\"javascri...|<p>Is there any d...|[onclick=\"javascr...|(20000,[1,21,60,1...|          javascript|24995|         1|  3.0|\n",
      "|can't,file,larger...|can't have a file...|<p>what makes it ...|[can't, file, lar...|(20000,[0,3,4,11,...|                java|23751|         1|  4.0|\n",
      "|help,identifi,pro...|Help identifying ...|<p>Can anyone ide...|[help, identifi, ...|(20000,[1,3,8,10,...|programming-langu...|  670|         1|174.0|\n",
      "+--------------------+--------------------+--------------------+--------------------+--------------------+--------------------+-----+----------+-----+\n",
      "only showing top 20 rows\n",
      "\n",
      "DataFrame[Text_array: string, Title: string, Body: string, Tags: string, Text_array_new: array<string>, Text_Vectors: vector, Tags_joined: string, count: bigint, num_labels: int]"
     ]
    }
   ],
   "source": [
    "c='Tags'\n",
    "si = StringIndexer(inputCol=c, outputCol=c + \"-num\")\n",
    "sm = si.fit(filtered_df_cache)\n",
    "newdf = sm.transform(filtered_df_cache).drop(c)\n",
    "newdf = newdf.withColumnRenamed(c + \"-num\", c)\n",
    "newdf.cache()\n",
    "newdf.show()\n",
    "filtered_df_cache.unpersist()"
   ]
  },
  {
   "cell_type": "code",
   "execution_count": 9,
   "id": "electoral-module",
   "metadata": {},
   "outputs": [
    {
     "data": {
      "application/vnd.jupyter.widget-view+json": {
       "model_id": "0deae5c15afd411d9f082a3821ef20b2",
       "version_major": 2,
       "version_minor": 0
      },
      "text/plain": [
       "VBox()"
      ]
     },
     "metadata": {},
     "output_type": "display_data"
    },
    {
     "data": {
      "application/vnd.jupyter.widget-view+json": {
       "model_id": "",
       "version_major": 2,
       "version_minor": 0
      },
      "text/plain": [
       "FloatProgress(value=0.0, bar_style='info', description='Progress:', layout=Layout(height='25px', width='50%'),…"
      ]
     },
     "metadata": {},
     "output_type": "display_data"
    }
   ],
   "source": [
    "sets = newdf.randomSplit([0.8, 0.2], seed = 100)\n",
    "train = sets[0].cache()\n",
    "valid = sets[1].cache()"
   ]
  },
  {
   "cell_type": "code",
   "execution_count": 10,
   "id": "built-destination",
   "metadata": {},
   "outputs": [
    {
     "data": {
      "application/vnd.jupyter.widget-view+json": {
       "model_id": "bab6f75d5b044a8bba1034d683440a3f",
       "version_major": 2,
       "version_minor": 0
      },
      "text/plain": [
       "VBox()"
      ]
     },
     "metadata": {},
     "output_type": "display_data"
    },
    {
     "data": {
      "application/vnd.jupyter.widget-view+json": {
       "model_id": "",
       "version_major": 2,
       "version_minor": 0
      },
      "text/plain": [
       "FloatProgress(value=0.0, bar_style='info', description='Progress:', layout=Layout(height='25px', width='50%'),…"
      ]
     },
     "metadata": {},
     "output_type": "display_data"
    },
    {
     "name": "stdout",
     "output_type": "stream",
     "text": [
      "+--------------------+--------------------+--------------------+--------------------+--------------------+--------------------+-----+----------+-----+\n",
      "|          Text_array|               Title|                Body|      Text_array_new|        Text_Vectors|         Tags_joined|count|num_labels| Tags|\n",
      "+--------------------+--------------------+--------------------+--------------------+--------------------+--------------------+-----+----------+-----+\n",
      "|\n",
      ",possibl,duplica...|<?= what does thi...|<blockquote>\n",
      "  <p...|[\n",
      ", possibl, dupl...|(20000,[0,18,53,6...|                 c++|15328|         1|  8.0|\n",
      "|\"!!\",oper,javascr...|What is the \"!!\" ...|<blockquote>\n",
      "  <p...|[\"!!\", oper, java...|(20000,[0,1,4,8,1...|          javascript|24995|         1|  3.0|\n",
      "|\"\".join(reversed(...|\"\".join(reversed(...|<p>So according t...|[\"\".join(reversed...|(20000,[50,139,22...|              python|16470|         1|  6.0|\n",
      "|\"#select,option:s...|$(\"#select option...|<p>I am able to k...|[\"#select, option...|(20000,[0,23,29,6...|              jquery|28079|         1|  2.0|\n",
      "|\"$x\\sim,iff,x,pow...|Is \"$x\\sim y$ iff...|<p>Let $p\\in\\math...|[\"$x\\sim, iff, x,...|(20000,[8,62,70,7...|elementary-set-th...| 1183|         1|102.0|\n",
      "|\"%vectorcast_dir%...|\"%VECTORCAST_DIR%...|<p>i am tryng to ...|[\"%vectorcast_dir...|(20000,[7,20,23,4...|              python|16470|         1|  6.0|\n",
      "|\"...\",mean,java,\n",
      "...|What does \"...\" m...|<blockquote>\n",
      "  <p...|[\"...\", mean, jav...|(20000,[0,6,57,69...|                java|23751|         1|  4.0|\n",
      "|\"/game/owner_id/1...|Why is \"/game/own...|<p>Question says ...|[\"/game/owner_id/...|(20000,[1,5,6,36,...|                rest|  349|         1|308.0|\n",
      "|\":>\",saw,postinst...|What does \":>\" do...|<p>I saw some pos...|[\":>\", saw, posti...|(20000,[0,11,17,1...|                bash| 2616|         1| 40.0|\n",
      "|\":not(script)\",de...|What does this do...|<p><strong>RESOLV...|[\":not(script)\", ...|(20000,[0,4,8,10,...|              jquery|28079|         1|  2.0|\n",
      "|\"?\",src,attribut,...|What is a \"?\" for...|<p>If this has be...|[\"?\", src, attrib...|(20000,[1,2,3,5,8...|          javascript|24995|         1|  3.0|\n",
      "|\"_instanc,this;\",...|What does \"_insta...|<p>I am taking ov...|[\"_instanc, this;...|(20000,[0,1,5,10,...|                  c#|22889|         1|  5.0|\n",
      "|\"agm-gam\",inequ,p...|An \"AGM-GAM\" ineq...|<p>For positive r...|[\"agm-gam\", inequ...|(20000,[76,248,25...|          inequality|  635|         1|181.0|\n",
      "|\"android.provider...|\"android.provider...|<p>I face really ...|[\"android.provide...|(20000,[0,4,6,8,1...|             android|49783|         1|  0.0|\n",
      "|\"cache\",cvwarpper...|\"cache\" cvWarpPer...|<p>I'm using the ...|[\"cache\", cvwarpp...|(20000,[1,8,12,20...|              opencv|  651|         1|178.0|\n",
      "|\"call,method,dire...|What does \"callin...|<p>I just went th...|[\"call, method, d...|(20000,[0,15,21,3...|      actionscript-3| 2153|         1| 46.0|\n",
      "|\"can't,call,yield...|\"Can't call yield...|<p>I'm using exte...|[\"can't, call, yi...|(20000,[0,1,4,5,6...|              meteor|  450|         1|231.0|\n",
      "|\"cannot,navig,def...|\"Cannot navigate ...|<p>I just switche...|[\"cannot, navig, ...|(20000,[2,4,6,7,2...|  visual-studio-2010| 1704|         1| 68.0|\n",
      "|\"che\",font,batang...|What is the \"Che\"...|<p>There is a fon...|[\"che\", font, bat...|(20000,[60,320,70...|               fonts|  510|         1|210.0|\n",
      "|\"chess\",problem,s...|     \"chess\" problem|<p>Suppose that w...|[\"chess\", problem...|(20000,[2,3,7,15,...|       combinatorics| 2077|         1| 49.0|\n",
      "+--------------------+--------------------+--------------------+--------------------+--------------------+--------------------+-----+----------+-----+\n",
      "only showing top 20 rows"
     ]
    }
   ],
   "source": [
    "train.show()"
   ]
  },
  {
   "cell_type": "code",
   "execution_count": 11,
   "id": "advisory-cross",
   "metadata": {},
   "outputs": [
    {
     "data": {
      "application/vnd.jupyter.widget-view+json": {
       "model_id": "588324601ac144dbbc09ae886755acfe",
       "version_major": 2,
       "version_minor": 0
      },
      "text/plain": [
       "VBox()"
      ]
     },
     "metadata": {},
     "output_type": "display_data"
    },
    {
     "data": {
      "application/vnd.jupyter.widget-view+json": {
       "model_id": "",
       "version_major": 2,
       "version_minor": 0
      },
      "text/plain": [
       "FloatProgress(value=0.0, bar_style='info', description='Progress:', layout=Layout(height='25px', width='50%'),…"
      ]
     },
     "metadata": {},
     "output_type": "display_data"
    },
    {
     "name": "stdout",
     "output_type": "stream",
     "text": [
      "+--------------------+--------------------+--------------------+--------------------+--------------------+--------------------+-----+----------+-----+\n",
      "|          Text_array|               Title|                Body|      Text_array_new|        Text_Vectors|         Tags_joined|count|num_labels| Tags|\n",
      "+--------------------+--------------------+--------------------+--------------------+--------------------+--------------------+-----+----------+-----+\n",
      "|\"$$q\",mean,perl,s...|What does \"$$q\" m...|<p>I was studying...|[\"$$q\", mean, per...|(20000,[10,31,32,...|                perl| 4070|         1| 23.0|\n",
      "|\"&\",i.e,symbol,an...|How to have \"&\" i...|<p>I want to have...|[\"&\", i.e, symbol...|(20000,[8,9,23,61...|             android|49783|         1|  0.0|\n",
      "|\"+\",\"@\",\"*\",mean,...|What do \"+\", \"@\" ...|<p>On the iReport...|[\"+\", \"@\", \"*\", m...|(20000,[0,100,127...|               xpath|  526|         1|203.0|\n",
      "|\".#filename\",emac...|What is \".#FILENA...|<blockquote>\n",
      "  <p...|[\".#filename\", em...|(20000,[0,3,7,19,...|               emacs| 1605|         1| 72.0|\n",
      "|\"@\",special,chara...|Is \"@\" a special ...|<p>I am working o...|[\"@\", special, ch...|(20000,[0,1,5,6,1...|               regex| 4010|         1| 24.0|\n",
      "|\"attempt,chang,va...|What does \"Attemp...|<pre><code>data _...|[\"attempt, chang,...|(20000,[26,29,35,...|                 sas|  385|         1|274.0|\n",
      "|\"calculus\",mean,g...|What does \"calcul...|<blockquote>\n",
      "  <p...|[\"calculus\", mean...|(20000,[0,69,97,2...|         terminology|  458|         1|223.0|\n",
      "|\"cd\",python,\"cd\",...|How do I \"cd\" in ...|<p>\"cd\" as in the...|[\"cd\", python, \"c...|(20000,[0,6,39,16...|              python|16470|         1|  6.0|\n",
      "|\"cdn,ssl,transact...|What is \"CDN SSL ...|<p>There are 2 CD...|[\"cdn, ssl, trans...|(20000,[0,26,42,4...|               azure|  639|         1|180.0|\n",
      "|\"context,menu\",up...|\"context menu\" up...|<p>I'm looking fo...|[\"context, menu\",...|(20000,[1,5,8,14,...|                 ftp|  362|         1|297.0|\n",
      "|\"continue\",use,ju...|How can a \"contin...|<p>Can someone pr...|[\"continue\", use,...|(20000,[1,75,195,...|                java|23751|         1|  4.0|\n",
      "|\"dictionary\",unde...|\"Dictionary\" Unde...|<p>I'm trying to ...|[\"dictionary\", un...|(20000,[0,1,2,7,8...|                   c| 8479|         1| 13.0|\n",
      "|\"error,notifi,pre...|\"Error notifying ...|<p>Help I got thi...|[\"error, notifi, ...|(20000,[0,1,10,15...|             eclipse| 1872|         1| 57.0|\n",
      "|\"find\",collect,co...|How to \"find\" a c...|<p>Hmmm I don't k...|[\"find\", collect,...|(20000,[0,4,5,9,2...|             mongodb| 1707|         1| 67.0|\n",
      "|\"grab,macro,argum...|\"Grab to #{\" macr...|<p>In <a href=\"ht...|[\"grab, macro, ar...|(20000,[1,6,12,19...|              macros|  455|         1|229.0|\n",
      "|\"http/1.1,401,una...|\"HTTP/1.1 401 Una...|<p>\"In Firefox, w...|[\"http/1.1, 401, ...|(20000,[1,7,23,24...|             firefox|  864|         1|127.0|\n",
      "|\"least\",common,mu...|\"Least\" common mu...|<blockquote>\n",
      "  <p...|[\"least\", common,...|(20000,[0,49,50,1...|          algorithms|  580|         1|190.0|\n",
      "|\"list,word,new,ar...|\"List<String> wor...|<p>I've posted a ...|[\"list, word, new...|(20000,[0,1,3,4,7...|                java|23751|         1|  4.0|\n",
      "|\"nice\",formula,su...|Is there a \"nice\"...|<p>I'm trying to ...|[\"nice\", formula,...|(20000,[5,6,7,8,1...|elementary-number...| 1774|         1| 63.0|\n",
      "|\"open,project\",bu...|\"Open Project\" bu...|<p>I have just do...|[\"open, project\",...|(20000,[0,79,89,9...|             eclipse| 1872|         1| 57.0|\n",
      "+--------------------+--------------------+--------------------+--------------------+--------------------+--------------------+-----+----------+-----+\n",
      "only showing top 20 rows\n",
      "\n",
      "DataFrame[Text_array: string, Title: string, Body: string, Text_array_new: array<string>, Text_Vectors: vector, Tags_joined: string, count: bigint, num_labels: int, Tags: double]"
     ]
    }
   ],
   "source": [
    "valid.show()\n",
    "newdf.unpersist()"
   ]
  },
  {
   "cell_type": "code",
   "execution_count": 12,
   "id": "progressive-traffic",
   "metadata": {},
   "outputs": [
    {
     "data": {
      "application/vnd.jupyter.widget-view+json": {
       "model_id": "7df0243897744990b9209260df10a214",
       "version_major": 2,
       "version_minor": 0
      },
      "text/plain": [
       "VBox()"
      ]
     },
     "metadata": {},
     "output_type": "display_data"
    },
    {
     "data": {
      "application/vnd.jupyter.widget-view+json": {
       "model_id": "",
       "version_major": 2,
       "version_minor": 0
      },
      "text/plain": [
       "FloatProgress(value=0.0, bar_style='info', description='Progress:', layout=Layout(height='25px', width='50%'),…"
      ]
     },
     "metadata": {},
     "output_type": "display_data"
    }
   ],
   "source": [
    "train=train.select(col(\"Text_Vectors\").alias(\"features\"),col(\"Tags\").alias(\"label\"),(col(\"count\")).alias(\"weights\"))\n",
    "valid=valid.select(col(\"Text_Vectors\").alias(\"features\"),col(\"Tags\").alias(\"label\"),(col(\"count\")).alias(\"weights\"))"
   ]
  },
  {
   "cell_type": "code",
   "execution_count": 13,
   "id": "sublime-windsor",
   "metadata": {},
   "outputs": [
    {
     "data": {
      "application/vnd.jupyter.widget-view+json": {
       "model_id": "5f8f725a6c69439fa73904cfa7c105c4",
       "version_major": 2,
       "version_minor": 0
      },
      "text/plain": [
       "VBox()"
      ]
     },
     "metadata": {},
     "output_type": "display_data"
    },
    {
     "data": {
      "application/vnd.jupyter.widget-view+json": {
       "model_id": "",
       "version_major": 2,
       "version_minor": 0
      },
      "text/plain": [
       "FloatProgress(value=0.0, bar_style='info', description='Progress:', layout=Layout(height='25px', width='50%'),…"
      ]
     },
     "metadata": {},
     "output_type": "display_data"
    },
    {
     "name": "stdout",
     "output_type": "stream",
     "text": [
      "+--------------------+-----+-------+\n",
      "|            features|label|weights|\n",
      "+--------------------+-----+-------+\n",
      "|(20000,[0,18,53,6...|  8.0|  15328|\n",
      "|(20000,[0,1,4,8,1...|  3.0|  24995|\n",
      "|(20000,[50,139,22...|  6.0|  16470|\n",
      "|(20000,[0,23,29,6...|  2.0|  28079|\n",
      "|(20000,[8,62,70,7...|102.0|   1183|\n",
      "|(20000,[7,20,23,4...|  6.0|  16470|\n",
      "|(20000,[0,6,57,69...|  4.0|  23751|\n",
      "|(20000,[1,5,6,36,...|308.0|    349|\n",
      "|(20000,[0,11,17,1...| 40.0|   2616|\n",
      "|(20000,[0,4,8,10,...|  2.0|  28079|\n",
      "|(20000,[1,2,3,5,8...|  3.0|  24995|\n",
      "|(20000,[0,1,5,10,...|  5.0|  22889|\n",
      "|(20000,[76,248,25...|181.0|    635|\n",
      "|(20000,[0,4,6,8,1...|  0.0|  49783|\n",
      "|(20000,[1,8,12,20...|178.0|    651|\n",
      "|(20000,[0,15,21,3...| 46.0|   2153|\n",
      "|(20000,[0,1,4,5,6...|231.0|    450|\n",
      "|(20000,[2,4,6,7,2...| 68.0|   1704|\n",
      "|(20000,[60,320,70...|210.0|    510|\n",
      "|(20000,[2,3,7,15,...| 49.0|   2077|\n",
      "+--------------------+-----+-------+\n",
      "only showing top 20 rows"
     ]
    }
   ],
   "source": [
    "train.unpersist()\n",
    "train.cache()\n",
    "train.show()\n"
   ]
  },
  {
   "cell_type": "code",
   "execution_count": 14,
   "id": "intimate-yahoo",
   "metadata": {},
   "outputs": [
    {
     "data": {
      "application/vnd.jupyter.widget-view+json": {
       "model_id": "039f234410eb49a294b691aa79d6ddd5",
       "version_major": 2,
       "version_minor": 0
      },
      "text/plain": [
       "VBox()"
      ]
     },
     "metadata": {},
     "output_type": "display_data"
    },
    {
     "data": {
      "application/vnd.jupyter.widget-view+json": {
       "model_id": "",
       "version_major": 2,
       "version_minor": 0
      },
      "text/plain": [
       "FloatProgress(value=0.0, bar_style='info', description='Progress:', layout=Layout(height='25px', width='50%'),…"
      ]
     },
     "metadata": {},
     "output_type": "display_data"
    },
    {
     "name": "stdout",
     "output_type": "stream",
     "text": [
      "+--------------------+-----+-------+\n",
      "|            features|label|weights|\n",
      "+--------------------+-----+-------+\n",
      "|(20000,[10,31,32,...| 23.0|   4070|\n",
      "|(20000,[8,9,23,61...|  0.0|  49783|\n",
      "|(20000,[0,100,127...|203.0|    526|\n",
      "|(20000,[0,3,7,19,...| 72.0|   1605|\n",
      "|(20000,[0,1,5,6,1...| 24.0|   4010|\n",
      "|(20000,[26,29,35,...|274.0|    385|\n",
      "|(20000,[0,69,97,2...|223.0|    458|\n",
      "|(20000,[0,6,39,16...|  6.0|  16470|\n",
      "|(20000,[0,26,42,4...|180.0|    639|\n",
      "|(20000,[1,5,8,14,...|297.0|    362|\n",
      "|(20000,[1,75,195,...|  4.0|  23751|\n",
      "|(20000,[0,1,2,7,8...| 13.0|   8479|\n",
      "|(20000,[0,1,10,15...| 57.0|   1872|\n",
      "|(20000,[0,4,5,9,2...| 67.0|   1707|\n",
      "|(20000,[1,6,12,19...|229.0|    455|\n",
      "|(20000,[1,7,23,24...|127.0|    864|\n",
      "|(20000,[0,49,50,1...|190.0|    580|\n",
      "|(20000,[0,1,3,4,7...|  4.0|  23751|\n",
      "|(20000,[5,6,7,8,1...| 63.0|   1774|\n",
      "|(20000,[0,79,89,9...| 57.0|   1872|\n",
      "+--------------------+-----+-------+\n",
      "only showing top 20 rows"
     ]
    }
   ],
   "source": [
    "valid.unpersist()\n",
    "valid.cache()\n",
    "valid.show()"
   ]
  },
  {
   "cell_type": "markdown",
   "id": "headed-input",
   "metadata": {},
   "source": [
    "## Naive Bayes"
   ]
  },
  {
   "cell_type": "code",
   "execution_count": null,
   "id": "champion-sampling",
   "metadata": {},
   "outputs": [],
   "source": [
    "## Shruti Roy \n",
    "from pyspark.ml.classification import NaiveBayes\n",
    "nb = NaiveBayes(smoothing=0.2)\n",
    "model=nb.fit(train)\n",
    "Nbpredict=model.transform(valid)"
   ]
  },
  {
   "cell_type": "code",
   "execution_count": 16,
   "id": "spoken-success",
   "metadata": {},
   "outputs": [
    {
     "data": {
      "application/vnd.jupyter.widget-view+json": {
       "model_id": "021d2b160df84309875605d6418b2340",
       "version_major": 2,
       "version_minor": 0
      },
      "text/plain": [
       "VBox()"
      ]
     },
     "metadata": {},
     "output_type": "display_data"
    },
    {
     "data": {
      "application/vnd.jupyter.widget-view+json": {
       "model_id": "",
       "version_major": 2,
       "version_minor": 0
      },
      "text/plain": [
       "FloatProgress(value=0.0, bar_style='info', description='Progress:', layout=Layout(height='25px', width='50%'),…"
      ]
     },
     "metadata": {},
     "output_type": "display_data"
    },
    {
     "name": "stdout",
     "output_type": "stream",
     "text": [
      "0.6702920044995749"
     ]
    }
   ],
   "source": [
    "from pyspark.ml.evaluation import MulticlassClassificationEvaluator\n",
    "evaluator = MulticlassClassificationEvaluator(predictionCol=\"prediction\")\n",
    "evaluator.evaluate(Nbpredict)"
   ]
  },
  {
   "cell_type": "markdown",
   "id": "pointed-deficit",
   "metadata": {},
   "source": [
    "## Weighted Naive Bayes "
   ]
  },
  {
   "cell_type": "code",
   "execution_count": 17,
   "id": "superior-undergraduate",
   "metadata": {},
   "outputs": [
    {
     "data": {
      "application/vnd.jupyter.widget-view+json": {
       "model_id": "b24b602067aa444e9d3cadf4a0162118",
       "version_major": 2,
       "version_minor": 0
      },
      "text/plain": [
       "VBox()"
      ]
     },
     "metadata": {},
     "output_type": "display_data"
    },
    {
     "data": {
      "application/vnd.jupyter.widget-view+json": {
       "model_id": "",
       "version_major": 2,
       "version_minor": 0
      },
      "text/plain": [
       "FloatProgress(value=0.0, bar_style='info', description='Progress:', layout=Layout(height='25px', width='50%'),…"
      ]
     },
     "metadata": {},
     "output_type": "display_data"
    }
   ],
   "source": [
    "## Aneri Dand\n",
    "from pyspark.ml.classification import NaiveBayes\n",
    "nb = NaiveBayes(smoothing=0.2,weightCol=\"weights\")\n",
    "model=nb.fit(train)\n",
    "Nbpredict=model.transform(valid)"
   ]
  },
  {
   "cell_type": "code",
   "execution_count": 18,
   "id": "controlled-syndicate",
   "metadata": {},
   "outputs": [
    {
     "data": {
      "application/vnd.jupyter.widget-view+json": {
       "model_id": "fca36b502ef84d0cb4b3c14a246cb46e",
       "version_major": 2,
       "version_minor": 0
      },
      "text/plain": [
       "VBox()"
      ]
     },
     "metadata": {},
     "output_type": "display_data"
    },
    {
     "data": {
      "application/vnd.jupyter.widget-view+json": {
       "model_id": "",
       "version_major": 2,
       "version_minor": 0
      },
      "text/plain": [
       "FloatProgress(value=0.0, bar_style='info', description='Progress:', layout=Layout(height='25px', width='50%'),…"
      ]
     },
     "metadata": {},
     "output_type": "display_data"
    },
    {
     "name": "stdout",
     "output_type": "stream",
     "text": [
      "0.6964368955408561"
     ]
    }
   ],
   "source": [
    "from pyspark.ml.evaluation import MulticlassClassificationEvaluator\n",
    "evaluator = MulticlassClassificationEvaluator(predictionCol=\"prediction\")\n",
    "evaluator.evaluate(Nbpredict)"
   ]
  },
  {
   "cell_type": "code",
   "execution_count": 19,
   "id": "eligible-storm",
   "metadata": {},
   "outputs": [
    {
     "data": {
      "application/vnd.jupyter.widget-view+json": {
       "model_id": "9bc6ba4d3eea442295cf274d541d9c02",
       "version_major": 2,
       "version_minor": 0
      },
      "text/plain": [
       "VBox()"
      ]
     },
     "metadata": {},
     "output_type": "display_data"
    },
    {
     "data": {
      "application/vnd.jupyter.widget-view+json": {
       "model_id": "",
       "version_major": 2,
       "version_minor": 0
      },
      "text/plain": [
       "FloatProgress(value=0.0, bar_style='info', description='Progress:', layout=Layout(height='25px', width='50%'),…"
      ]
     },
     "metadata": {},
     "output_type": "display_data"
    }
   ],
   "source": [
    "train.unpersist()\n",
    "train=train.cache()\n",
    "valid=valid.unpersist()\n",
    "valid=valid.cache()"
   ]
  },
  {
   "cell_type": "code",
   "execution_count": null,
   "id": "southeast-suspect",
   "metadata": {},
   "outputs": [],
   "source": [
    "ss.stop()"
   ]
  },
  {
   "cell_type": "code",
   "execution_count": null,
   "id": "pointed-oxygen",
   "metadata": {},
   "outputs": [],
   "source": []
  }
 ],
 "metadata": {
  "kernelspec": {
   "display_name": "PySpark",
   "language": "",
   "name": "pysparkkernel"
  },
  "language_info": {
   "codemirror_mode": {
    "name": "python",
    "version": 2
   },
   "mimetype": "text/x-python",
   "name": "pyspark",
   "pygments_lexer": "python2"
  },
  "latex_envs": {
   "LaTeX_envs_menu_present": true,
   "autoclose": false,
   "autocomplete": true,
   "bibliofile": "biblio.bib",
   "cite_by": "apalike",
   "current_citInitial": 1,
   "eqLabelWithNumbers": true,
   "eqNumInitial": 1,
   "hotkeys": {
    "equation": "Ctrl-E",
    "itemize": "Ctrl-I"
   },
   "labels_anchors": false,
   "latex_user_defs": false,
   "report_style_numbering": false,
   "user_envs_cfg": false
  }
 },
 "nbformat": 4,
 "nbformat_minor": 5
}
